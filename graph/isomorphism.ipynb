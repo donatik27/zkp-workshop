{
 "cells": [
  {
   "cell_type": "markdown",
   "id": "d4bde784",
   "metadata": {},
   "source": [
    "# Graph Isomorphism\n",
    "\n",
    "In this chapter we construct a zero-knowledge protocol around graph isomorphism.\n",
    "\n",
    "This chapter is based on [a lecture from the Max Plank Institute for Informatics](https://resources.mpi-inf.mpg.de/departments/d1/teaching/ss13/gitcs/lecture9.pdf)."
   ]
  },
  {
   "cell_type": "markdown",
   "id": "3c8954df",
   "metadata": {},
   "source": [
    "# What is a graph? What is isomorphism?\n",
    "\n",
    "Here, a **graph** consists of nodes and edges. Nodes are points in space and edges are bridges between nodes. We usually assign labels to nodes and edges to better keep track of them.\n",
    "\n",
    "Two graphs are **isomorphic** if they have the same structure. Imagine I have a graph that shows me each country and the connections (edges) to its neighbors. Now I translate this graph into Japanese. The node labels have changed, but intuitively we know that the map is still the same. The node labels don't matter; what matters is the edges. In this example, the English and Japanese graph are isomorphic, because we can translate between the two.\n",
    "\n",
    "In general, two graphs are isomorphic if we can produce one from the other by translating their node labels. This translation is a 1-to-1 mapping of node labels and is called a **bijection**. Shuffling node labels is always a bijection.\n",
    "\n",
    "Given two very large random graphs, it is very hard to know if they are isomorphic. There is no known algorithm to quickly compute this (in polynomial time)."
   ]
  },
  {
   "cell_type": "markdown",
   "id": "b27ff670",
   "metadata": {},
   "source": [
    "# What is an interactive proof?\n",
    "\n",
    "Peggy and Victor are engaged in an interactive proof.\n",
    "\n",
    "There are two (random) graphs.\n",
    "\n",
    "Peggy thinks she knows a translation between both graphs, ergo that both graphs are isomorphic. She wants to prove that to Victor, without revealing the translation.\n",
    "\n",
    "Victor is sceptical and wants to see evidence. In particular he doesn't want to be convinced if Peggy is lying (there is no translation).\n",
    "\n",
    "Peggy wins if she convinces Victor. Victor wins by accepting only graphs that are actually isomorphic."
   ]
  },
  {
   "cell_type": "markdown",
   "id": "f38168f6",
   "metadata": {},
   "source": [
    "# Jupyter setup\n",
    "\n",
    "Run the following snippet to set up your jupyter notebook for the workshop."
   ]
  },
  {
   "cell_type": "code",
   "execution_count": null,
   "id": "df0042c6",
   "metadata": {},
   "outputs": [],
   "source": [
    "import os\n",
    "import sys\n",
    "\n",
    "# Add project root so we can import local modules\n",
    "root_dir = sys.path.append(\"..\")\n",
    "sys.path.append(root_dir)"
   ]
  },
  {
   "cell_type": "markdown",
   "id": "06db1912",
   "metadata": {},
   "source": [
    "# Graph Parameters\n",
    "\n",
    "Choose the number of nodes and the number of edges for the first graph.\n",
    "\n",
    "Feel free to experiment with different values."
   ]
  },
  {
   "cell_type": "code",
   "execution_count": null,
   "id": "0f2aa2ae",
   "metadata": {},
   "outputs": [],
   "source": [
    "import ipywidgets as widgets\n",
    "from IPython.display import display\n",
    "\n",
    "# You can adjust the sliders any time\n",
    "\n",
    "num_nodes = widgets.IntSlider(min=5, max=30, value=10, step=1, description=\"#Nodes\")\n",
    "num_edges = widgets.IntSlider(min=5, max=60, value=20, step=1, description=\"#Edges\")\n",
    "\n",
    "display(num_nodes)\n",
    "display(num_edges)"
   ]
  },
  {
   "cell_type": "markdown",
   "id": "b3585044",
   "metadata": {},
   "source": [
    "## First Graph\n",
    "\n",
    "Generate the first graph."
   ]
  },
  {
   "cell_type": "code",
   "execution_count": null,
   "id": "06490906",
   "metadata": {},
   "outputs": [],
   "source": [
    "import networkx as nx\n",
    "import matplotlib.pyplot as plt\n",
    "from local.graph import Mapping, random_graph, non_isomorphic_graph\n",
    "\n",
    "# Rerun this cell to regenerate the first graph\n",
    "\n",
    "graph1 = random_graph(num_nodes.value, num_edges.value)\n",
    "print(\"First graph\")\n",
    "nx.draw(graph1, with_labels=True)\n",
    "plt.show()"
   ]
  },
  {
   "cell_type": "markdown",
   "id": "4eb0d72d",
   "metadata": {},
   "source": [
    "# Scenario\n",
    "\n",
    "There are two scenarios in this interactive proof:\n",
    "\n",
    "1. **Peggy is honest** and knows a translation between both graphs. She hopes to convince Victor of the true statement that both graphs are isomorphic.\n",
    "2. **Peggy is lying** and doesn't actually know anything! It might even be that both graphs are not isomorphic, which means that there cannot exist a translation between them. Peggy still tries to fool Victor of the false statement that both graphs are isomorphic.\n",
    "\n",
    "Choose the good or the evil scenario. See how it affects the other cells further down."
   ]
  },
  {
   "cell_type": "code",
   "execution_count": null,
   "id": "643ba49f",
   "metadata": {},
   "outputs": [],
   "source": [
    "# You can adjust the selection any time\n",
    "# Make sure to re-generate the second graph afterwards\n",
    "\n",
    "is_isomorphic = widgets.Dropdown(\n",
    "    options=[\n",
    "        (\"Second graph isomorphic (honest Peggy 😇)\", True),\n",
    "        (\"Second graph not isomorphic (lying Peggy 😈)\", False)],\n",
    "    value=True,\n",
    "    description=\"Scenario:\",\n",
    ")\n",
    "is_isomorphic"
   ]
  },
  {
   "cell_type": "markdown",
   "id": "c15d52b9",
   "metadata": {},
   "source": [
    "# Second Graph\n",
    "\n",
    "Now generate the second graph. In the good scenario it is isomorphic to the first graph. In the evil scenario, it is not isomorphic."
   ]
  },
  {
   "cell_type": "code",
   "execution_count": null,
   "id": "40c33ad4",
   "metadata": {},
   "outputs": [],
   "source": [
    "# Rerun this cell to generate a new second graph\n",
    "# Rerun this cell after changing the scenario above\n",
    "\n",
    "if is_isomorphic.value:\n",
    "    from_1_to_2 = Mapping.shuffle_graph(graph1)\n",
    "    graph2 = from_1_to_2.apply_graph(graph1)\n",
    "    print(\"Second graph [isomorphic to first graph]\")\n",
    "    print(\"Translation: {}\".format(from_1_to_2))\n",
    "else:\n",
    "    graph2 = non_isomorphic_graph(graph1)\n",
    "    print(\"Second graph [not isomorphic to first graph]\")\n",
    "    # Unrelated random shuffling (lying Peggy)\n",
    "    from_1_to_2 = Mapping.shuffle_graph(graph1)\n",
    "    print(\"Fake translation: {}\".format(from_1_to_2))\n",
    "    \n",
    "nx.draw(graph2, with_labels=True)\n",
    "plt.show()"
   ]
  },
  {
   "cell_type": "markdown",
   "id": "d4b080be",
   "metadata": {},
   "source": [
    "# Protocol\n",
    "\n",
    "Now onto the meat; how does this proof work?\n",
    "\n",
    "Peggy randomly shuffles the graph one and sends the resulting shuffled graph to Victor.\n",
    "\n",
    "Victor randomly chooses between graph one or two.\n",
    "\n",
    "For graph one, Peggy sends the random shuffling from before.\n",
    "\n",
    "For graph two, she sends a more complicated bijection: She translates graph two back to graph one (which is possible if she knows a translation) and then applies the random shuffling on top of that.\n",
    "\n",
    "Victor translates his chosen graph using the bijection that Peggy sent. He checks if this translated graph is equal the shuffled graph that Peggy sent."
   ]
  },
  {
   "cell_type": "code",
   "execution_count": null,
   "id": "23b6d019",
   "metadata": {
    "scrolled": true
   },
   "outputs": [],
   "source": [
    "import random\n",
    "\n",
    "class Peggy:\n",
    "    def __init__(self, graph1: nx.Graph, from_1_to_2: Mapping):\n",
    "        self._graph1 = graph1\n",
    "        self._from_1_to_2 = from_1_to_2\n",
    "    \n",
    "    def shuffled_graph(self) -> nx.Graph:\n",
    "        self._shuffle = Mapping.shuffle_graph(self._graph1)\n",
    "        shuffled_graph1 = self._shuffle.apply_graph(self._graph1)\n",
    "        return shuffled_graph1\n",
    "    \n",
    "    def respond(self, index: int) -> Mapping:\n",
    "        if index == 0:\n",
    "            return self._shuffle\n",
    "        else:\n",
    "            assert index == 1\n",
    "            complex_shuffle = self._from_1_to_2.invert().and_then(self._shuffle)\n",
    "            return complex_shuffle\n",
    "\n",
    "\n",
    "class Victor:\n",
    "    def __init__(self, graph1: nx.Graph, graph2: nx.Graph):\n",
    "        self._graphs = [graph1, graph2]\n",
    "        \n",
    "    def random_index(self, shuffled_graph: nx.Graph) -> int:\n",
    "        self._shuffled_graph = shuffled_graph\n",
    "        self._index = random.randrange(0, 2)\n",
    "        return self._index\n",
    "    \n",
    "    def verify(self, shuffle: Mapping) -> bool:\n",
    "        another_shuffled_graph = shuffle.apply_graph(self._graphs[self._index])\n",
    "        # `self._shuffled_graph == another_shuffled_graph` compares pointers not data\n",
    "        return set(sorted(self._shuffled_graph.edges())) == set(sorted(another_shuffled_graph.edges()))"
   ]
  },
  {
   "cell_type": "markdown",
   "id": "48422c50",
   "metadata": {},
   "source": [
    "# Single Exchange\n",
    "\n",
    "Let's run a couple of exchanges to get familiar. Feel free to experiment with the graph parameters and the scenario. The system is random so there could be a different outcome next time you run with the same settings 😉"
   ]
  },
  {
   "cell_type": "code",
   "execution_count": null,
   "id": "7c1bca4f",
   "metadata": {},
   "outputs": [],
   "source": [
    "# Feel free to run this multiple times\n",
    "\n",
    "peggy = Peggy(graph1, from_1_to_2)\n",
    "victor = Victor(graph1, graph2)\n",
    "\n",
    "shuffled_graph = peggy.shuffled_graph()\n",
    "index = victor.random_index(shuffled_graph)\n",
    "response_shuffle = peggy.respond(index)\n",
    "\n",
    "# Victor is convinced\n",
    "if victor.verify(response_shuffle):\n",
    "    # Two graphs were isomorphic (good)\n",
    "    if is_isomorphic.value:\n",
    "        print(\"Convinced 👌 (expected)\")\n",
    "    # Two graphs were non-isomorphic (evil)\n",
    "    else:\n",
    "        print(\"Convinced 👌 (Victor was fooled)\")\n",
    "# Victor is not convinced\n",
    "else:\n",
    "    # Two graphs were isomorphic (good)\n",
    "    if is_isomorphic.value:\n",
    "        print(\"Not convinced... 🤨 (Peggy was dumb)\")\n",
    "    # Two graphs were non-isomorphic (evil)\n",
    "    else:\n",
    "        print(\"Not convinced... 🤨 (expected)\")"
   ]
  },
  {
   "cell_type": "markdown",
   "id": "9ea92bd8",
   "metadata": {},
   "source": [
    "# Completeness\n",
    "\n",
    "Does Peggy have a chance to convince Victor if she is honest? Let's run the protocol a couple of times and see how often she manages to convince him."
   ]
  },
  {
   "cell_type": "code",
   "execution_count": null,
   "id": "d9491ddf",
   "metadata": {},
   "outputs": [],
   "source": [
    "num_exchanges_complete = widgets.IntSlider(min=10, max=1000, value=10, step=10, description=\"#Exchanges\")\n",
    "num_exchanges_complete"
   ]
  },
  {
   "cell_type": "code",
   "execution_count": null,
   "id": "60792496",
   "metadata": {},
   "outputs": [],
   "source": [
    "from_1_to_3 = Mapping.shuffle_graph(graph1)\n",
    "graph3 = from_1_to_3.apply_graph(graph1)\n",
    "\n",
    "honest_peggy = Peggy(graph1, from_1_to_3)\n",
    "victor = Victor(graph1, graph3)\n",
    "\n",
    "peggy_success = 0\n",
    "\n",
    "for _ in range(num_exchanges_complete.value):\n",
    "    shuffled_graph = honest_peggy.shuffled_graph()\n",
    "    index = victor.random_index(shuffled_graph)\n",
    "    response_shuffle = honest_peggy.respond(index)\n",
    "\n",
    "    if victor.verify(response_shuffle):\n",
    "        peggy_success += 1\n",
    "        \n",
    "peggy_success_rate = peggy_success / num_exchanges_complete.value * 100\n",
    "\n",
    "print(\"Running {} exchanges\".format(num_exchanges_complete.value))\n",
    "print(\"Honest Peggy wins {0:0.2f}% of the time\".format(peggy_success_rate))\n",
    "print()\n",
    "\n",
    "assert peggy_success_rate == 100\n",
    "print(\"Peggy always wins if she is honest\")"
   ]
  },
  {
   "cell_type": "markdown",
   "id": "9c3c78bc",
   "metadata": {},
   "source": [
    "# Soundness\n",
    "\n",
    "Now, does Victor have a chance to expose Peggy if she is lying? This is not so easy, because in the original protocol there is actually a 50% chance that Victor is fooled!\n",
    "\n",
    "He challenges Peggy to provide a bijection based on a graph he chooses. If he chooses graph one, then Peggy can send him the random shuffling she generated. Anyone can do that! If he chooses graph two, then Peggy has to translate between graph one and two; that is the complicated part. She cannot do that unless she really knows a translation.\n",
    "\n",
    "There is an easy way to boost Victor's confidence: run the protocol for **multiple rounds**. Peggy randomly shuffles graph one, Victor chooses between graph one or two, Peggy responds; repeat. Each time the random values will be different. See how Victor gets to challenge Peggy once per round. If Peggy ever fails to meet Victor's challenge, then Victor rejects. The game is asymmetric: Peggy has to perform **every time** while Victor has to expose her cheating **only once**. He has a much easier time and thus gains in confidence.\n",
    "\n",
    "The chance that Victor gets fooled after `n` rounds is `0.5^i`, which decreases exponentially in `i`."
   ]
  },
  {
   "cell_type": "code",
   "execution_count": null,
   "id": "c74881a2",
   "metadata": {},
   "outputs": [],
   "source": [
    "num_exchanges_sound = widgets.IntSlider(min=10, max=1000, value=10, step=10, description=\"#Exchanges\")\n",
    "num_rounds = widgets.IntSlider(min=1, max=10, value=1, step=1, description=\"#Rounds\")\n",
    "\n",
    "display(num_exchanges_sound)\n",
    "display(num_rounds)"
   ]
  },
  {
   "cell_type": "code",
   "execution_count": null,
   "id": "fa919e3b",
   "metadata": {},
   "outputs": [],
   "source": [
    "graph4 = non_isomorphic_graph(graph1)\n",
    "# Random shuffle that does not translate between graphs 1 and 4\n",
    "from_1_to_4 = Mapping.shuffle_graph(graph1)\n",
    "\n",
    "lying_peggy = Peggy(graph1, from_1_to_4)\n",
    "victor = Victor(graph1, graph4)\n",
    "\n",
    "victor_success = 0\n",
    "\n",
    "for _ in range(num_exchanges_sound.value):\n",
    "    for _ in range(num_rounds.value):\n",
    "        shuffled_graph = lying_peggy.shuffled_graph()\n",
    "        index = victor.random_index(shuffled_graph)\n",
    "        response_shuffle = lying_peggy.respond(index)\n",
    "    \n",
    "        if not victor.verify(response_shuffle):\n",
    "            victor_success += 1\n",
    "            break\n",
    "            \n",
    "victor_success_rate = victor_success / num_exchanges_sound.value * 100\n",
    "\n",
    "print(\"Running {} exchanges with {} rounds each\".format(num_exchanges_sound.value, num_rounds.value))\n",
    "print(\"Victor wins against lying Peggy {0:0.2f}% of the time\".format(victor_success_rate))\n",
    "print()\n",
    "\n",
    "if victor_success_rate < 50:\n",
    "    print(\"Victor loses quite often for a small number of rounds\")\n",
    "elif victor_success_rate < 90:\n",
    "    print(\"Victor gains more confidence with each added round\")\n",
    "else:\n",
    "    print(\"At some point it is basically impossible to fool Victor\")"
   ]
  },
  {
   "cell_type": "markdown",
   "id": "7859e817",
   "metadata": {},
   "source": [
    "# Zero-Knowledge\n",
    "\n",
    "Does Victor learn anything about the secret translation from his exchange with Peggy?\n",
    "\n",
    "Peggy sends the shuffled version of one of the two graphs. Victor sends an index. Peggy sends a bijection that can be applied to the graph at Victor's index to produce the shuffled graph that she originally sent.\n",
    "\n",
    "It might seem complicated, but we can easily replicate the same behavior if we switch the order of steps:\n",
    "\n",
    "First we choose an index. Then we shuffle the graph at that index and reveal the resulting graph as well as the shuffling. Because all shufflings in the protocol have some inbuilt randomness, our fake transcripts should look real.\n",
    "\n",
    "Let's do a chi-square test to see if the real and fake transcripts follow the same distribution."
   ]
  },
  {
   "cell_type": "code",
   "execution_count": null,
   "id": "8a7b9bb0",
   "metadata": {},
   "outputs": [],
   "source": [
    "num_transcripts = widgets.IntSlider(min=1000, max=50000, value=10000, step=1000, description=\"#Transcripts\")\n",
    "num_transcripts"
   ]
  },
  {
   "cell_type": "code",
   "execution_count": null,
   "id": "d09b788b",
   "metadata": {
    "scrolled": false
   },
   "outputs": [],
   "source": [
    "from typing import Tuple\n",
    "import local.stats as stats\n",
    "\n",
    "# Make sure to run this for small graphs (adjust the graph parameters)\n",
    "# Large graphs can lead to errors\n",
    "# The list of critical chi-square values might be too short for the large number of degrees of freedom\n",
    "# Large graphs also require very many transcripts, which is slow\n",
    "\n",
    "peggy = Peggy(graph1, from_1_to_2)\n",
    "victor = Victor(graph1, graph2)\n",
    "\n",
    "def real_transcript() -> Tuple:\n",
    "    shuffled_graph = peggy.shuffled_graph()\n",
    "    index = victor.random_index(shuffled_graph)\n",
    "    response_shuffle = peggy.respond(index)\n",
    "\n",
    "    return tuple(shuffled_graph.edges()), index, tuple(response_shuffle)\n",
    "\n",
    "\n",
    "def fake_transcript() -> Tuple:\n",
    "    index = random.randrange(0, 2)\n",
    "\n",
    "    if index == 0:\n",
    "        shuffle = Mapping.shuffle_graph(graph1)\n",
    "        shuffled_graph = shuffle.apply_graph(graph1)\n",
    "        response_shuffle = shuffle\n",
    "    else:\n",
    "        shuffle = Mapping.shuffle_graph(graph2)\n",
    "        shuffled_graph = shuffle.apply_graph(graph2)\n",
    "        response_shuffle = shuffle\n",
    "\n",
    "    return tuple(shuffled_graph.edges()), index, tuple(response_shuffle)\n",
    "\n",
    "\n",
    "real_samples = [real_transcript() for _ in range(num_transcripts.value)]\n",
    "fake_samples = [fake_transcript() for _ in range(num_transcripts.value)]\n",
    "\n",
    "# The chi-square test is only valid if most bins are filled\n",
    "# Increase the number of transcripts if there are too many empty bins\n",
    "\n",
    "null_hypothesis = stats.chi_square_equal(real_samples, fake_samples)\n",
    "print()\n",
    "\n",
    "if null_hypothesis:\n",
    "    print(\"Real and fake transcripts are the same distribution.\")\n",
    "    print(\"Victor learns nothing 👌\")\n",
    "else:\n",
    "    print(\"Real and fake transcripts are different distributions.\")\n",
    "    print(\"Victor might learn something 😧\")\n",
    "\n",
    "stats.plot_comparison(real_samples, fake_samples, \"real\", \"fake\")"
   ]
  },
  {
   "cell_type": "code",
   "execution_count": null,
   "id": "8582e191",
   "metadata": {},
   "outputs": [],
   "source": []
  }
 ],
 "metadata": {
  "kernelspec": {
   "display_name": "Python 3 (ipykernel)",
   "language": "python",
   "name": "python3"
  },
  "language_info": {
   "codemirror_mode": {
    "name": "ipython",
    "version": 3
   },
   "file_extension": ".py",
   "mimetype": "text/x-python",
   "name": "python",
   "nbconvert_exporter": "python",
   "pygments_lexer": "ipython3",
   "version": "3.10.11"
  }
 },
 "nbformat": 4,
 "nbformat_minor": 5
}
