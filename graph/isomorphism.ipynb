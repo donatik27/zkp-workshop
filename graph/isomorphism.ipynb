{
 "cells": [
  {
   "cell_type": "markdown",
   "id": "d4bde784",
   "metadata": {},
   "source": [
    "# Graph Isomorphism\n",
    "\n",
    "In this chapter we construct a zero-knowledge protocol around graph isomorphism.\n",
    "\n",
    "This chapter is based on [a lecture from the Max Plank Institute for Informatics](https://resources.mpi-inf.mpg.de/departments/d1/teaching/ss13/gitcs/lecture9.pdf)."
   ]
  },
  {
   "cell_type": "markdown",
   "id": "3c8954df",
   "metadata": {},
   "source": [
    "# What is a graph?\n",
    "\n",
    "[A graph](https://en.wikipedia.org/wiki/Graph_(discrete_mathematics)) consists of nodes and edges. Nodes are points in space. Edges are bridges between nodes.\n",
    "\n",
    "# What is an isomorphism?\n",
    "\n",
    "[Two graphs are isomorphic](https://en.wikipedia.org/wiki/Graph_isomorphism) if they have the same structure. By changing the names of the nodes of the first graph, we can obtain the second graph, and vice versa. There exists a translation of node names.\n",
    "\n",
    "Given two large random graphs, it is hard to know if they are isomorphic. There is no known algorithm to efficiently compute this (in polynomial time)."
   ]
  },
  {
   "cell_type": "markdown",
   "id": "b27ff670",
   "metadata": {},
   "source": [
    "# What are we proving?\n",
    "\n",
    "Peggy and Victor are engaged in an interactive proof.\n",
    "\n",
    "There are two graphs.\n",
    "\n",
    "Peggy thinks she knows a translation between both graphs (both graphs are isomorphic). She wants to prove that to Victor, without revealing the translation.\n",
    "\n",
    "Victor is sceptical and wants to see evidence. He wants to expose Peggy as a liar if both graphs are structually different (non-isomorphic).\n",
    "\n",
    "Peggy wins if she convinces Victor. Victor wins by accepting only graphs that are isomorphic."
   ]
  },
  {
   "cell_type": "markdown",
   "id": "f38168f6",
   "metadata": {},
   "source": [
    "# Set up Jupyter\n",
    "\n",
    "Run the following snippet to set up your Jupyter notebook for the workshop."
   ]
  },
  {
   "cell_type": "code",
   "execution_count": null,
   "id": "df0042c6",
   "metadata": {},
   "outputs": [],
   "source": [
    "import os\n",
    "import sys\n",
    "\n",
    "# Add project root so we can import local modules\n",
    "root_dir = sys.path.append(\"..\")\n",
    "sys.path.append(root_dir)\n",
    "\n",
    "# Import here so cells don't depend on each other\n",
    "from IPython.display import display\n",
    "from typing import List, Tuple, Dict\n",
    "import ipywidgets as widgets\n",
    "import random\n",
    "import networkx as nx\n",
    "import matplotlib.pyplot as plt\n",
    "\n",
    "from local.graph import Mapping, random_graph, non_isomorphic_graph\n",
    "import local.stats as stats"
   ]
  },
  {
   "cell_type": "markdown",
   "id": "4eb0d72d",
   "metadata": {},
   "source": [
    "# Select the scenario\n",
    "\n",
    "Choose the good or the evil scenario. See how it affects the other cells further down.\n",
    "\n",
    "1. **Peggy is honest** 😇 She knows a translation between both graphs. She wants to convince Victor of a true statement.\n",
    "2. **Peggy is lying**  😈 She doesn't know a translation between both graphs! She tries to fool Victor into believing a false statement.\n",
    "\n",
    "Also select the **size of the graphs**."
   ]
  },
  {
   "cell_type": "code",
   "execution_count": null,
   "id": "643ba49f",
   "metadata": {},
   "outputs": [],
   "source": [
    "def generate_graphs(values: Dict):\n",
    "    global graph1, graph2, from_1_to_2\n",
    "    \n",
    "    n_edges = n_nodes_slider.value\n",
    "    graph1 = random_graph(n_nodes_slider.value, n_edges)\n",
    "\n",
    "    if honest_dropdown.value:\n",
    "        # Good: There is a translation between both graphs\n",
    "        from_1_to_2 = Mapping.shuffle_graph(graph1)\n",
    "        graph2 = from_1_to_2.apply_graph(graph1)\n",
    "    else:\n",
    "        # Evil: Both graphs are non-isomorphic\n",
    "        graph2 = non_isomorphic_graph(graph1)\n",
    "\n",
    "honest_dropdown = widgets.Dropdown(\n",
    "    options=[\n",
    "        (\"Peggy can translate 😇\", True),\n",
    "        (\"Peggy cannot translate 😈\", False)],\n",
    "    value=True,\n",
    "    description=\"Scenario:\",\n",
    ")\n",
    "honest_dropdown.observe(generate_graphs, names=\"value\")\n",
    "\n",
    "n_nodes_slider = widgets.IntSlider(min=4, max=20, value=4, step=1, description=\"#Nodes\")\n",
    "n_nodes_slider.observe(generate_graphs, names=\"value\")\n",
    "\n",
    "# Generate default values\n",
    "generate_graphs({})\n",
    "# Display selection\n",
    "display(honest_dropdown)\n",
    "display(n_nodes_slider)"
   ]
  },
  {
   "cell_type": "markdown",
   "id": "75513058",
   "metadata": {},
   "source": [
    "# Visualize your graphs\n",
    "\n",
    "Visualize the graphs you generated."
   ]
  },
  {
   "cell_type": "code",
   "execution_count": null,
   "id": "c3787e16",
   "metadata": {},
   "outputs": [],
   "source": [
    "print(\"Graph 1\")\n",
    "nx.draw(graph1, with_labels=True)\n",
    "plt.show()\n",
    "\n",
    "print(\"Graph 2\")\n",
    "nx.draw(graph2, with_labels=True)\n",
    "plt.show()"
   ]
  },
  {
   "cell_type": "markdown",
   "id": "d4b080be",
   "metadata": {},
   "source": [
    "# How the proof goes\n",
    "\n",
    "1. Peggy randomly shuffles graph 1 to obtain graph $S$.\n",
    "1. Peggy sends $S$ to Victor.\n",
    "1. Victor randomly chooses graph 1 or graph 2, to obtain graph $C$.\n",
    "1. Peggy computes a translation $t$ from $C$ graph to $S$.\n",
    "1. Victor checks that $t$ translates $C$ to $S$.\n",
    "\n",
    "How Peggy computes $t$ depends on Victor's choice:\n",
    "\n",
    "1. If Victor chooses graph 1, then $t$ is simply the shuffling from step 1. This translates graph 1 to $S$.\n",
    "1. If Victor chooses graph 2, then $t$ translates graph 2 to graph 1 and then it applies the shuffling from step 1. This translates graph 2 to graph 1 to $S$.\n",
    "\n",
    "If Peggy can translate between graph 1 and graph 2, then she can compute translations in both directions."
   ]
  },
  {
   "cell_type": "code",
   "execution_count": null,
   "id": "23b6d019",
   "metadata": {
    "scrolled": true
   },
   "outputs": [],
   "source": [
    "class Peggy:\n",
    "    def __init__(self, graph1: nx.Graph, from_1_to_2: Mapping):\n",
    "        self._graph1 = graph1\n",
    "        self._from_1_to_2 = from_1_to_2\n",
    "    \n",
    "    def shuffled_graph(self) -> nx.Graph:\n",
    "        self._shuffle = Mapping.shuffle_graph(self._graph1)\n",
    "        shuffled_graph1 = self._shuffle.apply_graph(self._graph1)\n",
    "        return shuffled_graph1\n",
    "    \n",
    "    def respond(self, index: int) -> Mapping:\n",
    "        if index == 0:\n",
    "            return self._shuffle\n",
    "        else:\n",
    "            assert index == 1\n",
    "            complex_shuffle = self._from_1_to_2.invert().and_then(self._shuffle)\n",
    "            return complex_shuffle\n",
    "\n",
    "\n",
    "class Victor:\n",
    "    def __init__(self, graph1: nx.Graph, graph2: nx.Graph):\n",
    "        self._graphs = [graph1, graph2]\n",
    "        \n",
    "    def random_index(self, shuffled_graph: nx.Graph) -> int:\n",
    "        self._shuffled_graph = shuffled_graph\n",
    "        self._index = random.randrange(0, 2)\n",
    "        return self._index\n",
    "    \n",
    "    def verify(self, shuffle: Mapping) -> bool:\n",
    "        another_shuffled_graph = shuffle.apply_graph(self._graphs[self._index])\n",
    "        # `self._shuffled_graph == another_shuffled_graph` compares pointers not data\n",
    "        return set(sorted(self._shuffled_graph.edges())) == set(sorted(another_shuffled_graph.edges()))"
   ]
  },
  {
   "cell_type": "markdown",
   "id": "48422c50",
   "metadata": {},
   "source": [
    "# Run the proof\n",
    "\n",
    "Let's see the proof in action.\n",
    "\n",
    "Run the Python code below and see what happens.\n",
    "\n",
    "The outcome depends on the scenario you picked. The outcome is also randomly different each time.\n",
    "\n",
    "Feel free to run the code multiple times!"
   ]
  },
  {
   "cell_type": "code",
   "execution_count": null,
   "id": "7c1bca4f",
   "metadata": {},
   "outputs": [],
   "source": [
    "peggy = Peggy(graph1, from_1_to_2)\n",
    "victor = Victor(graph1, graph2)\n",
    "\n",
    "shuffled_graph = peggy.shuffled_graph()\n",
    "index = victor.random_index(shuffled_graph)\n",
    "response_shuffle = peggy.respond(index)\n",
    "\n",
    "if victor.verify(response_shuffle):\n",
    "    if honest_dropdown.value:\n",
    "        print(\"Victor is convinced 👌 (expected)\")\n",
    "    else:\n",
    "        print(\"Victor is convinced 👌 (Victor was fooled)\")\n",
    "else:\n",
    "    if honest_dropdown.value:\n",
    "        print(\"Victor is not convinced... 🤨 (Peggy was dumb)\")\n",
    "    else:\n",
    "        print(\"Victor is not convinced... 🤨 (expected)\")"
   ]
  },
  {
   "cell_type": "markdown",
   "id": "9ea92bd8",
   "metadata": {},
   "source": [
    "# How the proof is complete\n",
    "\n",
    "If Peggy can translate between both graphs, then **Victor will always be convinced** by her proof.\n",
    "\n",
    "This is because Peggy is always able to produce a translation from $C$ to $S$.\n",
    "\n",
    "Let's run a couple of exchanges and see how they go."
   ]
  },
  {
   "cell_type": "code",
   "execution_count": null,
   "id": "d9491ddf",
   "metadata": {},
   "outputs": [],
   "source": [
    "n_exchanges_complete_slider = widgets.IntSlider(min=10, max=1000, value=10, step=10, description=\"#Exchanges\")\n",
    "n_exchanges_complete_slider"
   ]
  },
  {
   "cell_type": "code",
   "execution_count": null,
   "id": "60792496",
   "metadata": {},
   "outputs": [],
   "source": [
    "# Good scenario:\n",
    "# There is a translation between both graphs\n",
    "from_1_to_3 = Mapping.shuffle_graph(graph1)\n",
    "graph3 = from_1_to_3.apply_graph(graph1)\n",
    "\n",
    "honest_peggy = Peggy(graph1, from_1_to_3)\n",
    "victor = Victor(graph1, graph3)\n",
    "\n",
    "peggy_success = 0\n",
    "\n",
    "for _ in range(n_exchanges_complete_slider.value):\n",
    "    shuffled_graph = honest_peggy.shuffled_graph()\n",
    "    index = victor.random_index(shuffled_graph)\n",
    "    response_shuffle = honest_peggy.respond(index)\n",
    "\n",
    "    if victor.verify(response_shuffle):\n",
    "        peggy_success += 1\n",
    "        \n",
    "peggy_success_rate = peggy_success / n_exchanges_complete_slider.value * 100\n",
    "\n",
    "print(f\"Running {n_exchanges_complete_slider.value} exchanges.\")\n",
    "print(f\"Honest Peggy wins {peggy_success_rate:0.2f}% of the time.\")\n",
    "print()\n",
    "\n",
    "assert peggy_success_rate == 100\n",
    "print(\"Peggy always wins if she is honest.\")"
   ]
  },
  {
   "cell_type": "markdown",
   "id": "9c3c78bc",
   "metadata": {},
   "source": [
    "# How the proof is sound\n",
    "\n",
    "If Peggy cannot translate between both graphs, then **Victor has a chance to reject** her proof.\n",
    "\n",
    "Assuming that Victor randomly chooses between both graphs, Peggy has a 50% chance to produce a correct translation. This is the case when Victor chooses graph 1. Peggy learned how to translate graph 1 to $S$ in step 1!\n",
    "\n",
    "Peggy fails if Victor chooses graph 2, because translating from graph 2 to graph 1 requires Peggy to know the translation in the first place. This case occurs 50% of the time. The probabilities don't look great for Victor.\n",
    "\n",
    "We can increase Victor's confidence by running the protocol for **multiple rounds**. This means Peggy randomly shuffles and Victor randomly selects a graph multiple times. Each time, Peggy has to produce a translation from $C$ to $S$. Victor accepts if Peggy answered correctly **all** time times. However, he rejects if Peggy answers incorrectly **even once**.\n",
    "\n",
    "The chance that Peggy answers correctly for $n$ rounds, without being able to translate between both graphs, is $\\left(\\frac{1}{2}\\right)^n$. This decreases exponentially in $n$ and becomes tiny! If Peggy answers correctly, then Victor is confident that she didn't cheat.\n",
    "\n",
    "Let's run a couple of exchanges and see how they go."
   ]
  },
  {
   "cell_type": "code",
   "execution_count": null,
   "id": "c74881a2",
   "metadata": {},
   "outputs": [],
   "source": [
    "n_exchanges_sound_slider = widgets.IntSlider(min=10, max=1000, value=10, step=10, description=\"#Exchanges\")\n",
    "n_rounds_slider = widgets.IntSlider(min=1, max=10, value=1, step=1, description=\"#Rounds\")\n",
    "\n",
    "display(n_exchanges_sound_slider)\n",
    "display(n_rounds_slider)"
   ]
  },
  {
   "cell_type": "code",
   "execution_count": null,
   "id": "fa919e3b",
   "metadata": {},
   "outputs": [],
   "source": [
    "# Evil scenario:\n",
    "# Both graphs are non-isomorphic\n",
    "graph4 = non_isomorphic_graph(graph1)\n",
    "from_1_to_4 = Mapping.shuffle_graph(graph1)\n",
    "\n",
    "lying_peggy = Peggy(graph1, from_1_to_4)\n",
    "victor = Victor(graph1, graph4)\n",
    "\n",
    "victor_success = 0\n",
    "\n",
    "for _ in range(n_exchanges_sound_slider.value):\n",
    "    for _ in range(n_rounds_slider.value):\n",
    "        shuffled_graph = lying_peggy.shuffled_graph()\n",
    "        index = victor.random_index(shuffled_graph)\n",
    "        response_shuffle = lying_peggy.respond(index)\n",
    "    \n",
    "        if not victor.verify(response_shuffle):\n",
    "            victor_success += 1\n",
    "            break\n",
    "            \n",
    "victor_success_rate = victor_success / n_exchanges_sound_slider.value * 100\n",
    "\n",
    "print(f\"Running {n_exchanges_sound_slider.value} exchanges with {n_rounds_slider.value} rounds each.\")\n",
    "print(f\"Victor wins against lying Peggy {victor_success_rate:0.2f}% of the time.\")\n",
    "print()\n",
    "\n",
    "if victor_success_rate < 50:\n",
    "    print(\"Victor loses quite often for a small number of rounds.\")\n",
    "elif victor_success_rate < 90:\n",
    "    print(\"Victor gains more confidence with each added round.\")\n",
    "else:\n",
    "    print(\"At some point it is basically impossible to fool Victor.\")"
   ]
  },
  {
   "cell_type": "markdown",
   "id": "7859e817",
   "metadata": {},
   "source": [
    "# How the proof is zero-knowledge\n",
    "\n",
    "The proof itself looks like random noise. Nothing can be extracted from this noise.\n",
    "\n",
    "Everything that is sent over the wire is randomized:\n",
    "\n",
    "1. Peggy sends a randomly shuffled graph.\n",
    "1. Victor sends a random index.\n",
    "1. Peggy sends a translation which includes the random shuffling from step 1. This looks like a random mapping.\n",
    "\n",
    "We can replicate this pattern:\n",
    "\n",
    "1. Compute a random index (0 or 1).\n",
    "1. Randomly shuffle the graph at the index.\n",
    "1. Take the shuffling from step 2 as the translation.\n",
    "\n",
    "Victor verifies that $t$ translates $C$ to $S$.\n",
    "\n",
    "In the fake transcripts, $C$ is the graph at the index from step 1. $S$ is the result of step 2. By construction, $t$ from step 3 translates $C$ to $S$.\n",
    "\n",
    "Let's run a chi-square test to see if the original transcripts are distinguishable from the fake transcripts.\n",
    "\n",
    "**Try small graphs first!** They require fewer samples than large graphs."
   ]
  },
  {
   "cell_type": "code",
   "execution_count": null,
   "id": "8a7b9bb0",
   "metadata": {},
   "outputs": [],
   "source": [
    "n_transcripts_slider = widgets.IntSlider(min=1000, max=50000, value=10000, step=1000, description=\"#Transcripts\")\n",
    "n_transcripts_slider"
   ]
  },
  {
   "cell_type": "code",
   "execution_count": null,
   "id": "d09b788b",
   "metadata": {
    "scrolled": false
   },
   "outputs": [],
   "source": [
    "peggy = Peggy(graph1, from_1_to_2)\n",
    "victor = Victor(graph1, graph2)\n",
    "\n",
    "def real_transcript() -> Tuple:\n",
    "    shuffled_graph = peggy.shuffled_graph()\n",
    "    index = victor.random_index(shuffled_graph)\n",
    "    response_shuffle = peggy.respond(index)\n",
    "\n",
    "    return tuple(shuffled_graph.edges()), index, tuple(response_shuffle)\n",
    "\n",
    "\n",
    "def fake_transcript() -> Tuple:\n",
    "    index = random.randrange(0, 2)\n",
    "\n",
    "    if index == 0:\n",
    "        shuffle = Mapping.shuffle_graph(graph1)\n",
    "        shuffled_graph = shuffle.apply_graph(graph1)\n",
    "        response_shuffle = shuffle\n",
    "    else:\n",
    "        shuffle = Mapping.shuffle_graph(graph2)\n",
    "        shuffled_graph = shuffle.apply_graph(graph2)\n",
    "        response_shuffle = shuffle\n",
    "\n",
    "    return tuple(shuffled_graph.edges()), index, tuple(response_shuffle)\n",
    "\n",
    "\n",
    "real_samples = [real_transcript() for _ in range(n_transcripts_slider.value)]\n",
    "fake_samples = [fake_transcript() for _ in range(n_transcripts_slider.value)]\n",
    "\n",
    "null_hypothesis = stats.chi_square_equal(real_samples, fake_samples)\n",
    "print()\n",
    "\n",
    "if null_hypothesis:\n",
    "    print(\"Real and fake transcripts are the same distribution.\")\n",
    "    print(\"Victor learns nothing 👌\")\n",
    "else:\n",
    "    print(\"Real and fake transcripts are different distributions.\")\n",
    "    print(\"Victor might learn something 😧\")\n",
    "\n",
    "stats.plot_comparison(real_samples, fake_samples, \"real\", \"fake\")"
   ]
  },
  {
   "cell_type": "code",
   "execution_count": null,
   "id": "8582e191",
   "metadata": {},
   "outputs": [],
   "source": []
  }
 ],
 "metadata": {
  "kernelspec": {
   "display_name": "Python 3 (ipykernel)",
   "language": "python",
   "name": "python3"
  },
  "language_info": {
   "codemirror_mode": {
    "name": "ipython",
    "version": 3
   },
   "file_extension": ".py",
   "mimetype": "text/x-python",
   "name": "python",
   "nbconvert_exporter": "python",
   "pygments_lexer": "ipython3",
   "version": "3.10.12"
  }
 },
 "nbformat": 4,
 "nbformat_minor": 5
}
