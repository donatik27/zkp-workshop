{
 "cells": [
  {
   "cell_type": "markdown",
   "id": "4bb4afd6",
   "metadata": {},
   "source": [
    "# Graph non-isomorphism\n",
    "\n",
    "In this chapter we construct a zero-knowledge protocol around graph non-isomorphism.\n",
    "\n",
    "This chapter is based on [a lecture from the Max Plank Institute for Informatics](https://resources.mpi-inf.mpg.de/departments/d1/teaching/ss13/gitcs/lecture9.pdf)."
   ]
  },
  {
   "cell_type": "markdown",
   "id": "7a27c0ac",
   "metadata": {},
   "source": [
    "# What is a graph?\n",
    "\n",
    "[A graph](https://en.wikipedia.org/wiki/Graph_(discrete_mathematics)) consists of nodes and edges. Nodes are points in space. Edges are bridges between nodes.\n",
    "\n",
    "# What is an isomorphism?\n",
    "\n",
    "[Two graphs are isomorphic](https://en.wikipedia.org/wiki/Graph_isomorphism) if they have the same structure. By changing the names of the nodes of the first graph, we can obtain the second graph, and vice versa. There exists a translation of node names.\n",
    "\n",
    "Given two large random graphs, it is hard to know if they are isomorphic. There is no known algorithm to efficiently compute this (in polynomial time)."
   ]
  },
  {
   "cell_type": "markdown",
   "id": "34811593",
   "metadata": {},
   "source": [
    "# What are we proving?\n",
    "\n",
    "Peggy and Victor are engaged in an interactive proof.\n",
    "\n",
    "There are two graphs.\n",
    "\n",
    "Peggy thinks she can differentiate between both graphs (both graphs are non-isomorphic). She wants to prove that to Victor.\n",
    "\n",
    "Victor is sceptical and wants to see evidence. He wants to expose Peggy as a liar if both graphs are isomorphic.\n",
    "\n",
    "Peggy wins if she convinces Victor. Victor wins by accepting only graphs that are structually different."
   ]
  },
  {
   "cell_type": "markdown",
   "id": "d1b79ce1",
   "metadata": {},
   "source": [
    "# Set up Jupyter\n",
    "\n",
    "Run the following snippet to set up your Jupyter notebook for the workshop."
   ]
  },
  {
   "cell_type": "code",
   "execution_count": null,
   "id": "e6b8a39a",
   "metadata": {},
   "outputs": [],
   "source": [
    "import os\n",
    "import sys\n",
    "\n",
    "# Add project root so we can import local modules\n",
    "root_dir = sys.path.append(\"..\")\n",
    "sys.path.append(root_dir)\n",
    "\n",
    "# Import here so cells don't depend on each other\n",
    "from IPython.display import display\n",
    "from typing import List, Tuple, Dict\n",
    "import ipywidgets as widgets\n",
    "import random\n",
    "import networkx as nx\n",
    "import matplotlib.pyplot as plt\n",
    "\n",
    "from local.graph import Mapping, random_graph, non_isomorphic_graph\n",
    "import local.stats as stats"
   ]
  },
  {
   "cell_type": "markdown",
   "id": "8f903c4c",
   "metadata": {},
   "source": [
    "# Select the scenario\n",
    "\n",
    "Choose the good or the evil scenario. See how it affects the other cells further down.\n",
    "\n",
    "1. **Peggy is honest** 😇 She knows a way to differentiate both graphs. She wants to convince Victor of a true statement.\n",
    "2. **Peggy is lying**  😈 Both graphs actually look the same to her! She tries to fool Victor into believing a false statement.\n",
    "\n",
    "Also select the **size of the graphs**."
   ]
  },
  {
   "cell_type": "code",
   "execution_count": null,
   "id": "450b4872",
   "metadata": {},
   "outputs": [],
   "source": [
    "def generate_graphs(values: Dict):\n",
    "    global graph1, graph2, from_1_to_2\n",
    "    \n",
    "    n_edges = n_nodes_slider.value\n",
    "    graph1 = random_graph(n_nodes_slider.value, n_edges)\n",
    "\n",
    "    if honest_dropdown.value:\n",
    "        # Good: Both graphs are different\n",
    "        graph2 = non_isomorphic_graph(graph1)\n",
    "    else:\n",
    "        # Evil: Both graphs are isomorphic\n",
    "        from_1_to_2 = Mapping.shuffle_graph(graph1)\n",
    "        graph2 = from_1_to_2.apply_graph(graph1)\n",
    "\n",
    "honest_dropdown = widgets.Dropdown(\n",
    "    options=[\n",
    "        (\"Peggy can differentiate 😇\", True),\n",
    "        (\"Peggy cannot differentiate 😈\", False)],\n",
    "    value=True,\n",
    "    description=\"Scenario:\",\n",
    ")\n",
    "honest_dropdown.observe(generate_graphs, names=\"value\")\n",
    "\n",
    "n_nodes_slider = widgets.IntSlider(min=4, max=20, value=4, step=1, description=\"#Nodes\")\n",
    "n_nodes_slider.observe(generate_graphs, names=\"value\")\n",
    "\n",
    "# Generate default values\n",
    "generate_graphs({})\n",
    "# Display selection\n",
    "display(honest_dropdown)\n",
    "display(n_nodes_slider)"
   ]
  },
  {
   "cell_type": "markdown",
   "id": "b204164c",
   "metadata": {},
   "source": [
    "# Visualize your graphs\n",
    "\n",
    "Visualize the graphs you generated."
   ]
  },
  {
   "cell_type": "code",
   "execution_count": null,
   "id": "55793440",
   "metadata": {},
   "outputs": [],
   "source": [
    "print(\"Graph 1\")\n",
    "nx.draw(graph1, with_labels=True)\n",
    "plt.show()\n",
    "\n",
    "print(\"Graph 2\")\n",
    "nx.draw(graph2, with_labels=True)\n",
    "plt.show()"
   ]
  },
  {
   "cell_type": "markdown",
   "id": "2a76c669",
   "metadata": {},
   "source": [
    "# How the proof goes\n",
    "\n",
    "1. Victor randomly chooses graph 1 or 2 and shuffles it, to obtain graph $S$.\n",
    "1. Victor sends $S$ to Peggy.\n",
    "1. Peggy decides if $S$ came from graph 1 or 2 and sends her answer to Victor.\n",
    "1. Victor checks if Peggy answered correctly."
   ]
  },
  {
   "cell_type": "code",
   "execution_count": null,
   "id": "23b6d019",
   "metadata": {
    "scrolled": true
   },
   "outputs": [],
   "source": [
    "class Peggy:\n",
    "    def __init__(self, graph1: nx.Graph, graph2: nx.Graph):\n",
    "        self.graph1 = graph1\n",
    "        self.graph2 = graph2\n",
    "    \n",
    "    def distinguish(self, shuffled_graph: nx.Graph) -> nx.Graph:\n",
    "        if nx.is_isomorphic(self.graph1, shuffled_graph):\n",
    "            return 0\n",
    "        else:\n",
    "            assert nx.is_isomorphic(self.graph2, shuffled_graph)\n",
    "            return 1\n",
    "\n",
    "\n",
    "class Victor:\n",
    "    def __init__(self, graph1: nx.Graph, graph2: nx.Graph):\n",
    "        self.graphs = [graph1, graph2]\n",
    "    \n",
    "    def shuffled_graph(self) -> nx.Graph:\n",
    "        self.chosen_index = random.randrange(0, 2)\n",
    "        chosen_graph = self.graphs[self.chosen_index]\n",
    "        shuffle = Mapping.shuffle_graph(chosen_graph)\n",
    "        shuffled_graph = shuffle.apply_graph(chosen_graph)\n",
    "        \n",
    "        return shuffled_graph\n",
    "    \n",
    "    def verify(self, index: int) -> bool:\n",
    "        return index == self.chosen_index"
   ]
  },
  {
   "cell_type": "markdown",
   "id": "31bac646",
   "metadata": {},
   "source": [
    "# Run the proof\n",
    "\n",
    "Let's see the proof in action.\n",
    "\n",
    "Run the Python code below and see what happens.\n",
    "\n",
    "The outcome depends on the scenario you picked. The outcome is also randomly different each time.\n",
    "\n",
    "Feel free to run the code multiple times!"
   ]
  },
  {
   "cell_type": "code",
   "execution_count": null,
   "id": "7c1bca4f",
   "metadata": {},
   "outputs": [],
   "source": [
    "peggy = Peggy(graph1, graph2)\n",
    "victor = Victor(graph1, graph2)\n",
    "\n",
    "shuffled_graph = victor.shuffled_graph()\n",
    "index = peggy.distinguish(shuffled_graph)\n",
    "\n",
    "if victor.verify(index):\n",
    "    if honest_dropdown.value:\n",
    "        print(\"Victor is convinced 👌 (expected)\")\n",
    "    else:\n",
    "        print(\"Victor is convinced 👌 (Victor was fooled)\")\n",
    "else:\n",
    "    if honest_dropdown.value:\n",
    "        print(\"Victor is not convinced... 🤨 (Peggy was dumb)\")\n",
    "    else:\n",
    "        print(\"Victor is not convinced... 🤨 (expected)\")"
   ]
  },
  {
   "cell_type": "markdown",
   "id": "d5137a1f",
   "metadata": {},
   "source": [
    "# How the proof is complete\n",
    "\n",
    "If Peggy can differentiate between both graphs, then **Victor will always be convinced** by her proof.\n",
    "\n",
    "This is because Peggy is always able to answer which graph was shuffled.\n",
    "\n",
    "Let's run a couple of exchanges and see how they go."
   ]
  },
  {
   "cell_type": "code",
   "execution_count": null,
   "id": "71bb32b0",
   "metadata": {},
   "outputs": [],
   "source": [
    "n_exchanges_complete_slider = widgets.IntSlider(min=10, max=1000, value=10, step=10, description=\"#Exchanges\")\n",
    "n_exchanges_complete_slider"
   ]
  },
  {
   "cell_type": "code",
   "execution_count": null,
   "id": "60792496",
   "metadata": {},
   "outputs": [],
   "source": [
    "# Good scenario:\n",
    "# Both graphs are different\n",
    "graph3 = non_isomorphic_graph(graph1)\n",
    "\n",
    "honest_peggy = Peggy(graph1, graph3)\n",
    "victor = Victor(graph1, graph3)\n",
    "\n",
    "peggy_success = 0\n",
    "\n",
    "for _ in range(n_exchanges_complete_slider.value):\n",
    "    shuffled_graph = victor.shuffled_graph()\n",
    "    index = honest_peggy.distinguish(shuffled_graph)\n",
    "\n",
    "    if victor.verify(index):\n",
    "        peggy_success += 1\n",
    "        \n",
    "peggy_success_rate = peggy_success / n_exchanges_complete_slider.value * 100\n",
    "\n",
    "print(f\"Running {n_exchanges_complete_slider.value} exchanges.\")\n",
    "print(f\"Honest Peggy wins {peggy_success_rate:0.2f}% of the time.\")\n",
    "print()\n",
    "\n",
    "assert peggy_success_rate == 100\n",
    "print(\"Peggy always wins if she is honest.\")"
   ]
  },
  {
   "cell_type": "markdown",
   "id": "562c15df",
   "metadata": {},
   "source": [
    "# How the proof is sound\n",
    "\n",
    "If Peggy cannot differentiate both graphs, then **Victor has a chance to reject** her proof.\n",
    "\n",
    "Because there are two graphs, Peggy has a 50% chance to randomly guess the graph that Victor shuffled. This is not great.\n",
    "\n",
    "We can increase Victor's confidence by running the protocol for **multiple rounds**. This means Victor randomly selects and shuffles multiple times and Peggy has to answer which graph he shuffled. Victor accepts if Peggy answered correctly **all** time times. However, he rejects if Peggy answers incorrectly **even once**.\n",
    "\n",
    "The chance that Peggy randomly guesses correctly for $n$ rounds is $\\left(\\frac{1}{2}\\right)^n$, which decreases exponentially in $n$. This is tiny! If Peggy answers correctly, then Victor is confident that she didn't cheat.\n",
    "\n",
    "Let's run a couple of exchanges and see how they go."
   ]
  },
  {
   "cell_type": "code",
   "execution_count": null,
   "id": "34f80fd2",
   "metadata": {},
   "outputs": [],
   "source": [
    "n_exchanges_sound_slider = widgets.IntSlider(min=10, max=1000, value=10, step=10, description=\"#Exchanges\")\n",
    "n_rounds_slider = widgets.IntSlider(min=1, max=10, value=1, step=1, description=\"#Rounds\")\n",
    "\n",
    "display(n_exchanges_sound_slider)\n",
    "display(n_rounds_slider)"
   ]
  },
  {
   "cell_type": "code",
   "execution_count": null,
   "id": "fa919e3b",
   "metadata": {},
   "outputs": [],
   "source": [
    "# Evil scenario:\n",
    "# Both graphs are isomorphic\n",
    "from_1_to_4 = Mapping.shuffle_graph(graph1)\n",
    "graph4 = from_1_to_4.apply_graph(graph1)\n",
    "\n",
    "lying_peggy = Peggy(graph1, graph4)\n",
    "victor = Victor(graph1, graph4)\n",
    "\n",
    "victor_success = 0\n",
    "\n",
    "for _ in range(n_exchanges_sound_slider.value):\n",
    "    for _ in range(n_rounds_slider.value):\n",
    "        shuffled_graph = victor.shuffled_graph()\n",
    "        index = lying_peggy.distinguish(shuffled_graph)\n",
    "    \n",
    "        if not victor.verify(index):\n",
    "            victor_success += 1\n",
    "            break\n",
    "            \n",
    "victor_success_rate = victor_success / n_exchanges_sound_slider.value * 100\n",
    "\n",
    "print(f\"Running {n_exchanges_sound_slider.value} exchanges with {n_rounds_slider.value} rounds each.\")\n",
    "print(f\"Victor wins against lying Peggy {victor_success_rate:0.2f}% of the time.\")\n",
    "print()\n",
    "\n",
    "if victor_success_rate < 50:\n",
    "    print(\"Victor loses quite often for a small number of rounds.\")\n",
    "elif victor_success_rate < 90:\n",
    "    print(\"Victor gains more confidence with each added round.\")\n",
    "else:\n",
    "    print(\"At some point it is basically impossible to fool Victor.\")"
   ]
  },
  {
   "cell_type": "markdown",
   "id": "f38dca91",
   "metadata": {},
   "source": [
    "# How the proof is zero-knowledge\n",
    "\n",
    "The proof itself looks like random noise. Nothing can be extracted from this noise.\n",
    "\n",
    "Everything that is sent over the wire is randomized:\n",
    "\n",
    "1. Victor sends a randomly shuffled graph.\n",
    "1. Peggy sends an index which depends on Victor's random choice.\n",
    "\n",
    "We can replicate this pattern:\n",
    "\n",
    "1. Compute a random index (0 or 1).\n",
    "1. Randomly shuffle the graph at the index.\n",
    "\n",
    "Let's run a chi-square test to see if the original transcripts are distinguishable from the fake transcripts.\n",
    "\n",
    "**Try small graphs first!** They require fewer samples than large graphs."
   ]
  },
  {
   "cell_type": "code",
   "execution_count": null,
   "id": "8a7b9bb0",
   "metadata": {},
   "outputs": [],
   "source": [
    "n_transcripts_slider = widgets.IntSlider(min=1000, max=50000, value=10000, step=1000, description=\"#Transcripts\")\n",
    "n_transcripts_slider"
   ]
  },
  {
   "cell_type": "code",
   "execution_count": null,
   "id": "d09b788b",
   "metadata": {},
   "outputs": [],
   "source": [
    "peggy = Peggy(graph1, graph2)\n",
    "victor = Victor(graph1, graph2)\n",
    "\n",
    "def real_transcript() -> Tuple:\n",
    "    shuffled_graph = victor.shuffled_graph()\n",
    "    index = peggy.distinguish(shuffled_graph)\n",
    "    \n",
    "    return tuple(shuffled_graph.edges()), index\n",
    "\n",
    "\n",
    "def fake_transcript() -> Tuple:\n",
    "    index = random.randrange(0, 2)\n",
    "    chosen_graph = [graph1, graph2][index]\n",
    "    shuffle = Mapping.shuffle_graph(chosen_graph)\n",
    "    shuffled_graph = shuffle.apply_graph(chosen_graph)\n",
    "    \n",
    "    return tuple(shuffled_graph.edges()), index\n",
    "\n",
    "\n",
    "real_samples = [real_transcript() for _ in range(n_transcripts_slider.value)]\n",
    "fake_samples = [fake_transcript() for _ in range(n_transcripts_slider.value)]\n",
    "\n",
    "null_hypothesis = stats.chi_square_equal(real_samples, fake_samples)\n",
    "print()\n",
    "\n",
    "if null_hypothesis:\n",
    "    print(\"Real and fake transcripts are the same distribution.\")\n",
    "    print(\"Victor learns nothing 👌\")\n",
    "else:\n",
    "    print(\"Real and fake transcripts are different distributions.\")\n",
    "    print(\"Victor might learn something 😧\")\n",
    "\n",
    "stats.plot_comparison(real_samples, fake_samples, \"real\", \"fake\")"
   ]
  },
  {
   "cell_type": "code",
   "execution_count": null,
   "id": "304e2bb6",
   "metadata": {},
   "outputs": [],
   "source": []
  }
 ],
 "metadata": {
  "kernelspec": {
   "display_name": "Python 3 (ipykernel)",
   "language": "python",
   "name": "python3"
  },
  "language_info": {
   "codemirror_mode": {
    "name": "ipython",
    "version": 3
   },
   "file_extension": ".py",
   "mimetype": "text/x-python",
   "name": "python",
   "nbconvert_exporter": "python",
   "pygments_lexer": "ipython3",
   "version": "3.10.11"
  }
 },
 "nbformat": 4,
 "nbformat_minor": 5
}
