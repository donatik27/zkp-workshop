{
 "cells": [
  {
   "cell_type": "markdown",
   "id": "hindu-prevention",
   "metadata": {},
   "source": [
    "# Schnorr\n",
    "\n",
    "In our previous problem, the Prover tried to convince the Verifier of its knowledge of a graph three coloring.\n",
    "\n",
    "Now, the Prover claims that it knows a secret key that belongs to a given public key.\n",
    "\n",
    "A secret key is the discrete logarithm of the public key. The secret key is a scalar and the public key is a curve point."
   ]
  },
  {
   "cell_type": "markdown",
   "id": "7eb0a7c3",
   "metadata": {},
   "source": [
    "# The protocol\n",
    "\n",
    "Like before, the Verifier **challenges** the Prover. The Verifier accepts if the Prover **responds** in a satisfactory manner, indicating that it knows the secret key.\n",
    "\n",
    "Before that, the Prover makes a cryptographic **commitment**. This is like a black box that is opaque for the Verifier, but the Prover cannot change its contents without the Verifier noticing.\n",
    "\n",
    "This commitment is also called the public **nonce**, and it includes the secret nonce. The nonce hides the secret key in the Prover's response. Without hiding, the Verifier could easily extract the secret key. This process is similar to the random color mappings from before, but we didn't need a commitment for that.\n",
    "\n",
    "To summarize, there are three steps:\n",
    "\n",
    "1. Commitment\n",
    "2. Challenge\n",
    "3. Response\n",
    "\n",
    "_Protocols with these three steps are called \"Sigma protocols\"._"
   ]
  },
  {
   "cell_type": "markdown",
   "id": "ec7bc851",
   "metadata": {},
   "source": [
    "# Scary math\n",
    "\n",
    "If you can stand some math, here is the protocol in more detail. **Feel free to skip.**\n",
    "\n",
    "At the start of the protocol, the public key $P$ is known to all parties.\n",
    "\n",
    "1. Prover generates random scalar $k$ _(secret nonce)_ and computes point $R = k * G$ _(public nonce)_\n",
    "2. Prover sends $R$ to Verifier **(commitment)**\n",
    "3. Verifier generate random scalar $e$ **(challenge)** and sends it to Prover\n",
    "4. Prover computes $s = k + e * x$ **(response)** and sends it to Prover\n",
    "5. Verifier checks if $s * G \\overset{?}{=} R + e * P$ holds"
   ]
  },
  {
   "cell_type": "markdown",
   "id": "55c25495",
   "metadata": {},
   "source": [
    "# Implementation\n",
    "\n",
    "Here is an implementation in Python.\n",
    "\n",
    "**Don't stress over the details.** You don't have to understand why everything is there.\n",
    "\n",
    "Instead, let's focus on the flow of values from method to method.\n",
    "\n",
    "There is a public key. The Prover sends a commitment to the Verifier. The Verifier sends a challenge to the Prover. The Prover meets this challenge by responding to the Verifier. The Verifier verifies the response."
   ]
  },
  {
   "cell_type": "code",
   "execution_count": 24,
   "id": "solar-satisfaction",
   "metadata": {},
   "outputs": [],
   "source": [
    "from utils.curve import *\n",
    "\n",
    "class SchnorrProver:\n",
    "    def __init__(self):\n",
    "        self.x = Scalars.random_element()\n",
    "        \n",
    "    def pub_key(self):\n",
    "        P = ZZ(self.x) * One\n",
    "        return P\n",
    "    \n",
    "    def sec_key(self):\n",
    "        return self.x\n",
    "        \n",
    "    def commit(self):\n",
    "        self.k = Scalars.random_element()\n",
    "        R = ZZ(self.k) * One\n",
    "        return R\n",
    "    \n",
    "    def respond(self, e):\n",
    "        s = self.k + e * self.x\n",
    "        return s\n",
    "\n",
    "class SchnorrVerifier:\n",
    "    def __init__(self, P):\n",
    "        self.P = P\n",
    "    \n",
    "    def challenge(self, R):\n",
    "        self.R = R\n",
    "        self.e = Scalars.random_element()\n",
    "        return self.e\n",
    "    \n",
    "    def verify(self, s):\n",
    "        return ZZ(s) * One == self.R + ZZ(self.e) * self.P"
   ]
  },
  {
   "cell_type": "markdown",
   "id": "39bafd94",
   "metadata": {},
   "source": [
    "## Exercise\n",
    "\n",
    "Fill in the gaps in the following code to run the Schnorr protocol. Is your Verifier convinced of what the Prover claims?"
   ]
  },
  {
   "cell_type": "code",
   "execution_count": 14,
   "id": "c492d1f7",
   "metadata": {},
   "outputs": [
    {
     "ename": "AttributeError",
     "evalue": "'NoneType' object has no attribute 'xy'",
     "output_type": "error",
     "traceback": [
      "\u001b[0;31m---------------------------------------------------------------------------\u001b[0m",
      "\u001b[0;31mAttributeError\u001b[0m                            Traceback (most recent call last)",
      "Input \u001b[0;32mIn [14]\u001b[0m, in \u001b[0;36m<cell line: 5>\u001b[0;34m()\u001b[0m\n\u001b[1;32m      2\u001b[0m verifier \u001b[38;5;241m=\u001b[39m \u001b[38;5;28;01mNone\u001b[39;00m  \u001b[38;5;66;03m# TOOD: Change\u001b[39;00m\n\u001b[1;32m      4\u001b[0m P \u001b[38;5;241m=\u001b[39m \u001b[38;5;28;01mNone\u001b[39;00m  \u001b[38;5;66;03m# TODO: Change\u001b[39;00m\n\u001b[0;32m----> 5\u001b[0m \u001b[38;5;28mprint\u001b[39m(\u001b[38;5;124m\"\u001b[39m\u001b[38;5;124mP = \u001b[39m\u001b[38;5;132;01m{}\u001b[39;00m\u001b[38;5;124m\"\u001b[39m\u001b[38;5;241m.\u001b[39mformat(P\u001b[38;5;241m.\u001b[39mxy()))\n\u001b[1;32m      7\u001b[0m R \u001b[38;5;241m=\u001b[39m \u001b[38;5;28;01mNone\u001b[39;00m  \u001b[38;5;66;03m# TODO: Change\u001b[39;00m\n\u001b[1;32m      8\u001b[0m \u001b[38;5;28mprint\u001b[39m(\u001b[38;5;124m\"\u001b[39m\u001b[38;5;124mR = \u001b[39m\u001b[38;5;132;01m{}\u001b[39;00m\u001b[38;5;124m\"\u001b[39m\u001b[38;5;241m.\u001b[39mformat(R\u001b[38;5;241m.\u001b[39mxy()))\n",
      "\u001b[0;31mAttributeError\u001b[0m: 'NoneType' object has no attribute 'xy'"
     ]
    }
   ],
   "source": [
    "prover = None  # TODO: Change\n",
    "verifier = None  # TOOD: Change\n",
    "\n",
    "P = None  # TODO: Change\n",
    "print(\"P = {}\".format(P.xy()))\n",
    "\n",
    "R = None  # TODO: Change\n",
    "print(\"R = {}\".format(R.xy()))\n",
    "\n",
    "e = None  # TODO: Change\n",
    "print(\"e = {}\".format(e))\n",
    "\n",
    "s = None  # TODO: Change\n",
    "print(\"s = {}\\n\".format(s))\n",
    "\n",
    "if verifier.verify(s):\n",
    "    print(\"Convinced 👌\")\n",
    "else:\n",
    "    print(\"Not convinced... 🤨\")\n",
    "    \n",
    "# Sanity check\n",
    "x = prover.sec_key()\n",
    "assert ZZ(x) * One == P"
   ]
  },
  {
   "cell_type": "markdown",
   "id": "above-apache",
   "metadata": {},
   "source": [
    "# Is Schnorr complete?\n",
    "\n",
    "Does an honest Prover always convince the Verifier?\n",
    "\n",
    "I claim it is. There is a mathematical proof that I will gloss over. Let's do a fun experiment instead."
   ]
  },
  {
   "cell_type": "markdown",
   "id": "cardiovascular-ethics",
   "metadata": {},
   "source": [
    "## Exercise\n",
    "\n",
    "Run the following code as often as you want, until you are convinced that Schnorr always works. Feel free to randomize the Prover, too."
   ]
  },
  {
   "cell_type": "code",
   "execution_count": 10,
   "id": "electric-samba",
   "metadata": {},
   "outputs": [
    {
     "name": "stdout",
     "output_type": "stream",
     "text": [
      "Convinced yet? 😏\n"
     ]
    }
   ],
   "source": [
    "# Put these two lines into the loop body to randomize the Prover as well\n",
    "prover = SchnorrProver()\n",
    "P = prover.pub_key()\n",
    "\n",
    "for _ in range(0, None):  # TODO: Change\n",
    "    # Put the two lines below here\n",
    "    \n",
    "    verifier = SchnorrVerifier(P)\n",
    "    R = prover.commit()\n",
    "    e = verifier.challenge(R)\n",
    "    s = prover.respond(e)\n",
    "    \n",
    "    if not verifier.verify(s):\n",
    "        print(\"Oh oh! 😳\")\n",
    "        break\n",
    "\n",
    "print(\"Convinced yet? 😏\")"
   ]
  },
  {
   "cell_type": "markdown",
   "id": "honest-interest",
   "metadata": {},
   "source": [
    "# Is Schnorr sound?\n",
    "\n",
    "Is a vigilant Verifier safe from being convinced by a hishonest Prover?\n",
    "\n",
    "Does the Prover need to know the secret key for it to convince the Verifier?\n",
    "\n",
    "Yes to both questions. Check out this extraction algorithm.\n",
    "\n",
    "## Secret key extraction\n",
    "\n",
    "Recall that if we can extract the secret from the Prover, then the Prover must know it.\n",
    "\n",
    "1. Run the prover until it commits to $R$\n",
    "2. Copy the prover and rename into prover1 and prover2\n",
    "3. Send challenge $e_1$ to prover1\n",
    "4. Send different challenge $e_2$ to prover2\n",
    "5. Receive response $s_1$ from prover1\n",
    "6. Receive response $s_2$ from prover2\n",
    "7. Compute $x = \\frac{s_1 - s_2}{e_1 - e_2}$"
   ]
  },
  {
   "cell_type": "code",
   "execution_count": 44,
   "id": "realistic-train",
   "metadata": {
    "scrolled": true
   },
   "outputs": [
    {
     "name": "stdout",
     "output_type": "stream",
     "text": [
      "extracted x = 685\n",
      "\n",
      "Extraction successful 😈\n"
     ]
    }
   ],
   "source": [
    "import copy\n",
    "\n",
    "def extractor(prover):\n",
    "    # Run protocol until prover commits\n",
    "    P = prover.pub_key()\n",
    "    verifier = Verifier(P)\n",
    "    R = prover.commit()\n",
    "    \n",
    "    # Copy prover into prover1 and prover2\n",
    "    prover1 = copy.copy(prover)\n",
    "    prover2 = copy.copy(prover)\n",
    "    \n",
    "    # Challenge both provers with different challenges\n",
    "    e1 = verifier.challenge(R)\n",
    "    e2 = e1\n",
    "    while e1 == e2:\n",
    "        e2 = verifier.challenge(R)\n",
    "    \n",
    "    # Get both provers' responses\n",
    "    s1 = prover1.respond(e1)\n",
    "    s2 = prover2.respond(e2)\n",
    "    \n",
    "    # Extract the private key using the above formula\n",
    "    extracted_x = (s1 - s2) / (e1 - e2)\n",
    "    return extracted_x\n",
    "\n",
    "\n",
    "# Let's see the extractor in action\n",
    "prover = Prover()\n",
    "extracted_x = extractor(prover)\n",
    "print(\"extracted x = {}\\n\".format(extracted_x))\n",
    "\n",
    "# Sanity check\n",
    "x = prover.sec_key()\n",
    "if x == extracted_x:\n",
    "    print(\"Extraction successful 😈\")\n",
    "else:\n",
    "    print(\"I didn't believe in this extraction business from the get-go 🤨\")"
   ]
  },
  {
   "cell_type": "markdown",
   "id": "critical-candy",
   "metadata": {},
   "source": [
    "## Exercise\n",
    "\n",
    "Convince yourself that the extraction always works by running the following loop as many times as you want."
   ]
  },
  {
   "cell_type": "code",
   "execution_count": 12,
   "id": "anonymous-sterling",
   "metadata": {},
   "outputs": [
    {
     "ename": "TypeError",
     "evalue": "'NoneType' object cannot be interpreted as an integer",
     "output_type": "error",
     "traceback": [
      "\u001b[0;31m---------------------------------------------------------------------------\u001b[0m",
      "\u001b[0;31mTypeError\u001b[0m                                 Traceback (most recent call last)",
      "Input \u001b[0;32mIn [12]\u001b[0m, in \u001b[0;36m<cell line: 1>\u001b[0;34m()\u001b[0m\n\u001b[0;32m----> 1\u001b[0m \u001b[38;5;28;01mfor\u001b[39;00m _ \u001b[38;5;129;01min\u001b[39;00m \u001b[38;5;28mrange\u001b[39m(Integer(\u001b[38;5;241m0\u001b[39m), \u001b[38;5;28;01mNone\u001b[39;00m):  \u001b[38;5;66;03m# TODO: Change\u001b[39;00m\n\u001b[1;32m      2\u001b[0m     prover \u001b[38;5;241m=\u001b[39m Prover()\n\u001b[1;32m      3\u001b[0m     extracted_x \u001b[38;5;241m=\u001b[39m extractor(prover)\n",
      "\u001b[0;31mTypeError\u001b[0m: 'NoneType' object cannot be interpreted as an integer"
     ]
    }
   ],
   "source": [
    "for _ in range(0, None):  # TODO: Change\n",
    "    prover = Prover()\n",
    "    extracted_x = extractor(prover)\n",
    "    x = prover.sec_key()\n",
    "    \n",
    "    if x != extracted_x:\n",
    "        print(\"Oh oh! 😳\")\n",
    "        break\n",
    "\n",
    "print(\"Convinced yet? 😏\")"
   ]
  },
  {
   "cell_type": "markdown",
   "id": "alpine-coast",
   "metadata": {},
   "source": [
    "# Is Schnorr zero-knowledge?\n",
    "\n",
    "Does the Prover reveal any information about its secret key? After all, the signature is _some_ kind of information; it contains bits.\n",
    "\n",
    "I claim there is no leakage. Let's find out in another experiment."
   ]
  },
  {
   "cell_type": "markdown",
   "id": "83c26514",
   "metadata": {},
   "source": [
    "## Exercise\n",
    "\n",
    "Run the following code for some number of iterations to get a feeling for the real transcript distribution."
   ]
  },
  {
   "cell_type": "code",
   "execution_count": 22,
   "id": "alert-exhibit",
   "metadata": {
    "scrolled": true
   },
   "outputs": [
    {
     "data": {
      "image/png": "[encoded data removed]",
      "text/plain": [
       "<Figure size 640x480 with 1 Axes>"
      ]
     },
     "metadata": {},
     "output_type": "display_data"
    }
   ],
   "source": [
    "import matplotlib.pyplot as plt\n",
    "\n",
    "prover = SchnorrProver()\n",
    "P = prover.pub_key()\n",
    "\n",
    "def real_transcript():\n",
    "    verifier = SchnorrVerifier(P)\n",
    "    R = prover.commit()\n",
    "    e = verifier.challenge(R)\n",
    "    s = prover.respond(e)\n",
    "    return (R, e, s)\n",
    "\n",
    "def compress(R, e, s):\n",
    "    R_prime = int(One.discrete_log(R)) * number_points ** 2\n",
    "    e_prime = int(e) * number_points\n",
    "    s_prime = int(s)\n",
    "    return R_prime + e_prime + s_prime\n",
    "\n",
    "real_data = []\n",
    "\n",
    "for _ in range(0, None):  # TODO: Change\n",
    "    real_data.append(compress(*real_transcript()))\n",
    "    \n",
    "plt.hist(real_data)\n",
    "plt.show()"
   ]
  },
  {
   "cell_type": "markdown",
   "id": "331cab55",
   "metadata": {},
   "source": [
    "## Exercise\n",
    "\n",
    "Now run the following code to get a feeling for the fake distribution. This code knows nothing about the secret key. It generates two random elements and chooses a third element based on the first two. Compare with the real distribution."
   ]
  },
  {
   "cell_type": "code",
   "execution_count": 23,
   "id": "alive-button",
   "metadata": {},
   "outputs": [
    {
     "data": {
      "image/png": "[encoded data removed]",
      "text/plain": [
       "<Figure size 640x480 with 1 Axes>"
      ]
     },
     "metadata": {},
     "output_type": "display_data"
    }
   ],
   "source": [
    "def fake_transcript():\n",
    "    e = Scalars.random_element()\n",
    "    s = Scalars.random_element()\n",
    "    R = s * One - e * P\n",
    "    return (R, e, s)\n",
    "\n",
    "fake_data = []\n",
    "\n",
    "for _ in range(0, None):  # TODO: Change\n",
    "    fake_data.append(compress(*fake_transcript()))\n",
    "    \n",
    "plt.hist(fake_data)\n",
    "plt.show()"
   ]
  },
  {
   "cell_type": "code",
   "execution_count": null,
   "id": "medium-soundtrack",
   "metadata": {},
   "outputs": [],
   "source": []
  }
 ],
 "metadata": {
  "kernelspec": {
   "display_name": "SageMath 9.7",
   "language": "sagemath",
   "name": "sagemath"
  },
  "language_info": {
   "codemirror_mode": {
    "name": "ipython",
    "version": 3
   },
   "file_extension": ".py",
   "mimetype": "text/x-python",
   "name": "python",
   "nbconvert_exporter": "python",
   "pygments_lexer": "ipython3",
   "version": "3.10.11"
  }
 },
 "nbformat": 4,
 "nbformat_minor": 5
}
