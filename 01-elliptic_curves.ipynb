{
 "cells": [
  {
   "cell_type": "markdown",
   "id": "authentic-telling",
   "metadata": {},
   "source": [
    "# Elliptic curves TL;DR\n",
    "\n",
    "Elliptic curves are sets of points with group properties.\n",
    "The number of points is a prime number."
   ]
  },
  {
   "cell_type": "markdown",
   "id": "4aa3d591",
   "metadata": {},
   "source": [
    "# Coordinates\n",
    "\n",
    "Coordinates are natural numbers from zero up to some maximum (1009). They cannot be arbitrarily large. The maximum is equivalent to zero, one plus the maximum is equivalent to one, and so on (modulo)."
   ]
  },
  {
   "cell_type": "code",
   "execution_count": 15,
   "id": "bac12c30",
   "metadata": {},
   "outputs": [
    {
     "name": "stdout",
     "output_type": "stream",
     "text": [
      "Coordinates range from 0 to 1009\n",
      "\n",
      "x = 10\n",
      "y = 0\n",
      "x + y = 10\n"
     ]
    }
   ],
   "source": [
    "from utils.curve import *\n",
    "\n",
    "print(\"Coordinates range from 0 to {}\\n\".format(max_coordinate))\n",
    "\n",
    "x = Coordinates(10)\n",
    "print(\"x = {}\".format(x))\n",
    "\n",
    "y = Coordinates(max_coordinate)\n",
    "print(\"y = {}\".format(y))\n",
    "\n",
    "z = x + y\n",
    "print(\"x + y = {}\".format(z))"
   ]
  },
  {
   "cell_type": "markdown",
   "id": "sharp-rider",
   "metadata": {},
   "source": [
    "# Points\n",
    "\n",
    "Elements are points in 2D space. That is, they have x and y coordinates.\n",
    "\n",
    "We write points as uppercase letters like so: $A, B, C$."
   ]
  },
  {
   "cell_type": "code",
   "execution_count": 4,
   "id": "bigger-scheduling",
   "metadata": {},
   "outputs": [
    {
     "name": "stdout",
     "output_type": "stream",
     "text": [
      "A = (612, 175)\n",
      "B = (298, 476)\n",
      "C = (558, 436)\n"
     ]
    }
   ],
   "source": [
    "A = Curve.random_element()\n",
    "B = Curve.random_element()\n",
    "C = Curve.random_element()\n",
    "\n",
    "print(\"A = {}\".format(A.xy()))\n",
    "print(\"B = {}\".format(B.xy()))\n",
    "print(\"C = {}\".format(C.xy()))"
   ]
  },
  {
   "cell_type": "markdown",
   "id": "printable-cisco",
   "metadata": {},
   "source": [
    "# Group properties\n",
    "\n",
    "Group properties mean that points behave like integers.\n",
    "\n",
    "## Addition\n",
    "\n",
    "We can add two points $A$ and $B$ to obtain a sum point $A + B$.\n",
    "\n",
    "This is not simple addition of the x and y coordinates, so the result is different.\n",
    "\n",
    "_(Group operation)_"
   ]
  },
  {
   "cell_type": "code",
   "execution_count": 19,
   "id": "brief-consideration",
   "metadata": {},
   "outputs": [
    {
     "name": "stdout",
     "output_type": "stream",
     "text": [
      "A + B = (552, 834)\n"
     ]
    }
   ],
   "source": [
    "Sum = A + B\n",
    "print(\"A + B = {}\".format(Sum.xy()))"
   ]
  },
  {
   "cell_type": "markdown",
   "id": "convenient-encyclopedia",
   "metadata": {},
   "source": [
    "## Zero\n",
    "\n",
    "There is a zero point $O$ that behaves like the number zero: $A + O = O + A = A$ for any point $A$.\n",
    "\n",
    "$O$ doesn't have xy coordinates because it is the \"point at infinity\", but that is a technical detail.\n",
    "\n",
    "\"$O$\" looks a bit like \"0\" (zero).\n",
    "\n",
    "_(Additive identity)_"
   ]
  },
  {
   "cell_type": "code",
   "execution_count": 11,
   "id": "absent-microwave",
   "metadata": {},
   "outputs": [
    {
     "name": "stdout",
     "output_type": "stream",
     "text": [
      "Zero has no xy coordinates\n",
      "A + Zero = A\n",
      "Zero + A = A\n"
     ]
    }
   ],
   "source": [
    "try:\n",
    "    print(\"Zero = {}\".format(Zero.xy()))\n",
    "except:\n",
    "    print(\"Zero has no xy coordinates\")\n",
    "\n",
    "Sum1 = A + Zero\n",
    "Sum2 = Zero + A\n",
    "\n",
    "assert Sum1 == A\n",
    "print(\"A + Zero = A\")\n",
    "\n",
    "assert Sum2 == A\n",
    "print(\"Zero + A = A\")"
   ]
  },
  {
   "cell_type": "markdown",
   "id": "advance-preserve",
   "metadata": {},
   "source": [
    "## One\n",
    "\n",
    "There is a one point $I$ that behaves like the number one _(more on that later)_.\n",
    "\n",
    "\"$I$\" looks a bit like \"1\".\n",
    "\n",
    "_(Generator)_"
   ]
  },
  {
   "cell_type": "code",
   "execution_count": 12,
   "id": "regulation-column",
   "metadata": {},
   "outputs": [
    {
     "name": "stdout",
     "output_type": "stream",
     "text": [
      "One = (553, 978)\n"
     ]
    }
   ],
   "source": [
    "print(\"One = {}\".format(One.xy()))"
   ]
  },
  {
   "cell_type": "markdown",
   "id": "comfortable-breath",
   "metadata": {},
   "source": [
    "## Parentheses\n",
    "\n",
    "We can switch the parentheses around, or omit them altogether: $A + (B + C) = (A + B) + C = A + B + C$.\n",
    "\n",
    "_(Associative property)_"
   ]
  },
  {
   "cell_type": "code",
   "execution_count": 7,
   "id": "blocked-murray",
   "metadata": {},
   "outputs": [
    {
     "name": "stdout",
     "output_type": "stream",
     "text": [
      "A + (B + C) = (A + B) + C\n",
      "(A + B) + C = A + B + C\n"
     ]
    }
   ],
   "source": [
    "Sum1 = A + (B + C)\n",
    "Sum2 = (A + B) + C\n",
    "Sum3 = A + B + C\n",
    "\n",
    "assert Sum1 == Sum2\n",
    "print(\"A + (B + C) = (A + B) + C\")\n",
    "\n",
    "assert Sum2 == Sum3\n",
    "print(\"(A + B) + C = A + B + C\")"
   ]
  },
  {
   "cell_type": "markdown",
   "id": "competent-mobile",
   "metadata": {},
   "source": [
    "## Order\n",
    "\n",
    "We can switch the order of summands: $A + B = B + A$.\n",
    "\n",
    "_(Commutative property)_"
   ]
  },
  {
   "cell_type": "code",
   "execution_count": 8,
   "id": "secondary-fraud",
   "metadata": {},
   "outputs": [
    {
     "name": "stdout",
     "output_type": "stream",
     "text": [
      "A + B = B + A\n"
     ]
    }
   ],
   "source": [
    "Sum1 = A + B\n",
    "Sum2 = B + A\n",
    "\n",
    "assert Sum1 == Sum2\n",
    "print(\"A + B = B + A\")"
   ]
  },
  {
   "cell_type": "markdown",
   "id": "transparent-salem",
   "metadata": {},
   "source": [
    "## Minus\n",
    "\n",
    "There is a point $-A$ for each point $A$ such that $A + (-A) = O$. We can also write this as $A - A = O$.\n",
    "\n",
    "_(Additive inverses)_"
   ]
  },
  {
   "cell_type": "code",
   "execution_count": 10,
   "id": "apparent-humanitarian",
   "metadata": {},
   "outputs": [
    {
     "name": "stdout",
     "output_type": "stream",
     "text": [
      "MinusA = (612, 834)\n",
      "A + MinusA = Zero\n",
      "A - A = Zero\n"
     ]
    }
   ],
   "source": [
    "MinusA = -A\n",
    "print(\"MinusA = {}\".format(MinusA.xy()))\n",
    "\n",
    "Sum1 = A + MinusA\n",
    "Sum2 = A - A\n",
    "\n",
    "assert Sum1 == Zero\n",
    "print(\"A + MinusA = Zero\")\n",
    "\n",
    "assert Sum2 == Zero\n",
    "print(\"A - A = Zero\")"
   ]
  },
  {
   "cell_type": "markdown",
   "id": "a2dcb57d",
   "metadata": {},
   "source": [
    "# Number of points\n",
    "\n",
    "There are $n = 967$ points on the curve. This is a prime number, which has interesting consequences."
   ]
  },
  {
   "cell_type": "code",
   "execution_count": 20,
   "id": "541563d7",
   "metadata": {},
   "outputs": [
    {
     "name": "stdout",
     "output_type": "stream",
     "text": [
      "Number of points = 967\n",
      "967 is prime\n"
     ]
    }
   ],
   "source": [
    "print(\"Number of points = {}\".format(number_elements))\n",
    "\n",
    "assert number_elements.is_prime()\n",
    "print(\"{} is prime\".format(number_elements))"
   ]
  },
  {
   "cell_type": "markdown",
   "id": "preceding-option",
   "metadata": {},
   "source": [
    "# Iterating over the curve\n",
    "\n",
    "We can add the one point $I$ onto itself to get point $I + I$. Add another $I$ and we get point $I + I + I$. We continue like this to get \"larger and larger\" points $I + I + I + \\ldots + I + I + I$.\n",
    "\n",
    "Because the number $n$ of points is prime, we will reach **all** points on the curve.\n",
    "\n",
    "This means each point has a number. There is a first point $I$, a second $I + I$, a third $I + I + I$, ..., up until the $(n - 1)$th point. After that comes the zeroeth point $O$ again. The cycle repeats, like with the coordinates."
   ]
  },
  {
   "cell_type": "code",
   "execution_count": 1,
   "id": "victorian-angle",
   "metadata": {},
   "outputs": [
    {
     "ename": "NameError",
     "evalue": "name 'Zero' is not defined",
     "output_type": "error",
     "traceback": [
      "\u001b[0;31m---------------------------------------------------------------------------\u001b[0m",
      "\u001b[0;31mNameError\u001b[0m                                 Traceback (most recent call last)",
      "Input \u001b[0;32mIn [1]\u001b[0m, in \u001b[0;36m<cell line: 2>\u001b[0;34m()\u001b[0m\n\u001b[1;32m      1\u001b[0m number_repetitions \u001b[38;5;241m=\u001b[39m \u001b[38;5;28;01mNone\u001b[39;00m \u001b[38;5;66;03m# TODO: Change\u001b[39;00m\n\u001b[0;32m----> 2\u001b[0m A \u001b[38;5;241m=\u001b[39m Zero\n\u001b[1;32m      4\u001b[0m \u001b[38;5;28;01mfor\u001b[39;00m _ \u001b[38;5;129;01min\u001b[39;00m \u001b[38;5;28mrange\u001b[39m(Integer(\u001b[38;5;241m0\u001b[39m), number_repetitions):\n\u001b[1;32m      5\u001b[0m     A \u001b[38;5;241m=\u001b[39m A \u001b[38;5;241m+\u001b[39m One\n",
      "\u001b[0;31mNameError\u001b[0m: name 'Zero' is not defined"
     ]
    }
   ],
   "source": [
    "number_repetitions = None # TODO: Change\n",
    "A = Zero\n",
    "\n",
    "for _ in range(0, number_repetitions):\n",
    "    A = A + One\n",
    "    if A == Zero:\n",
    "        print(\"The cycle repeats\")\n",
    "\n",
    "print(\"The {}-th point is {}\".format(number_repetitions, A.xy()))"
   ]
  },
  {
   "cell_type": "markdown",
   "id": "united-independence",
   "metadata": {},
   "source": [
    "# Scalars and scalar multiplication\n",
    "\n",
    "Wouldn't it be nice to write additions $I + I + I + \\ldots + I + I + I$ as a multiplication $i * I$? This is what scalars are for. In this example, $i$ is a scalar.\n",
    "\n",
    "Because there are $n$ points on the curve, there are also $n$ scalars. If we add $I$ onto itself for $n + i$ times, that is the same as adding $I$ onto itself $i$ times. So scalars are the integers from zero to $n$.\n",
    "\n",
    "We write scalars as lowercase letters like so: $a, b, c$."
   ]
  },
  {
   "cell_type": "code",
   "execution_count": 28,
   "id": "published-canon",
   "metadata": {},
   "outputs": [
    {
     "name": "stdout",
     "output_type": "stream",
     "text": [
      "A = One + ... + One (i times) = i * One = B\n",
      "10 * One = (392, 131)\n",
      "817 * One = (832, 793)\n"
     ]
    }
   ],
   "source": [
    "# Run above iteration code first!\n",
    "\n",
    "B = number_repetitions * One\n",
    "\n",
    "assert A == B\n",
    "print(\"A = One + ... + One (i times) = i * One = B\")\n",
    "\n",
    "# There are some footguns using scalar multiplication in Sage:\n",
    "\n",
    "# ZZ(_) converts scalars into integers on the fly\n",
    "# Sagemath cannot natively mutiply points by scalars\n",
    "\n",
    "# C = Scalar(10) * One  # fails to run\n",
    "C = ZZ(Scalars(10)) * One  # runs\n",
    "print(\"10 * One = {}\".format(C.xy()))\n",
    "\n",
    "i = Scalars.random_element()\n",
    "# C = i * One  # fails to run\n",
    "C = ZZ(i) * One  # runs\n",
    "print(\"{} * One = {}\".format(i, C.xy()))"
   ]
  },
  {
   "cell_type": "markdown",
   "id": "convinced-toolbox",
   "metadata": {},
   "source": [
    "# Scalars are integers\n",
    "\n",
    "Like points, scalars behave like integers. We can even say, they _are_ integers.\n",
    "\n",
    "All the familiar laws about integers carry over the scalars. You can add, subtract, multiply, divide, raise to a power, ... all modulo $n$.\n",
    "\n",
    "_(Finite field of integers modulo $n$)_"
   ]
  },
  {
   "cell_type": "code",
   "execution_count": 30,
   "id": "massive-ecology",
   "metadata": {},
   "outputs": [
    {
     "name": "stdout",
     "output_type": "stream",
     "text": [
      "273 + 528 = 801\n",
      "273 - 528 = 712\n",
      "273 * 528 = 61\n",
      "273 / 528 = 17\n",
      "273 ** 528 = 240\n"
     ]
    }
   ],
   "source": [
    "a = Scalars.random_element()\n",
    "b = Scalars.random_element()\n",
    "\n",
    "print(\"{} + {} = {}\".format(a, b, a + b))\n",
    "print(\"{} - {} = {}\".format(a, b, a - b))\n",
    "print(\"{} * {} = {}\".format(a, b, a * b))\n",
    "print(\"{} / {} = {}\".format(a, b, a / b))\n",
    "print(\"{} ** {} = {}\".format(a, b, a ** b))"
   ]
  },
  {
   "cell_type": "markdown",
   "id": "dangerous-computer",
   "metadata": {},
   "source": [
    "# Pulling multiplication inside addition\n",
    "\n",
    "We can pull scalar multiplication \"inside\" addition like this: $(a + b)C = aC + bC$.\n",
    "\n",
    "Going from the RHS to the LHS, we can also pull the multiplication \"out\" again.\n",
    "\n",
    "This changes if addition happens first and then multiplication, or vice versa, but the result stays the same.\n",
    "\n",
    "_(Distributive property)_"
   ]
  },
  {
   "cell_type": "code",
   "execution_count": 31,
   "id": "53467670",
   "metadata": {},
   "outputs": [
    {
     "name": "stdout",
     "output_type": "stream",
     "text": [
      "(a + b) * C = a * C + b * C\n"
     ]
    }
   ],
   "source": [
    "Sum1 = ZZ(a + b) * C\n",
    "Sum2 = ZZ(a) * C + ZZ(b) * C\n",
    "\n",
    "assert Sum1 == Sum2\n",
    "print(\"(a + b) * C = a * C + b * C\")"
   ]
  },
  {
   "cell_type": "markdown",
   "id": "progressive-calvin",
   "metadata": {},
   "source": [
    "## i-th point and i-th scalar\n",
    "\n",
    "Each point has a number. This is how many times we had to add $I$ onto itself to get there. $O$ has number zero, $I$ has number one, $I + I$ has number two, and so on.\n",
    "\n",
    "This number is exactly the scalar that is multiplied with $I$ to obtain the point: $O = 0 * I$ and $I = 1 * I$ and $I + I = 2 * I$, and so on.\n",
    "\n",
    "If we add point $A$ with number $i$ and point $B$ with number $j$, then the resulting sum $A + B$ has number $i + j$. Pretty surprising.\n",
    "\n",
    "This means that the curve and its scalars have the same structure. They are essentially the same thing but they live in different spaces (weird 2D space vs 1D integers).\n",
    "\n",
    "_(Curve and scalars are isomorphic)_"
   ]
  },
  {
   "cell_type": "code",
   "execution_count": 35,
   "id": "nominated-baseline",
   "metadata": {},
   "outputs": [
    {
     "name": "stdout",
     "output_type": "stream",
     "text": [
      "A has number i = 100\n",
      "B has number j = 100\n",
      "A + B has number i + j = 200\n"
     ]
    }
   ],
   "source": [
    "i = One.discrete_log(A)\n",
    "j = One.discrete_log(B)\n",
    "\n",
    "print(\"A has number i = {}\".format(i))\n",
    "print(\"B has number j = {}\".format(j))\n",
    "\n",
    "Sum = A + B\n",
    "k = One.discrete_log(Sum)\n",
    "\n",
    "assert i + j == k\n",
    "print(\"A + B has number i + j = {}\".format(k))"
   ]
  },
  {
   "cell_type": "markdown",
   "id": "basic-watershed",
   "metadata": {},
   "source": [
    "# Discrete logarithm\n",
    "\n",
    "We have been talking about the \"number\" of a point $A$. That is the number of times $I$ was added onto itself to get to this point. Using scalar multiplication we can write $A = i * I$.\n",
    "\n",
    "This \"number\" has another name. It is the discrete logarithm of $A$ (with respect to $I$).\n",
    "\n",
    "The discrete logarithm operation takes a point and returns its \"number\": $i = A / I$.\n",
    "\n",
    "_(This is effectively division, but colloquially we refer to it as logarithm)_"
   ]
  },
  {
   "cell_type": "code",
   "execution_count": 1,
   "id": "accepted-mortgage",
   "metadata": {},
   "outputs": [
    {
     "ename": "NameError",
     "evalue": "name 'One' is not defined",
     "output_type": "error",
     "traceback": [
      "\u001b[0;31m---------------------------------------------------------------------------\u001b[0m",
      "\u001b[0;31mNameError\u001b[0m                                 Traceback (most recent call last)",
      "Input \u001b[0;32mIn [1]\u001b[0m, in \u001b[0;36m<cell line: 2>\u001b[0;34m()\u001b[0m\n\u001b[1;32m      1\u001b[0m i \u001b[38;5;241m=\u001b[39m Integer(\u001b[38;5;241m10\u001b[39m) \u001b[38;5;66;03m# TODO: Change\u001b[39;00m\n\u001b[0;32m----> 2\u001b[0m A \u001b[38;5;241m=\u001b[39m i \u001b[38;5;241m*\u001b[39m One\n\u001b[1;32m      4\u001b[0m j \u001b[38;5;241m=\u001b[39m One\u001b[38;5;241m.\u001b[39mdiscrete_log(A)\n\u001b[1;32m      6\u001b[0m \u001b[38;5;28;01massert\u001b[39;00m i \u001b[38;5;241m==\u001b[39m j\n",
      "\u001b[0;31mNameError\u001b[0m: name 'One' is not defined"
     ]
    }
   ],
   "source": [
    "i = None # TODO: Change\n",
    "A = i * One\n",
    "\n",
    "j = One.discrete_log(A)\n",
    "\n",
    "assert i == j\n",
    "print(\"(i * One) / One = i\")"
   ]
  },
  {
   "cell_type": "markdown",
   "id": "c7cfe838",
   "metadata": {},
   "source": [
    "# Discrete logarithm of scalars\n",
    "\n",
    "There is a discrete logarithm for each scalar, although it is not very interesting. The equivalent for $I$ in the scalar world is $1$. This means the discrete logarithm of $i$ is $i / 1 = i$. It is division by one!"
   ]
  },
  {
   "cell_type": "code",
   "execution_count": 40,
   "id": "23af8641",
   "metadata": {},
   "outputs": [
    {
     "name": "stdout",
     "output_type": "stream",
     "text": [
      "(i * 1) / 1 = 1\n"
     ]
    }
   ],
   "source": [
    "i = None # TODO: Change\n",
    "a = i * 1\n",
    "\n",
    "j = a / 1\n",
    "\n",
    "assert i == j\n",
    "print(\"(i * 1) / 1 = 1\")"
   ]
  },
  {
   "cell_type": "markdown",
   "id": "vietnamese-round",
   "metadata": {},
   "source": [
    "# Hardness of the discrete logarithm\n",
    "\n",
    "Why bother with elliptic curves? Can't we just use integers?\n",
    "\n",
    "It turns out, there _is_ a difference: The discrete logarithm of curve points is **much harder** than the discrete logarithm of integers (or scalars).\n",
    "\n",
    "The discrete logarithm of scalars is the scalar itself. A small difference in the input (adding one) causes only a small difference in the resulting sum. By looking at the sum, we can reliably predict how many times one was added.\n",
    "\n",
    "Meanwhile, adding two curve points leads to chaotic behavior. Points jump around the 2D plane and it is completely unpredictable where the sum will land. A small change in the input (adding $I$) causes a massive change in the resulting sum. This is because of how point addition works internally. Looking at the sum, we have no idea how many times $I$ was added to obtain it.\n",
    "\n",
    "The sequence of points in order (first, second, third, ...) is pseudorandom. We cannot predict where the next point will be, based on what we have seen so far. Try this guessing game in the interactive matplotlib plot below. Guess where the next point will be.\n",
    "\n",
    "The hardness of the discrete logarithm is what gives many cryptographic tools their security, including Bitcoin signatures."
   ]
  },
  {
   "cell_type": "code",
   "execution_count": 41,
   "id": "dental-torture",
   "metadata": {},
   "outputs": [
    {
     "ename": "ModuleNotFoundError",
     "evalue": "No module named 'ipympl'",
     "output_type": "error",
     "traceback": [
      "\u001b[0;31m---------------------------------------------------------------------------\u001b[0m",
      "\u001b[0;31mModuleNotFoundError\u001b[0m                       Traceback (most recent call last)",
      "Input \u001b[0;32mIn [41]\u001b[0m, in \u001b[0;36m<cell line: 4>\u001b[0;34m()\u001b[0m\n\u001b[1;32m      2\u001b[0m \u001b[38;5;28;01mimport\u001b[39;00m \u001b[38;5;21;01mmatplotlib\u001b[39;00m\u001b[38;5;21;01m.\u001b[39;00m\u001b[38;5;21;01mpyplot\u001b[39;00m \u001b[38;5;28;01mas\u001b[39;00m \u001b[38;5;21;01mplt\u001b[39;00m\n\u001b[1;32m      3\u001b[0m \u001b[38;5;28;01mfrom\u001b[39;00m \u001b[38;5;21;01mmatplotlib\u001b[39;00m\u001b[38;5;21;01m.\u001b[39;00m\u001b[38;5;21;01mwidgets\u001b[39;00m \u001b[38;5;28;01mimport\u001b[39;00m Slider, Button\n\u001b[0;32m----> 4\u001b[0m get_ipython()\u001b[38;5;241m.\u001b[39mrun_line_magic(\u001b[38;5;124m'\u001b[39m\u001b[38;5;124mmatplotlib\u001b[39m\u001b[38;5;124m'\u001b[39m, \u001b[38;5;124m'\u001b[39m\u001b[38;5;124mipympl\u001b[39m\u001b[38;5;124m'\u001b[39m)\n\u001b[1;32m      6\u001b[0m \u001b[38;5;66;03m# Small elliptic curve\u001b[39;00m\n\u001b[1;32m      7\u001b[0m _F \u001b[38;5;241m=\u001b[39m FiniteField(Integer(\u001b[38;5;241m103\u001b[39m))\n",
      "File \u001b[0;32m/nix/store/9gv0r42qzjfapaapiv7zyh6kcqpk61c9-python3-3.10.11-env/lib/python3.10/site-packages/IPython/core/interactiveshell.py:2305\u001b[0m, in \u001b[0;36mInteractiveShell.run_line_magic\u001b[0;34m(self, magic_name, line, _stack_depth)\u001b[0m\n\u001b[1;32m   2303\u001b[0m     kwargs[\u001b[38;5;124m'\u001b[39m\u001b[38;5;124mlocal_ns\u001b[39m\u001b[38;5;124m'\u001b[39m] \u001b[38;5;241m=\u001b[39m \u001b[38;5;28mself\u001b[39m\u001b[38;5;241m.\u001b[39mget_local_scope(stack_depth)\n\u001b[1;32m   2304\u001b[0m \u001b[38;5;28;01mwith\u001b[39;00m \u001b[38;5;28mself\u001b[39m\u001b[38;5;241m.\u001b[39mbuiltin_trap:\n\u001b[0;32m-> 2305\u001b[0m     result \u001b[38;5;241m=\u001b[39m \u001b[43mfn\u001b[49m\u001b[43m(\u001b[49m\u001b[38;5;241;43m*\u001b[39;49m\u001b[43margs\u001b[49m\u001b[43m,\u001b[49m\u001b[43m \u001b[49m\u001b[38;5;241;43m*\u001b[39;49m\u001b[38;5;241;43m*\u001b[39;49m\u001b[43mkwargs\u001b[49m\u001b[43m)\u001b[49m\n\u001b[1;32m   2306\u001b[0m \u001b[38;5;28;01mreturn\u001b[39;00m result\n",
      "File \u001b[0;32m/nix/store/9gv0r42qzjfapaapiv7zyh6kcqpk61c9-python3-3.10.11-env/lib/python3.10/site-packages/IPython/core/magics/pylab.py:99\u001b[0m, in \u001b[0;36mPylabMagics.matplotlib\u001b[0;34m(self, line)\u001b[0m\n\u001b[1;32m     97\u001b[0m     \u001b[38;5;28mprint\u001b[39m(\u001b[38;5;124m\"\u001b[39m\u001b[38;5;124mAvailable matplotlib backends: \u001b[39m\u001b[38;5;132;01m%s\u001b[39;00m\u001b[38;5;124m\"\u001b[39m \u001b[38;5;241m%\u001b[39m backends_list)\n\u001b[1;32m     98\u001b[0m \u001b[38;5;28;01melse\u001b[39;00m:\n\u001b[0;32m---> 99\u001b[0m     gui, backend \u001b[38;5;241m=\u001b[39m \u001b[38;5;28;43mself\u001b[39;49m\u001b[38;5;241;43m.\u001b[39;49m\u001b[43mshell\u001b[49m\u001b[38;5;241;43m.\u001b[39;49m\u001b[43menable_matplotlib\u001b[49m\u001b[43m(\u001b[49m\u001b[43margs\u001b[49m\u001b[38;5;241;43m.\u001b[39;49m\u001b[43mgui\u001b[49m\u001b[38;5;241;43m.\u001b[39;49m\u001b[43mlower\u001b[49m\u001b[43m(\u001b[49m\u001b[43m)\u001b[49m\u001b[43m \u001b[49m\u001b[38;5;28;43;01mif\u001b[39;49;00m\u001b[43m \u001b[49m\u001b[38;5;28;43misinstance\u001b[39;49m\u001b[43m(\u001b[49m\u001b[43margs\u001b[49m\u001b[38;5;241;43m.\u001b[39;49m\u001b[43mgui\u001b[49m\u001b[43m,\u001b[49m\u001b[43m \u001b[49m\u001b[38;5;28;43mstr\u001b[39;49m\u001b[43m)\u001b[49m\u001b[43m \u001b[49m\u001b[38;5;28;43;01melse\u001b[39;49;00m\u001b[43m \u001b[49m\u001b[43margs\u001b[49m\u001b[38;5;241;43m.\u001b[39;49m\u001b[43mgui\u001b[49m\u001b[43m)\u001b[49m\n\u001b[1;32m    100\u001b[0m     \u001b[38;5;28mself\u001b[39m\u001b[38;5;241m.\u001b[39m_show_matplotlib_backend(args\u001b[38;5;241m.\u001b[39mgui, backend)\n",
      "File \u001b[0;32m/nix/store/9gv0r42qzjfapaapiv7zyh6kcqpk61c9-python3-3.10.11-env/lib/python3.10/site-packages/IPython/core/interactiveshell.py:3493\u001b[0m, in \u001b[0;36mInteractiveShell.enable_matplotlib\u001b[0;34m(self, gui)\u001b[0m\n\u001b[1;32m   3489\u001b[0m         \u001b[38;5;28mprint\u001b[39m(\u001b[38;5;124m'\u001b[39m\u001b[38;5;124mWarning: Cannot change to a different GUI toolkit: \u001b[39m\u001b[38;5;132;01m%s\u001b[39;00m\u001b[38;5;124m.\u001b[39m\u001b[38;5;124m'\u001b[39m\n\u001b[1;32m   3490\u001b[0m                 \u001b[38;5;124m'\u001b[39m\u001b[38;5;124m Using \u001b[39m\u001b[38;5;132;01m%s\u001b[39;00m\u001b[38;5;124m instead.\u001b[39m\u001b[38;5;124m'\u001b[39m \u001b[38;5;241m%\u001b[39m (gui, \u001b[38;5;28mself\u001b[39m\u001b[38;5;241m.\u001b[39mpylab_gui_select))\n\u001b[1;32m   3491\u001b[0m         gui, backend \u001b[38;5;241m=\u001b[39m pt\u001b[38;5;241m.\u001b[39mfind_gui_and_backend(\u001b[38;5;28mself\u001b[39m\u001b[38;5;241m.\u001b[39mpylab_gui_select)\n\u001b[0;32m-> 3493\u001b[0m \u001b[43mpt\u001b[49m\u001b[38;5;241;43m.\u001b[39;49m\u001b[43mactivate_matplotlib\u001b[49m\u001b[43m(\u001b[49m\u001b[43mbackend\u001b[49m\u001b[43m)\u001b[49m\n\u001b[1;32m   3494\u001b[0m configure_inline_support(\u001b[38;5;28mself\u001b[39m, backend)\n\u001b[1;32m   3496\u001b[0m \u001b[38;5;66;03m# Now we must activate the gui pylab wants to use, and fix %run to take\u001b[39;00m\n\u001b[1;32m   3497\u001b[0m \u001b[38;5;66;03m# plot updates into account\u001b[39;00m\n",
      "File \u001b[0;32m/nix/store/9gv0r42qzjfapaapiv7zyh6kcqpk61c9-python3-3.10.11-env/lib/python3.10/site-packages/IPython/core/pylabtools.py:359\u001b[0m, in \u001b[0;36mactivate_matplotlib\u001b[0;34m(backend)\u001b[0m\n\u001b[1;32m    354\u001b[0m \u001b[38;5;66;03m# Due to circular imports, pyplot may be only partially initialised\u001b[39;00m\n\u001b[1;32m    355\u001b[0m \u001b[38;5;66;03m# when this function runs.\u001b[39;00m\n\u001b[1;32m    356\u001b[0m \u001b[38;5;66;03m# So avoid needing matplotlib attribute-lookup to access pyplot.\u001b[39;00m\n\u001b[1;32m    357\u001b[0m \u001b[38;5;28;01mfrom\u001b[39;00m \u001b[38;5;21;01mmatplotlib\u001b[39;00m \u001b[38;5;28;01mimport\u001b[39;00m pyplot \u001b[38;5;28;01mas\u001b[39;00m plt\n\u001b[0;32m--> 359\u001b[0m \u001b[43mplt\u001b[49m\u001b[38;5;241;43m.\u001b[39;49m\u001b[43mswitch_backend\u001b[49m\u001b[43m(\u001b[49m\u001b[43mbackend\u001b[49m\u001b[43m)\u001b[49m\n\u001b[1;32m    361\u001b[0m plt\u001b[38;5;241m.\u001b[39mshow\u001b[38;5;241m.\u001b[39m_needmain \u001b[38;5;241m=\u001b[39m \u001b[38;5;28;01mFalse\u001b[39;00m\n\u001b[1;32m    362\u001b[0m \u001b[38;5;66;03m# We need to detect at runtime whether show() is called by the user.\u001b[39;00m\n\u001b[1;32m    363\u001b[0m \u001b[38;5;66;03m# For this, we wrap it into a decorator which adds a 'called' flag.\u001b[39;00m\n",
      "File \u001b[0;32m/nix/store/9gv0r42qzjfapaapiv7zyh6kcqpk61c9-python3-3.10.11-env/lib/python3.10/site-packages/matplotlib/pyplot.py:282\u001b[0m, in \u001b[0;36mswitch_backend\u001b[0;34m(newbackend)\u001b[0m\n\u001b[1;32m    275\u001b[0m \u001b[38;5;66;03m# Backends are implemented as modules, but \"inherit\" default method\u001b[39;00m\n\u001b[1;32m    276\u001b[0m \u001b[38;5;66;03m# implementations from backend_bases._Backend.  This is achieved by\u001b[39;00m\n\u001b[1;32m    277\u001b[0m \u001b[38;5;66;03m# creating a \"class\" that inherits from backend_bases._Backend and whose\u001b[39;00m\n\u001b[1;32m    278\u001b[0m \u001b[38;5;66;03m# body is filled with the module's globals.\u001b[39;00m\n\u001b[1;32m    280\u001b[0m backend_name \u001b[38;5;241m=\u001b[39m cbook\u001b[38;5;241m.\u001b[39m_backend_module_name(newbackend)\n\u001b[0;32m--> 282\u001b[0m \u001b[38;5;28;01mclass\u001b[39;00m \u001b[38;5;21;01mbackend_mod\u001b[39;00m(matplotlib\u001b[38;5;241m.\u001b[39mbackend_bases\u001b[38;5;241m.\u001b[39m_Backend):\n\u001b[1;32m    283\u001b[0m     \u001b[38;5;28mlocals\u001b[39m()\u001b[38;5;241m.\u001b[39mupdate(\u001b[38;5;28mvars\u001b[39m(importlib\u001b[38;5;241m.\u001b[39mimport_module(backend_name)))\n\u001b[1;32m    285\u001b[0m required_framework \u001b[38;5;241m=\u001b[39m _get_required_interactive_framework(backend_mod)\n",
      "File \u001b[0;32m/nix/store/9gv0r42qzjfapaapiv7zyh6kcqpk61c9-python3-3.10.11-env/lib/python3.10/site-packages/matplotlib/pyplot.py:283\u001b[0m, in \u001b[0;36mswitch_backend.<locals>.backend_mod\u001b[0;34m()\u001b[0m\n\u001b[1;32m    282\u001b[0m \u001b[38;5;28;01mclass\u001b[39;00m \u001b[38;5;21;01mbackend_mod\u001b[39;00m(matplotlib\u001b[38;5;241m.\u001b[39mbackend_bases\u001b[38;5;241m.\u001b[39m_Backend):\n\u001b[0;32m--> 283\u001b[0m     \u001b[38;5;28mlocals\u001b[39m()\u001b[38;5;241m.\u001b[39mupdate(\u001b[38;5;28mvars\u001b[39m(\u001b[43mimportlib\u001b[49m\u001b[38;5;241;43m.\u001b[39;49m\u001b[43mimport_module\u001b[49m\u001b[43m(\u001b[49m\u001b[43mbackend_name\u001b[49m\u001b[43m)\u001b[49m))\n",
      "File \u001b[0;32m/nix/store/rpri9nb8xpwwqakyrqbg8zdslkjs2hd3-python3-3.10.11/lib/python3.10/importlib/__init__.py:126\u001b[0m, in \u001b[0;36mimport_module\u001b[0;34m(name, package)\u001b[0m\n\u001b[1;32m    124\u001b[0m             \u001b[38;5;28;01mbreak\u001b[39;00m\n\u001b[1;32m    125\u001b[0m         level \u001b[38;5;241m+\u001b[39m\u001b[38;5;241m=\u001b[39m \u001b[38;5;241m1\u001b[39m\n\u001b[0;32m--> 126\u001b[0m \u001b[38;5;28;01mreturn\u001b[39;00m \u001b[43m_bootstrap\u001b[49m\u001b[38;5;241;43m.\u001b[39;49m\u001b[43m_gcd_import\u001b[49m\u001b[43m(\u001b[49m\u001b[43mname\u001b[49m\u001b[43m[\u001b[49m\u001b[43mlevel\u001b[49m\u001b[43m:\u001b[49m\u001b[43m]\u001b[49m\u001b[43m,\u001b[49m\u001b[43m \u001b[49m\u001b[43mpackage\u001b[49m\u001b[43m,\u001b[49m\u001b[43m \u001b[49m\u001b[43mlevel\u001b[49m\u001b[43m)\u001b[49m\n",
      "File \u001b[0;32m<frozen importlib._bootstrap>:1050\u001b[0m, in \u001b[0;36m_gcd_import\u001b[0;34m(name, package, level)\u001b[0m\n",
      "File \u001b[0;32m<frozen importlib._bootstrap>:1027\u001b[0m, in \u001b[0;36m_find_and_load\u001b[0;34m(name, import_)\u001b[0m\n",
      "File \u001b[0;32m<frozen importlib._bootstrap>:992\u001b[0m, in \u001b[0;36m_find_and_load_unlocked\u001b[0;34m(name, import_)\u001b[0m\n",
      "File \u001b[0;32m<frozen importlib._bootstrap>:241\u001b[0m, in \u001b[0;36m_call_with_frames_removed\u001b[0;34m(f, *args, **kwds)\u001b[0m\n",
      "File \u001b[0;32m<frozen importlib._bootstrap>:1050\u001b[0m, in \u001b[0;36m_gcd_import\u001b[0;34m(name, package, level)\u001b[0m\n",
      "File \u001b[0;32m<frozen importlib._bootstrap>:1027\u001b[0m, in \u001b[0;36m_find_and_load\u001b[0;34m(name, import_)\u001b[0m\n",
      "File \u001b[0;32m<frozen importlib._bootstrap>:1004\u001b[0m, in \u001b[0;36m_find_and_load_unlocked\u001b[0;34m(name, import_)\u001b[0m\n",
      "\u001b[0;31mModuleNotFoundError\u001b[0m: No module named 'ipympl'"
     ]
    }
   ],
   "source": [
    "import numpy as np\n",
    "import matplotlib.pyplot as plt\n",
    "from matplotlib.widgets import Slider, Button\n",
    "%matplotlib ipympl\n",
    "\n",
    "# Small elliptic curve\n",
    "_F = FiniteField(103)\n",
    "_C = EllipticCurve([_F(0), _F(5)])\n",
    "_One = _C.gens()[0]\n",
    "\n",
    "# Customization\n",
    "marker_color='#283F4E' \n",
    "marker_size = 25\n",
    "button_color = 'lightblue'\n",
    "button_hover_color = 'skyblue'\n",
    "\n",
    "# Skeleton\n",
    "fig, ax = plt.subplots(subplot_kw = dict(aspect=\"equal\"))\n",
    "ax.set_xlim(0,103)\n",
    "ax.set_ylim(0,103)\n",
    "ax.set_xlabel(\"x\")\n",
    "ax.set_ylabel(\"y\")\n",
    "\n",
    "init_x, init_y = _One.xy()\n",
    "scat = ax.scatter([init_x], [init_y], c=marker_color, s=marker_size)\n",
    "\n",
    "# Iteration slider\n",
    "ax_slider = fig.add_axes([0.1, 0.1, 0.05, 0.75])  # [left, bottom, width, height]\n",
    "slider = Slider(\n",
    "    ax=ax_slider,\n",
    "    label=\"Point number\",\n",
    "    valmin=0,\n",
    "    valmax=96,\n",
    "    valstep=1,\n",
    "    valinit=1,\n",
    "    orientation=\"vertical\"\n",
    ")\n",
    "\n",
    "def update(n):\n",
    "    x, y = (n * _One).xy()\n",
    "    scat.set_offsets(np.column_stack((x, y)))\n",
    "    fig.canvas.draw_idle()\n",
    "\n",
    "slider.on_changed(update)\n",
    "\n",
    "# Increment button\n",
    "ax_inc = plt.axes([0.8, 0.5, 0.15, 0.25])  # [left, bottom, width, height]\n",
    "button_inc = Button(ax_inc, '+1', color=button_color, hovercolor=button_hover_color)\n",
    "\n",
    "def increment(event):\n",
    "    val = slider.val\n",
    "    if val < slider.valmax:\n",
    "        slider.set_val(val + 1)\n",
    "\n",
    "button_inc.on_clicked(increment)\n",
    "\n",
    "# Decrement button\n",
    "ax_dec = plt.axes([0.8, 0.2, 0.15, 0.25])  # [left, bottom, width, height]\n",
    "button_dec = Button(ax_dec, '-1', color=button_color, hovercolor=button_hover_color)\n",
    "\n",
    "def decrement(event):\n",
    "    val = slider.val\n",
    "    if val > slider.valmin:\n",
    "        slider.set_val(val - 1)\n",
    "\n",
    "button_dec.on_clicked(decrement)\n",
    "\n",
    "# Show plot\n",
    "plt.show()"
   ]
  },
  {
   "cell_type": "code",
   "execution_count": null,
   "id": "changing-proof",
   "metadata": {},
   "outputs": [],
   "source": []
  }
 ],
 "metadata": {
  "kernelspec": {
   "display_name": "SageMath 9.7",
   "language": "sagemath",
   "name": "sagemath"
  },
  "language_info": {
   "codemirror_mode": {
    "name": "ipython",
    "version": 3
   },
   "file_extension": ".py",
   "mimetype": "text/x-python",
   "name": "python",
   "nbconvert_exporter": "python",
   "pygments_lexer": "ipython3",
   "version": "3.10.11"
  }
 },
 "nbformat": 4,
 "nbformat_minor": 5
}
