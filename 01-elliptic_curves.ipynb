{
 "cells": [
  {
   "cell_type": "markdown",
   "id": "authentic-telling",
   "metadata": {},
   "source": [
    "# Elliptic curves TL;DR\n",
    "\n",
    "Elliptic curves are sets of points with group properties.\n",
    "The number of points is a prime number."
   ]
  },
  {
   "cell_type": "markdown",
   "id": "4aa3d591",
   "metadata": {},
   "source": [
    "# Coordinates\n",
    "\n",
    "Coordinates are natural numbers from zero up to some maximum (1009). They cannot be arbitrarily large. The maximum is equivalent to zero, one plus the maximum is equivalent to one, and so on (modulo)."
   ]
  },
  {
   "cell_type": "code",
   "execution_count": null,
   "id": "bac12c30",
   "metadata": {},
   "outputs": [],
   "source": [
    "from myec import *\n",
    "\n",
    "print(\"Coordinates range from 0 to {}\\n\".format(MAX_COORDINATE))\n",
    "\n",
    "x = Coordinate(10)\n",
    "print(\"x = {}\".format(x))\n",
    "\n",
    "y = Coordinate(MAX_COORDINATE)\n",
    "print(\"y = {}\".format(y))\n",
    "\n",
    "z = x + y\n",
    "print(\"x + y = {}\".format(z))"
   ]
  },
  {
   "cell_type": "markdown",
   "id": "sharp-rider",
   "metadata": {},
   "source": [
    "# Points\n",
    "\n",
    "Elements are points in 2D space. That is, they have x and y coordinates.\n",
    "\n",
    "We write points as uppercase letters like so: $A, B, C$."
   ]
  },
  {
   "cell_type": "code",
   "execution_count": null,
   "id": "bigger-scheduling",
   "metadata": {},
   "outputs": [],
   "source": [
    "A = random_point()\n",
    "B = random_point()\n",
    "C = random_point()\n",
    "\n",
    "print(\"A = {}\".format(A.xy()))\n",
    "print(\"B = {}\".format(B.xy()))\n",
    "print(\"C = {}\".format(C.xy()))"
   ]
  },
  {
   "cell_type": "markdown",
   "id": "printable-cisco",
   "metadata": {},
   "source": [
    "# Group properties\n",
    "\n",
    "Group properties mean that points behave like integers.\n",
    "\n",
    "## Addition\n",
    "\n",
    "We can add two points $A$ and $B$ to obtain a sum point $A + B$.\n",
    "\n",
    "This is not simple addition of the x and y coordinates, so the result is different.\n",
    "\n",
    "_(Group operation)_"
   ]
  },
  {
   "cell_type": "code",
   "execution_count": null,
   "id": "brief-consideration",
   "metadata": {},
   "outputs": [],
   "source": [
    "Sum = A + B\n",
    "print(\"A + B = {}\".format(Sum.xy()))"
   ]
  },
  {
   "cell_type": "markdown",
   "id": "convenient-encyclopedia",
   "metadata": {},
   "source": [
    "## Zero\n",
    "\n",
    "There is a zero point $O$ that behaves like the number zero: $A + O = O + A = A$ for any point $A$.\n",
    "\n",
    "$O$ doesn't have xy coordinates because it is the \"point at infinity\", but that is a technical detail.\n",
    "\n",
    "\"$O$\" looks a bit like \"0\" (zero).\n",
    "\n",
    "_(Additive identity)_"
   ]
  },
  {
   "cell_type": "code",
   "execution_count": null,
   "id": "absent-microwave",
   "metadata": {},
   "outputs": [],
   "source": [
    "print(\"Zero = {}\".format(ZERO_POINT.xy()))\n",
    "\n",
    "Sum1 = A + ZERO_POINT\n",
    "Sum2 = ZERO_POINT + A\n",
    "\n",
    "assert Sum1 == A\n",
    "print(\"A + Zero = A\")\n",
    "\n",
    "assert Sum2 == A\n",
    "print(\"Zero + A = A\")"
   ]
  },
  {
   "cell_type": "markdown",
   "id": "advance-preserve",
   "metadata": {},
   "source": [
    "## One\n",
    "\n",
    "There is a one point $I$ that behaves like the number one _(more on that later)_.\n",
    "\n",
    "\"$I$\" looks a bit like \"1\".\n",
    "\n",
    "_(Generator)_"
   ]
  },
  {
   "cell_type": "code",
   "execution_count": null,
   "id": "regulation-column",
   "metadata": {},
   "outputs": [],
   "source": [
    "print(\"One = {}\".format(ONE_POINT.xy()))"
   ]
  },
  {
   "cell_type": "markdown",
   "id": "comfortable-breath",
   "metadata": {},
   "source": [
    "## Parentheses\n",
    "\n",
    "We can switch the parentheses around, or omit them altogether: $A + (B + C) = (A + B) + C = A + B + C$.\n",
    "\n",
    "_(Associative property)_"
   ]
  },
  {
   "cell_type": "code",
   "execution_count": null,
   "id": "blocked-murray",
   "metadata": {},
   "outputs": [],
   "source": [
    "Sum1 = A + (B + C)\n",
    "Sum2 = (A + B) + C\n",
    "Sum3 = A + B + C\n",
    "\n",
    "assert Sum1 == Sum2\n",
    "print(\"A + (B + C) = (A + B) + C\")\n",
    "\n",
    "assert Sum2 == Sum3\n",
    "print(\"(A + B) + C = A + B + C\")"
   ]
  },
  {
   "cell_type": "markdown",
   "id": "competent-mobile",
   "metadata": {},
   "source": [
    "## Order\n",
    "\n",
    "We can switch the order of summands: $A + B = B + A$.\n",
    "\n",
    "_(Commutative property)_"
   ]
  },
  {
   "cell_type": "code",
   "execution_count": null,
   "id": "secondary-fraud",
   "metadata": {},
   "outputs": [],
   "source": [
    "Sum1 = A + B\n",
    "Sum2 = B + A\n",
    "\n",
    "assert Sum1 == Sum2\n",
    "print(\"A + B = B + A\")"
   ]
  },
  {
   "cell_type": "markdown",
   "id": "transparent-salem",
   "metadata": {},
   "source": [
    "## Minus\n",
    "\n",
    "There is a point $-A$ for each point $A$ such that $A + (-A) = O$. We can also write this as $A - A = O$.\n",
    "\n",
    "_(Additive inverses)_"
   ]
  },
  {
   "cell_type": "code",
   "execution_count": null,
   "id": "apparent-humanitarian",
   "metadata": {},
   "outputs": [],
   "source": [
    "MinusA = A.negation()\n",
    "print(\"MinusA = {}\".format(MinusA.xy()))\n",
    "\n",
    "Sum1 = A + MinusA\n",
    "Sum2 = A - A\n",
    "\n",
    "assert Sum1 == ZERO_POINT\n",
    "print(\"A + MinusA = Zero\")\n",
    "\n",
    "assert Sum2 == ZERO_POINT\n",
    "print(\"A - A = Zero\")"
   ]
  },
  {
   "cell_type": "markdown",
   "id": "a2dcb57d",
   "metadata": {},
   "source": [
    "# Number of points\n",
    "\n",
    "There are $n = 967$ points on the curve. This is a prime number, which has interesting consequences."
   ]
  },
  {
   "cell_type": "code",
   "execution_count": null,
   "id": "541563d7",
   "metadata": {},
   "outputs": [],
   "source": [
    "print(\"Number of points = {}\".format(NUMBER_POINTS))\n",
    "\n",
    "assert is_prime(NUMBER_POINTS)\n",
    "print(\"{} is prime\".format(NUMBER_POINTS))"
   ]
  },
  {
   "cell_type": "markdown",
   "id": "preceding-option",
   "metadata": {},
   "source": [
    "# Iterating over the curve\n",
    "\n",
    "We can add the one point $I$ onto itself to get point $I + I$. Add another $I$ and we get point $I + I + I$. We continue like this to get \"larger and larger\" points $I + I + I + \\ldots + I + I + I$.\n",
    "\n",
    "Because the number $n$ of points is prime, we will reach **all** points on the curve.\n",
    "\n",
    "This means each point has a number. There is a first point $I$, a second $I + I$, a third $I + I + I$, ..., up until the $(n - 1)$th point. After that comes the zeroeth point $O$ again. The cycle repeats, like with the coordinates."
   ]
  },
  {
   "cell_type": "code",
   "execution_count": null,
   "id": "victorian-angle",
   "metadata": {},
   "outputs": [],
   "source": [
    "number_repetitions = None # TODO: Change\n",
    "A = ZERO_POINT\n",
    "\n",
    "for _ in range(0, number_repetitions):\n",
    "    A = A + ONE_POINT\n",
    "    if A == ZERO_POINT:\n",
    "        print(\"The cycle repeats\")\n",
    "\n",
    "print(\"The {}-th point is {}\".format(number_repetitions % NUMBER_POINTS, A.xy()))"
   ]
  },
  {
   "cell_type": "markdown",
   "id": "united-independence",
   "metadata": {},
   "source": [
    "# Scalars and scalar multiplication\n",
    "\n",
    "Wouldn't it be nice to write additions $I + I + I + \\ldots + I + I + I$ as a multiplication $i * I$? This is what scalars are for. In this example, $i$ is a scalar.\n",
    "\n",
    "Because there are $n$ points on the curve, there are also $n$ scalars. If we add $I$ onto itself for $n + i$ times, that is the same as adding $I$ onto itself $i$ times. So scalars are the integers from zero to $n$.\n",
    "\n",
    "We write scalars as lowercase letters like so: $a, b, c$."
   ]
  },
  {
   "cell_type": "code",
   "execution_count": null,
   "id": "published-canon",
   "metadata": {},
   "outputs": [],
   "source": [
    "# Run above iteration code first!\n",
    "\n",
    "B = Scalar(number_repetitions) * ONE_POINT\n",
    "\n",
    "assert A == B\n",
    "print(\"A = One + ... + One (i times) = i * One = B\")"
   ]
  },
  {
   "cell_type": "markdown",
   "id": "convinced-toolbox",
   "metadata": {},
   "source": [
    "# Scalars are integers\n",
    "\n",
    "Like points, scalars behave like integers. We can even say, they _are_ integers.\n",
    "\n",
    "All the familiar laws about integers carry over the scalars. You can add, subtract, multiply, divide, raise to a power, ... all modulo $n$.\n",
    "\n",
    "_(Finite field of integers modulo $n$)_"
   ]
  },
  {
   "cell_type": "code",
   "execution_count": null,
   "id": "massive-ecology",
   "metadata": {},
   "outputs": [],
   "source": [
    "a = random_scalar()\n",
    "b = random_scalar()\n",
    "\n",
    "print(\"{} + {} = {}\".format(a, b, a + b))\n",
    "print(\"{} - {} = {}\".format(a, b, a - b))\n",
    "print(\"{} * {} = {}\".format(a, b, a * b))\n",
    "print(\"{} / {} = {}\".format(a, b, a / b))\n",
    "print(\"{} ** {} = {}\".format(a, b, a ** b))"
   ]
  },
  {
   "cell_type": "markdown",
   "id": "dangerous-computer",
   "metadata": {},
   "source": [
    "# Pulling multiplication inside addition\n",
    "\n",
    "We can pull scalar multiplication \"inside\" addition like this: $(a + b)C = aC + bC$.\n",
    "\n",
    "Going from the RHS to the LHS, we can also pull the multiplication \"out\" again.\n",
    "\n",
    "This changes if addition happens first and then multiplication, or vice versa, but the result stays the same.\n",
    "\n",
    "_(Distributive property)_"
   ]
  },
  {
   "cell_type": "code",
   "execution_count": null,
   "id": "53467670",
   "metadata": {},
   "outputs": [],
   "source": [
    "Sum1 = (a + b) * C\n",
    "Sum2 = a * C + b * C\n",
    "\n",
    "assert Sum1 == Sum2\n",
    "print(\"(a + b) * C = a * C + b * C\")"
   ]
  },
  {
   "cell_type": "markdown",
   "id": "progressive-calvin",
   "metadata": {},
   "source": [
    "## i-th point and i-th scalar\n",
    "\n",
    "Each point has a number. This is how many times we had to add $I$ onto itself to get there. $O$ has number zero, $I$ has number one, $I + I$ has number two, and so on.\n",
    "\n",
    "This number is exactly the scalar that is multiplied with $I$ to obtain the point: $O = 0 * I$ and $I = 1 * I$ and $I + I = 2 * I$, and so on.\n",
    "\n",
    "If we add point $A$ with number $i$ and point $B$ with number $j$, then the resulting sum $A + B$ has number $i + j$. Pretty surprising.\n",
    "\n",
    "This means that the curve and its scalars have the same structure. They are essentially the same thing but they live in different spaces (weird 2D space vs 1D integers).\n",
    "\n",
    "_(Curve and scalars are isomorphic)_"
   ]
  },
  {
   "cell_type": "code",
   "execution_count": null,
   "id": "nominated-baseline",
   "metadata": {},
   "outputs": [],
   "source": [
    "i = A.discrete_log()\n",
    "j = B.discrete_log()\n",
    "\n",
    "print(\"A has number i = {}\".format(i))\n",
    "print(\"B has number j = {}\".format(j))\n",
    "\n",
    "Sum = A + B\n",
    "k = Sum.discrete_log()\n",
    "\n",
    "assert i + j == k\n",
    "print(\"A + B has number i + j = {}\".format(k))"
   ]
  },
  {
   "cell_type": "markdown",
   "id": "basic-watershed",
   "metadata": {},
   "source": [
    "# Discrete logarithm\n",
    "\n",
    "We have been talking about the \"number\" of a point $A$. That is the number of times $I$ was added onto itself to get to this point. Using scalar multiplication we can write $A = i * I$.\n",
    "\n",
    "This \"number\" has another name. It is the discrete logarithm of $A$ (with respect to $I$).\n",
    "\n",
    "The discrete logarithm operation takes a point and returns its \"number\": $i = A / I$.\n",
    "\n",
    "_(This is effectively division, but colloquially we refer to it as logarithm)_"
   ]
  },
  {
   "cell_type": "code",
   "execution_count": null,
   "id": "accepted-mortgage",
   "metadata": {},
   "outputs": [],
   "source": [
    "i = Scalar(None) # TODO: Change\n",
    "A = i * ONE_POINT\n",
    "\n",
    "j = A.discrete_log()\n",
    "\n",
    "assert i == j\n",
    "print(\"(i * One) / One = i\")"
   ]
  },
  {
   "cell_type": "markdown",
   "id": "c7cfe838",
   "metadata": {},
   "source": [
    "# Discrete logarithm of scalars\n",
    "\n",
    "There is a discrete logarithm for each scalar, although it is not very interesting. The equivalent for $I$ in the scalar world is $1$. This means the discrete logarithm of $i$ is $i / 1 = i$. It is division by one!"
   ]
  },
  {
   "cell_type": "code",
   "execution_count": null,
   "id": "23af8641",
   "metadata": {},
   "outputs": [],
   "source": [
    "i = None # TODO: Change\n",
    "a = i * 1\n",
    "\n",
    "j = a / 1\n",
    "\n",
    "assert i == j\n",
    "print(\"(i * 1) / 1 = 1\")"
   ]
  },
  {
   "cell_type": "markdown",
   "id": "vietnamese-round",
   "metadata": {},
   "source": [
    "# Hardness of the discrete logarithm\n",
    "\n",
    "Why bother with elliptic curves? Can't we just use integers?\n",
    "\n",
    "It turns out, there _is_ a difference: The discrete logarithm of curve points is **much harder** than the discrete logarithm of integers (or scalars).\n",
    "\n",
    "The discrete logarithm of scalars is the scalar itself. A small difference in the input (adding one) causes only a small difference in the resulting sum. By looking at the sum, we can reliably predict how many times one was added.\n",
    "\n",
    "Meanwhile, adding two curve points leads to chaotic behavior. Points jump around the 2D plane and it is completely unpredictable where the sum will land. A small change in the input (adding $I$) causes a massive change in the resulting sum. This is because of how point addition works internally. Looking at the sum, we have no idea how many times $I$ was added to obtain it.\n",
    "\n",
    "The hardness of the discrete logarithm is what gives many cryptographic tools their security, including Bitcoin signatures."
   ]
  },
  {
   "cell_type": "markdown",
   "id": "ada814ad",
   "metadata": {},
   "source": [
    "## Exercise\n",
    "\n",
    "The sequence of points in order (first, second, third, ...) is pseudorandom. We cannot predict where the next point will be, based on what we have seen so far.\n",
    "\n",
    "I prepared a guessing game in the file `hardness_dlog.py`. Guess where the next point will be. Hint: You will almost always lose 😈.\n",
    "\n",
    "_(I failed to integrate the interactive matplotlib in jupyter. Suggestions are welcome)._\n",
    "\n",
    "Instead, run `python hardness_dlog.py` on the command line."
   ]
  },
  {
   "cell_type": "code",
   "execution_count": null,
   "id": "1a719ea7",
   "metadata": {},
   "outputs": [],
   "source": []
  }
 ],
 "metadata": {
  "kernelspec": {
   "display_name": "Python 3 (ipykernel)",
   "language": "python",
   "name": "python3"
  },
  "language_info": {
   "codemirror_mode": {
    "name": "ipython",
    "version": 3
   },
   "file_extension": ".py",
   "mimetype": "text/x-python",
   "name": "python",
   "nbconvert_exporter": "python",
   "pygments_lexer": "ipython3",
   "version": "3.10.11"
  }
 },
 "nbformat": 4,
 "nbformat_minor": 5
}
