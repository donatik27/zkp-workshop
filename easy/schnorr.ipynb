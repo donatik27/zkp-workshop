{
 "cells": [
  {
   "cell_type": "markdown",
   "id": "hindu-prevention",
   "metadata": {},
   "source": [
    "# Schnorr\n",
    "\n",
    "In this chapter we prove knowledge of a scalar using the Schnorr identification protocol."
   ]
  },
  {
   "cell_type": "markdown",
   "id": "16e4623d",
   "metadata": {},
   "source": [
    "# Jupyter setup\n",
    "\n",
    "Run the following snippet to set up your jupyter notebook for the workshop."
   ]
  },
  {
   "cell_type": "code",
   "execution_count": null,
   "id": "05afaf9e",
   "metadata": {},
   "outputs": [],
   "source": [
    "import sys\n",
    "\n",
    "# Add project root so we can import local modules\n",
    "root_dir = sys.path.append(\"..\")\n",
    "sys.path.append(root_dir)\n",
    "    \n",
    "# Import here so cells don't depend on each other\n",
    "from IPython.display import display\n",
    "import ipywidgets as widgets\n",
    "import random\n",
    "\n",
    "from typing import List, Tuple\n",
    "from local.ec.static import Scalar, CurvePoint, ONE_POINT\n",
    "import local.stats as stats"
   ]
  },
  {
   "cell_type": "code",
   "execution_count": null,
   "id": "a4518e2b",
   "metadata": {},
   "outputs": [],
   "source": [
    "# You can adjust the selection any time\n",
    "\n",
    "matching_dropdown = widgets.Dropdown(\n",
    "    options=[\n",
    "        (\"Matching secret key (honest Peggy 😇)\", True),\n",
    "        (\"Different secret key (lying Peggy 😈)\", False)],\n",
    "    value=True,\n",
    "    description=\"Scenario:\",\n",
    ")\n",
    "matching_dropdown"
   ]
  },
  {
   "cell_type": "code",
   "execution_count": null,
   "id": "25a8f466",
   "metadata": {},
   "outputs": [],
   "source": [
    "x = Scalar.random()\n",
    "if matching_dropdown.value:\n",
    "    P = ONE_POINT * x\n",
    "else:\n",
    "    P = ONE_POINT * Scalar.random()\n",
    "\n",
    "print(f\"One * {x} = {P}\")"
   ]
  },
  {
   "cell_type": "code",
   "execution_count": null,
   "id": "solar-satisfaction",
   "metadata": {},
   "outputs": [],
   "source": [
    "class Peggy:\n",
    "    def __init__(self, x: Scalar):\n",
    "        self.x = x\n",
    "        \n",
    "    def commit(self) -> CurvePoint:\n",
    "        self.r = Scalar.random()\n",
    "        R = ONE_POINT * self.r\n",
    "        return R\n",
    "    \n",
    "    def respond(self, e: Scalar) -> Scalar:\n",
    "        s = self.r + e * self.x\n",
    "        return s\n",
    "\n",
    "class Victor:\n",
    "    def __init__(self, P: CurvePoint):\n",
    "        self.P = P\n",
    "    \n",
    "    def challenge(self, R: CurvePoint) -> Scalar:\n",
    "        self.R = R\n",
    "        self.e = Scalar.random()\n",
    "        return self.e\n",
    "    \n",
    "    def verify(self, s: Scalar) -> bool:\n",
    "        return s * ONE_POINT == self.R + e * self.P"
   ]
  },
  {
   "cell_type": "code",
   "execution_count": null,
   "id": "c492d1f7",
   "metadata": {},
   "outputs": [],
   "source": [
    "# Feel free to run this multiple times\n",
    "\n",
    "peggy = Peggy(x)\n",
    "victor = Victor(P)\n",
    "\n",
    "R = peggy.commit()\n",
    "print(f\"R = {R}\")\n",
    "\n",
    "e = victor.challenge(R)\n",
    "print(f\"e = {e}\")\n",
    "\n",
    "s = peggy.respond(e)\n",
    "print(f\"s = {s}\")\n",
    "print()\n",
    "\n",
    "# Victor is convinced\n",
    "if victor.verify(s):\n",
    "    # Matching secret key (good)\n",
    "    if matching_dropdown.value:\n",
    "        print(\"Convinced 👌 (expected)\")\n",
    "    # Different secret key (evil)\n",
    "    else:\n",
    "        print(\"Convinced 👌 (Victor was fooled)\")\n",
    "# Victor is not convinced\n",
    "else:\n",
    "    # Matching secret key (good)\n",
    "    if matching_dropdown.value:\n",
    "        print(\"Not convinced... 🤨 (Peggy was dumb)\")\n",
    "    # Different secret key (evil)\n",
    "    else:\n",
    "        print(\"Not convinced... 🤨 (expected)\")"
   ]
  },
  {
   "cell_type": "code",
   "execution_count": null,
   "id": "8752fbec",
   "metadata": {},
   "outputs": [],
   "source": [
    "n_exchanges_complete_slider = widgets.IntSlider(min=10, max=1000, value=10, step=10, description=\"#Exchanges\")\n",
    "n_exchanges_complete_slider"
   ]
  },
  {
   "cell_type": "code",
   "execution_count": null,
   "id": "electric-samba",
   "metadata": {},
   "outputs": [],
   "source": [
    "# Honest case\n",
    "x2 = Scalar.random()\n",
    "P2 = ONE_POINT * x2\n",
    "\n",
    "honest_peggy = Peggy(x2)\n",
    "victor = Victor(P2)\n",
    "\n",
    "peggy_success = 0\n",
    "\n",
    "for _ in range(n_exchanges_complete_slider.value):\n",
    "    R = honest_peggy.commit()\n",
    "    e = victor.challenge(R)\n",
    "    s = honest_peggy.respond(e)\n",
    "\n",
    "    if victor.verify(s):\n",
    "        peggy_success += 1\n",
    "        \n",
    "peggy_success_rate = peggy_success / n_exchanges_complete_slider.value * 100\n",
    "\n",
    "print(f\"Running {n_exchanges_complete_slider.value} exchanges\")\n",
    "print(f\"Honest Peggy wins {peggy_success_rate:0.2f}% of the time\")\n",
    "print()\n",
    "\n",
    "assert peggy_success_rate == 100\n",
    "print(\"Peggy always wins if she is honest\")"
   ]
  },
  {
   "cell_type": "code",
   "execution_count": null,
   "id": "0b7bca14",
   "metadata": {},
   "outputs": [],
   "source": [
    "n_exchanges_sound_slider = widgets.IntSlider(min=10, max=1000, value=10, step=10, description=\"#Exchanges\")\n",
    "n_exchanges_sound_slider"
   ]
  },
  {
   "cell_type": "code",
   "execution_count": null,
   "id": "1bbfe52e",
   "metadata": {},
   "outputs": [],
   "source": [
    "# Lying case\n",
    "x3 = Scalar.random()\n",
    "P3 = ONE_POINT * Scalar.random()\n",
    "\n",
    "lying_peggy = Peggy(x3)\n",
    "victor = Victor(P3)\n",
    "\n",
    "victor_success = 0\n",
    "\n",
    "for _ in range(n_exchanges_sound_slider.value):\n",
    "    R = lying_peggy.commit()\n",
    "    e = victor.challenge(R)\n",
    "    s = lying_peggy.respond(e)\n",
    "\n",
    "    if not victor.verify(s):\n",
    "        victor_success += 1\n",
    "\n",
    "victor_success_rate = victor_success / n_exchanges_sound_slider.value * 100\n",
    "\n",
    "print(f\"Running {n_exchanges_sound_slider.value} exchanges\")\n",
    "print(f\"Victor wins against lying Peggy {victor_success_rate:0.2f}% of the time\")\n",
    "print()\n",
    "\n",
    "if victor_success_rate < 75:\n",
    "    print(\"Victor has a small chance of getting fooled which decreases with the curve size\")\n",
    "else:\n",
    "    print(\"It is basically impossible to fool Victor\")"
   ]
  },
  {
   "cell_type": "code",
   "execution_count": null,
   "id": "78333fab",
   "metadata": {},
   "outputs": [],
   "source": [
    "n_transcripts_slider = widgets.IntSlider(min=1000, max=50000, value=10000, step=1000, description=\"#Transcripts\")\n",
    "n_transcripts_slider"
   ]
  },
  {
   "cell_type": "code",
   "execution_count": null,
   "id": "alert-exhibit",
   "metadata": {
    "scrolled": false
   },
   "outputs": [],
   "source": [
    "peggy = Peggy(x)\n",
    "victor = Victor(P)\n",
    "\n",
    "def real_transcript() -> Tuple:\n",
    "    R = peggy.commit()\n",
    "    e = victor.challenge(R)\n",
    "    s = peggy.respond(e)\n",
    "    return (R, e, s)\n",
    "\n",
    "\n",
    "def fake_transcript() -> Tuple:\n",
    "    e = Scalar.random()\n",
    "    s = Scalar.random()\n",
    "    R = ONE_POINT * s - P * e\n",
    "    return (R, e, s)\n",
    "\n",
    "\n",
    "print(\"Real transcript: {}\".format(real_transcript()))\n",
    "print(\"Fake transcript: {}\".format(fake_transcript()))\n",
    "print()\n",
    "\n",
    "real_samples = [real_transcript() for _ in range(n_transcripts_slider.value)]\n",
    "fake_samples = [fake_transcript() for _ in range(n_transcripts_slider.value)]\n",
    "\n",
    "# The chi-square test is only valid if most bins are filled\n",
    "# Increase the number of transcripts if there are too many empty bins\n",
    "\n",
    "null_hypothesis = stats.chi_square_equal(real_samples, fake_samples)\n",
    "print()\n",
    "\n",
    "if null_hypothesis:\n",
    "    print(\"Real and fake transcripts are the same distribution.\")\n",
    "    print(\"Victor learns nothing 👌\")\n",
    "else:\n",
    "    print(\"Real and fake transcripts are different distributions.\")\n",
    "    print(\"Victor might learn something 😧\")\n",
    "\n",
    "stats.plot_comparison(real_samples, fake_samples, \"real\", \"fake\")"
   ]
  },
  {
   "cell_type": "code",
   "execution_count": null,
   "id": "b339f10b",
   "metadata": {},
   "outputs": [],
   "source": []
  }
 ],
 "metadata": {
  "kernelspec": {
   "display_name": "Python 3 (ipykernel)",
   "language": "python",
   "name": "python3"
  },
  "language_info": {
   "codemirror_mode": {
    "name": "ipython",
    "version": 3
   },
   "file_extension": ".py",
   "mimetype": "text/x-python",
   "name": "python",
   "nbconvert_exporter": "python",
   "pygments_lexer": "ipython3",
   "version": "3.10.11"
  }
 },
 "nbformat": 4,
 "nbformat_minor": 5
}
