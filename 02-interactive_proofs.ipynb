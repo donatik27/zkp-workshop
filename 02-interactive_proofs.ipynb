{
 "cells": [
  {
   "cell_type": "markdown",
   "id": "a1b55267",
   "metadata": {},
   "source": [
    "# Interactive proofs TL;DR\n",
    "\n",
    "An interactive proof is a game between two players: the Prover and the Verifier.\n",
    "\n",
    "The Prover wants to convince the Verifier that a certain statement is true.\n",
    "\n",
    "The winning conditions are slightly assymetric: The Prover wins if it can convince the Verifier, especially if the statement is actually false! The Verifier wins if it accepts a true statement or if it exposes the Prover of lying.\n",
    "\n",
    "There is a small island in which **both parties win**: The Prover convinces the Verifier of a true statement."
   ]
  },
  {
   "cell_type": "markdown",
   "id": "0f2a4842",
   "metadata": {},
   "source": [
    "# Statements\n",
    "\n",
    "A statement is any precise mathematical fact that can be true or false.\n",
    "\n",
    "\"1 + 1 = 2\"\n",
    "\n",
    "\"2 + 2 = 5\"\n",
    "\n",
    "_Statements don't have to be true._\n",
    "\n",
    "\"A cube is a 3D object\"\n",
    "\n",
    "\"This puzzle has a solution\"\n",
    "\n",
    "\"I know the solution to this puzzle\"\n",
    "\n",
    "The last one is interesting because it talks about knowledge of something. Later we will make this mathematically precise."
   ]
  },
  {
   "cell_type": "code",
   "execution_count": null,
   "id": "b0c61339",
   "metadata": {},
   "outputs": [],
   "source": [
    "# We will use this statement for our exercises\n",
    "\n",
    "# \"I know a number x such that 2 + x = 5\"\n",
    "def statement(witness):\n",
    "    return 2 + witness == 5"
   ]
  },
  {
   "cell_type": "markdown",
   "id": "0424ba57",
   "metadata": {},
   "source": [
    "# Does an honest Prover always win?\n",
    "\n",
    "If the Prover is honest, then it should be able to convince the Verifier. The Verifier has to play along instead of rejecting every attempt.\n",
    "\n",
    "This should work almost all the time. Prover and Verifier are probabilistic algorithms.\n",
    "\n",
    "We call this **completeness** and it is one of three important properties of interactive proof systems."
   ]
  },
  {
   "cell_type": "markdown",
   "id": "7042fde7",
   "metadata": {},
   "source": [
    "## Exercise\n",
    "\n",
    "What is a simple protocol for our statement that is complete?"
   ]
  },
  {
   "cell_type": "code",
   "execution_count": null,
   "id": "14172715",
   "metadata": {},
   "outputs": [],
   "source": [
    "class CompleteProver:\n",
    "    def send(self):\n",
    "        pass  # TODO: What to send?\n",
    "        \n",
    "class CompleteVerifier:\n",
    "    def verify(self, x):\n",
    "        pass  # TODO: How to verify?\n",
    "        \n",
    "prover = CompleteProver()\n",
    "verifier = CompleteVerifier()\n",
    "x = prover.send()\n",
    "\n",
    "if verifier.verify(x):\n",
    "    print(\"Convinced 👌\")\n",
    "else:\n",
    "    print(\"Not convinced... 🤨\")"
   ]
  },
  {
   "cell_type": "markdown",
   "id": "118ed37d",
   "metadata": {},
   "source": [
    "# Does a vigilant Verifier never lose?\n",
    "\n",
    "If the Prover is dishonest, it shouldn't be able to deceive the Verifier. Even if the Prover disregards the protocol. The Verifier has to do minimal checking instead of accepting every attempt.\n",
    "\n",
    "Again, this should work most of the time.\n",
    "\n",
    "We call this **soundness** and it is the second important property of interactive proof systems."
   ]
  },
  {
   "cell_type": "markdown",
   "id": "1c852796",
   "metadata": {},
   "source": [
    "## Exercise\n",
    "\n",
    "What is a simple protocol for our statement that is sound but incomplete?"
   ]
  },
  {
   "cell_type": "code",
   "execution_count": null,
   "id": "98544706",
   "metadata": {},
   "outputs": [],
   "source": [
    "class SoundProver:\n",
    "    def send(self):\n",
    "        pass  # TODO: What to send?\n",
    "        \n",
    "class SoundVerifier:\n",
    "    def verify(self, x):\n",
    "        pass  # TODO: How to verify?\n",
    "        \n",
    "prover = SoundProver()\n",
    "verifier = SoundVerifier()\n",
    "x = prover.send()\n",
    "\n",
    "if verifier.verify(x):\n",
    "    print(\"Convinced 👌\")\n",
    "else:\n",
    "    print(\"Not convinced... 🤨\")"
   ]
  },
  {
   "cell_type": "markdown",
   "id": "5f75829a",
   "metadata": {},
   "source": [
    "## Exercise\n",
    "\n",
    "What is a simple protocol for our statement that is sound and complete?\n",
    "\n",
    "Combining soundness and completeness makes it much harder to \"cheat\" in protocol design."
   ]
  },
  {
   "cell_type": "code",
   "execution_count": null,
   "id": "f01a9206",
   "metadata": {},
   "outputs": [],
   "source": [
    "class CorrectProver:\n",
    "    def send(self):\n",
    "        pass  # TODO: What to send?\n",
    "        \n",
    "class CorrectVerifier:\n",
    "    def verify(self, x):\n",
    "        pass  # TODO: How to verify?\n",
    "        \n",
    "prover = CorrectProver()\n",
    "verifier = CorrectVerifier()\n",
    "x = prover.send()\n",
    "\n",
    "if verifier.verify(x):\n",
    "    print(\"Convinced 👌\")\n",
    "else:\n",
    "    print(\"Not convinced... 🤨\")"
   ]
  },
  {
   "cell_type": "markdown",
   "id": "15fd5979",
   "metadata": {},
   "source": [
    "# Knowledge of something\n",
    "\n",
    "Prover and Verifier are algorithms. What does it mean for them to \"know\" something?\n",
    "\n",
    "Think of it this way: **An algorithm knows what it can (easily) compute.**\n",
    "\n",
    "Obviously it knows its initial data and anything passed to it from the outside world.\n",
    "\n",
    "It learns new knowledge by computing new values based on what it already knows. This makes sense: Humans also make these deriviations.\n",
    "\n",
    "Is there a commonly accepted definition for an \"easy\" computation? Yes! **Polynomial computations**.\n",
    "\n",
    "Polynomial computations _(the complexity class P)_ are seen as easy / feasible / efficient. Addition is easy. Finding a path between two points in a graph is easy. Verifying the solution to a sudoku is easy.\n",
    "\n",
    "The opposite are exponential computations _(the complexity class NP)_ which are seen as hard / infeasible / inefficient. Finding the shortest path that visits all points in a graph exactly once is hard. Coming up with a solution to a sudoku is hard. Computing the discrete logarithm of a curve point is hard.\n",
    "\n",
    "An algorithm can learn polynomially, but not exponentially. Exponential learning would be cheating. A human equivalent would be to come up with mathematical proofs of artistic masterpieces on the spot. Some humans do that, sometimes, but we don't want to assume that our algorithms are geniuses! Also, exponential power would far surpass even the greatest human geniuses."
   ]
  },
  {
   "cell_type": "markdown",
   "id": "1c412b77",
   "metadata": {},
   "source": [
    "# An interesting problem\n",
    "\n",
    "We need a non-trivial problem to work through the remaining sections, so here you have it:\n",
    "\n",
    "A graph consists of nodes and edges. Coloring a graph means to assign a color to each node. For each edge, adjacent nodes must have a different color.\n",
    "\n",
    "Every graph can be four-colored, but not every graph can be three-colored! Three coloring is an NP-complete problem. An exponential computation!\n",
    "\n",
    "![image](graph.png)"
   ]
  },
  {
   "cell_type": "markdown",
   "id": "0ebc1ac0",
   "metadata": {},
   "source": [
    "# Interactive proof for three coloring\n",
    "\n",
    "Here is an interactive proof system for three coloring.\n",
    "\n",
    "The Verifier chooses a random edge and challenges the Prover to color it. The Verifier then checks if this colored edge is valid.\n",
    "\n",
    "If the Verifier is not convinced by one check, it can challenge the Prover as often as it wants. To prevent any leak of knowledge about the coloring, the Prover randomizes the \"world\" it is in, i.e., it swaps the colors.\n",
    "\n",
    "This system is complete because the Verifier can ask as much as it wants and the Prover will always be able to provide a satisfactory answer.\n",
    "\n",
    "Is this sound? (See exercise below)"
   ]
  },
  {
   "cell_type": "code",
   "execution_count": null,
   "id": "17bed2ef",
   "metadata": {},
   "outputs": [],
   "source": [
    "from myec import *\n",
    "    \n",
    "H = GLOBAL_POINTS.next()\n",
    "print(H.xy())\n",
    "\n",
    "class Opening:\n",
    "    def __init__(self, v: Scalar):\n",
    "        self.r = random_scalar()\n",
    "        self.v = v\n",
    "        \n",
    "    def close(self) -> AffinePoint:\n",
    "        return self.r * H + self.v * ONE_POINT\n",
    "    \n",
    "    def verify(self, C: AffinePoint) -> bool:\n",
    "        return C == self.close()"
   ]
  },
  {
   "cell_type": "code",
   "execution_count": null,
   "id": "447cf307",
   "metadata": {},
   "outputs": [],
   "source": [
    "import random\n",
    "from typing import List, Tuple\n",
    "\n",
    "graph = [(1, 2), (2, 3), (3, 4), (4, 5), (5, 1), (1, 6)] + \\\n",
    "    [(2, 7), (3, 8), (4, 9), (5, 10)] + \\\n",
    "    [(6, 8), (6, 9), (7, 9), (7, 10), (8, 10)]\n",
    "\n",
    "coloring = {1: 0, 7: 0, 8: 0, 4: 0, 2: 1, 6: 1, 5: 1, 3: 2, 9: 2, 10: 2}\n",
    "index_to_color = [[\"r\", \"b\", \"g\"], [\"r\", \"g\", \"b\"],\n",
    "                  [\"b\", \"r\", \"g\"], [\"b\", \"g\", \"r\"],\n",
    "                  [\"g\", \"r\", \"b\"], [\"g\", \"b\", \"r\"]]\n",
    "\n",
    "class ColorProver:\n",
    "    def __init__(self, coloring):\n",
    "        self.coloring = coloring\n",
    "        self.world = random.randrange(6)\n",
    "        \n",
    "    def commit(self):\n",
    "        self.openings = {}\n",
    "        self.commitments = {}\n",
    "        \n",
    "        for index in coloring:\n",
    "            opening = Opening(Scalar(coloring[index]))\n",
    "            self.openings[index] = opening\n",
    "            self.commitments[index] = opening.close()\n",
    "            \n",
    "        return self.commitments\n",
    "    \n",
    "    def color_edge(self, edge: Tuple[int, int]) -> Tuple[Tuple[str, str], Tuple[Opening, Opening]]:\n",
    "        left_index = self.coloring[edge[0]]\n",
    "        left_color = index_to_color[self.world][left_index]\n",
    "        right_index = self.coloring[edge[1]]\n",
    "        right_color = index_to_color[self.world][right_index]\n",
    "        \n",
    "        return (left_color, right_color), (self.openings[edge[0]], self.openings[edge[1]])\n",
    "\n",
    "class ColorVerifier:\n",
    "    def __init__(self, graph):\n",
    "        self.graph = graph\n",
    "    \n",
    "    def random_edge(self, commitments: List[AffinePoint]) -> Tuple[int, int]:\n",
    "        self.commitments = commitments\n",
    "        self.edge = random.choice(self.graph)\n",
    "        return self.edge\n",
    "    \n",
    "    def verify(self, colored_edge: Tuple[str, str], openings: Tuple[Opening, Opening]) -> bool:\n",
    "        if colored_edge[0] == colored_edge[1]:\n",
    "            print(\"Coloring looks off\")\n",
    "            return False\n",
    "        if not openings[0].verify(self.commitments[self.edge[0]]):\n",
    "            print(\"Left commitment looks off\")\n",
    "            return False\n",
    "        if not openings[1].verify(self.commitments[self.edge[1]]):\n",
    "            print(\"Right commitment looks off\")\n",
    "            return False\n",
    "        \n",
    "        return True\n",
    "    \n",
    "\n",
    "# Feel free to rerun this multiple times!\n",
    "\n",
    "prover = ColorProver(coloring)\n",
    "commitments = prover.commit()\n",
    "verifier = ColorVerifier(graph)\n",
    "edge = verifier.random_edge(commitments)\n",
    "print(\"Edge: {}\".format(edge))\n",
    "colored_edge, openings = prover.color_edge(edge)\n",
    "print(\"Colored edge: {}\".format(colored_edge))\n",
    "\n",
    "if verifier.verify(colored_edge, openings):\n",
    "    print(\"Convinced 👌\")\n",
    "else:\n",
    "    print(\"Not convinced... 🤨\")"
   ]
  },
  {
   "cell_type": "markdown",
   "id": "60d20c3f",
   "metadata": {},
   "source": [
    "## Exercise\n",
    "\n",
    "What does the Color Verifier know and why? What does it not know and why?"
   ]
  },
  {
   "cell_type": "code",
   "execution_count": null,
   "id": "424d6416",
   "metadata": {},
   "outputs": [],
   "source": [
    "known = None # TODO: Change\n",
    "unknown = None # TODO: Change"
   ]
  },
  {
   "cell_type": "markdown",
   "id": "9aa603c8",
   "metadata": {},
   "source": [
    "# Extracting knowledge as proof of knowledge\n",
    "\n",
    "The Verifier wants to accept only if the Prover really knows what it claims to know. How can we make sure of that?\n",
    "\n",
    "We do a thought experiment: The Prover is a black box that claims to contain a secret. We are the Verifier and would like to learn the secret. If we can interact with this box through the protocol to learn the secret, then the box must have contained it to begin with!\n",
    "\n",
    "In the physical world this is obvious, but there is some interesting logic in the mathematical world.\n",
    "\n",
    "In the beginning, the Verifier doesn't know the secret. No polynomial computation leads to it. Then the Verifier interacts with the Prover in a _polynomial_ way. The Verifier is not allowed to do any genius-level exponential stuff. This interaction is one of the aforementioned polynomial computations, but this time the Prover is there. The Verifier learns the secret. Ergo, the secret came from the Prover!"
   ]
  },
  {
   "cell_type": "markdown",
   "id": "b9601561",
   "metadata": {},
   "source": [
    "## Exercise\n",
    "\n",
    "Extract the secret coloring from the prover, showing that this interactive proof system is sound.\n",
    "\n",
    "_Hint: Use the fact that the Prover is an object that can be manipulated at your whim_\n",
    "\n",
    "_Hint: Use the methods from the protocol in a different order / number_"
   ]
  },
  {
   "cell_type": "code",
   "execution_count": null,
   "id": "ad63c661",
   "metadata": {},
   "outputs": [],
   "source": [
    "def extract_coloring(prover):\n",
    "    coloring = {}\n",
    "    \n",
    "    # TODO: Add function body\n",
    "        \n",
    "    return coloring\n",
    "\n",
    "\n",
    "prover = ColorProver(coloring)\n",
    "extract = extract_coloring(prover)\n",
    "\n",
    "# The original coloring is in terms of indices, not in terms of colors\n",
    "# Using indices is equivalent to using colors, but we can't check for equality with our extracted coloring\n",
    "# So we map the coloring from indices to colors, using the \"world\" that the Prover used\n",
    "mapped_coloring = {}\n",
    "for node, color_id in coloring.items():\n",
    "    mapped_coloring[node] = index_to_color[prover.world][color_id]\n",
    "\n",
    "if mapped_coloring == extract:\n",
    "    print(\"Extraction successful 😈\")\n",
    "else:\n",
    "    print(\"I didn't believe in this extraction business from the get-go 🤨\")"
   ]
  },
  {
   "cell_type": "markdown",
   "id": "a5839d56",
   "metadata": {},
   "source": [
    "# Zero knowledge\n",
    "\n",
    "The Prover wants to convince the Verifier without revealing any information. This seems impossible.\n",
    "\n",
    "Let's rephrase the task: The Verifier is not supposed to learn anything that it doesn't already know.\n",
    "\n",
    "We do another thought experiment: At the start of the protocol, the Verifier knows what it can compute in polynomial time, without access to the Prover. We show that anything the Verifier might learn during the protocol, the Verifier already knew before the protocol started!\n",
    "\n",
    "Our protocols are probabilistic, so our situation is slightly more complicated.\n",
    "\n",
    "Prover and Verifier exchange messages, called the transcript. This randomly changes every time, so we have a random distribution of transcripts. The Verifier uses some algorithm to extract information from this distribution.\n",
    "\n",
    "If the incoming distribution of transcripts is the same, then the outgoing distribution of extracted information is the same.\n",
    "\n",
    "To show that the Verifier already knew everything it could extract, we show that the Verifier can compute identical-looking transcripts. This happens without access to the Prover and in polynomial time.\n",
    "\n",
    "Ergo, the Verifier ends up extracting information that it already knows and our protocol is zero-knowledge."
   ]
  },
  {
   "cell_type": "markdown",
   "id": "baa38b79",
   "metadata": {},
   "source": [
    "## Exercise\n",
    "\n",
    "Run the following code to get a feeling for what the (real) transcript distribution looks like. Adjust the number of iterations and see how it affects the plot."
   ]
  },
  {
   "cell_type": "code",
   "execution_count": null,
   "id": "eefa7c36",
   "metadata": {},
   "outputs": [],
   "source": [
    "import numpy as np\n",
    "import matplotlib.pyplot as plt\n",
    "\n",
    "verifier = ColorVerifier(graph)\n",
    "\n",
    "def real_transcript():\n",
    "    prover = ColorProver(coloring)\n",
    "    commitments = prover.commit()\n",
    "    verifier = ColorVerifier(graph)\n",
    "    edge = verifier.random_edge(commitments)\n",
    "    colored_edge, openings = prover.color_edge(edge)\n",
    "    return (edge, colored_edge)\n",
    "\n",
    "def color_to_int(color):\n",
    "    return {\"r\": 0, \"g\": 1, \"b\": 2}[color]\n",
    "\n",
    "number_edges = len(graph)\n",
    "number_colors = 3\n",
    "\n",
    "def compress(edge, colored_edge):\n",
    "    e_prime = graph.index(edge) * number_colors ** 2\n",
    "    c0_prime = color_to_int(colored_edge[0]) * number_colors\n",
    "    c1_prime = color_to_int(colored_edge[1])\n",
    "    return e_prime + c0_prime + c1_prime\n",
    "\n",
    "\n",
    "real_data = []\n",
    "\n",
    "for _ in range(0, None):  # TODO: Change\n",
    "    real_data.append(compress(*real_transcript()))\n",
    "    \n",
    "plt.hist(real_data)\n",
    "plt.show()"
   ]
  },
  {
   "cell_type": "markdown",
   "id": "43da84a2",
   "metadata": {},
   "source": [
    "## Exercise\n",
    "\n",
    "Run the following code the generate a fake distribution of transcripts. Notice how the algorithm has no access to the Prover. It just produces random edges and colors. Compare with the real transcripts. Are the distributions distinguishable?"
   ]
  },
  {
   "cell_type": "code",
   "execution_count": null,
   "id": "89755549",
   "metadata": {},
   "outputs": [],
   "source": [
    "def int_to_color(i):\n",
    "    return [\"r\", \"g\", \"b\"][i]\n",
    "\n",
    "def fake_transcript():\n",
    "    e = random.randrange(0, number_edges)\n",
    "    edge = graph[e]\n",
    "    c0 = random.randrange(0, number_colors)\n",
    "    if random.random() > 0.5:\n",
    "        c1 = (c0 + 1) % 3\n",
    "    else:\n",
    "        c1 = (c0 - 1) % 3\n",
    "    colored_edge = (int_to_color(c0), int_to_color(c1))\n",
    "    \n",
    "    return (edge, colored_edge)\n",
    "\n",
    "\n",
    "fake_data = []\n",
    "\n",
    "for _ in range(0, None):  # TODO: Change\n",
    "    fake_data.append(compress(*fake_transcript()))\n",
    "    \n",
    "plt.hist(fake_data)\n",
    "plt.show()"
   ]
  },
  {
   "cell_type": "code",
   "execution_count": null,
   "id": "a8cbb699",
   "metadata": {},
   "outputs": [],
   "source": []
  }
 ],
 "metadata": {
  "kernelspec": {
   "display_name": "Python 3 (ipykernel)",
   "language": "python",
   "name": "python3"
  },
  "language_info": {
   "codemirror_mode": {
    "name": "ipython",
    "version": 3
   },
   "file_extension": ".py",
   "mimetype": "text/x-python",
   "name": "python",
   "nbconvert_exporter": "python",
   "pygments_lexer": "ipython3",
   "version": "3.10.11"
  }
 },
 "nbformat": 4,
 "nbformat_minor": 5
}
