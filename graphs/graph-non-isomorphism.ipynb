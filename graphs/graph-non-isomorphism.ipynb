{
 "cells": [
  {
   "cell_type": "markdown",
   "id": "4bb4afd6",
   "metadata": {},
   "source": [
    "# Graph Non-Isomorphism\n",
    "\n",
    "In this chapter we construct a zero-knowledge protocol around graph non-isomorphism."
   ]
  },
  {
   "cell_type": "markdown",
   "id": "7a27c0ac",
   "metadata": {},
   "source": [
    "# What is a graph? What is isomorphism?\n",
    "\n",
    "Check out the chapter on graph isomorphism."
   ]
  },
  {
   "cell_type": "markdown",
   "id": "34811593",
   "metadata": {},
   "source": [
    "# What is an interactive proof?\n",
    "\n",
    "Peggy and Victor are engaged in an interactive proof.\n",
    "\n",
    "There are two (random) graphs.\n",
    "\n",
    "Peggy thinks that both graphs are structually different, ergo that both graphs are not isomorphic.  She wants to prove that to Victor.\n",
    "\n",
    "Victor is sceptical and wants to see evidence. In particular he doesn't want to be convinced if Peggy is lying (both graphs are actually isomorphic).\n",
    "\n",
    "Peggy wins if she convinces Victor. Victor wins by accepting only graphs that are actually different."
   ]
  },
  {
   "cell_type": "markdown",
   "id": "d1b79ce1",
   "metadata": {},
   "source": [
    "# Jupyter setup\n",
    "\n",
    "Run the following snippet to set up your jupyter notebook for the workshop."
   ]
  },
  {
   "cell_type": "code",
   "execution_count": null,
   "id": "e6b8a39a",
   "metadata": {},
   "outputs": [],
   "source": [
    "import os\n",
    "import sys\n",
    "\n",
    "# Add project root so we can import local modules\n",
    "root_dir = sys.path.append(\"..\")\n",
    "sys.path.append(root_dir)"
   ]
  },
  {
   "cell_type": "markdown",
   "id": "b204164c",
   "metadata": {},
   "source": [
    "# Graph Parameters\n",
    "\n",
    "Choose the number of nodes and the number of edges for the first graph.\n",
    "\n",
    "Feel free to experiment with different values."
   ]
  },
  {
   "cell_type": "code",
   "execution_count": null,
   "id": "5aaef556",
   "metadata": {},
   "outputs": [],
   "source": [
    "import ipywidgets as widgets\n",
    "from IPython.display import display\n",
    "\n",
    "# You can adjust the sliders any time\n",
    "\n",
    "num_nodes = widgets.IntSlider(min=3, max=20, value=5, step=1, description=\"#Nodes\")\n",
    "num_edges = widgets.IntSlider(min=2, max=40, value=8, step=1, description=\"#Edges\")\n",
    "\n",
    "display(num_nodes)\n",
    "display(num_edges)"
   ]
  },
  {
   "cell_type": "markdown",
   "id": "b037c351",
   "metadata": {},
   "source": [
    "# First Graph\n",
    "\n",
    "Generate the first graph."
   ]
  },
  {
   "cell_type": "code",
   "execution_count": null,
   "id": "06490906",
   "metadata": {},
   "outputs": [],
   "source": [
    "import networkx as nx\n",
    "import matplotlib.pyplot as plt\n",
    "from local.graph import Mapping, random_graph, non_isomorphic_graph\n",
    "\n",
    "# Rerun this cell to regenerate the first graph\n",
    "\n",
    "graph1 = random_graph(num_nodes.value, num_edges.value)\n",
    "print(\"First graph\")\n",
    "nx.draw(graph1, with_labels=True)\n",
    "plt.show()"
   ]
  },
  {
   "cell_type": "markdown",
   "id": "07849595",
   "metadata": {},
   "source": [
    "# Scenario\n",
    "\n",
    "There are two scenarios in this interactive proof:\n",
    "\n",
    "1. **Peggy is honest** and both graphs are structually different. She hopes to convince Victor of the true statement that both graphs are not isomorphic.\n",
    "2. **Peggy is lying** and has no reason to believe that both graphs are different. There might even exist a translation between both graphs! Peggy still tries to fool Victor of the false statement that both graphs are not isomorphic.\n",
    "\n",
    "Choose the good or the evil scenario. See how it affects the other cells further down."
   ]
  },
  {
   "cell_type": "code",
   "execution_count": null,
   "id": "643ba49f",
   "metadata": {},
   "outputs": [],
   "source": [
    "# You can adjust the selection any time\n",
    "# Make sure to re-generate the second graph afterwards\n",
    "\n",
    "is_isomorphic = widgets.Dropdown(\n",
    "    options=[\n",
    "        (\"Second graph not isomorphic (honest Peggy 😇)\", False),\n",
    "        (\"Second graph isomorphic (lying Peggy 😈)\", True)],\n",
    "    value=False,\n",
    "    description=\"Scenario:\",\n",
    ")\n",
    "is_isomorphic"
   ]
  },
  {
   "cell_type": "markdown",
   "id": "6628c72a",
   "metadata": {},
   "source": [
    "# Second Graph\n",
    "\n",
    "Now generate the second graph. In the good scenario it is structually different from the first graph. In the evil scenario, it is isomorphic."
   ]
  },
  {
   "cell_type": "code",
   "execution_count": null,
   "id": "40c33ad4",
   "metadata": {},
   "outputs": [],
   "source": [
    "# Rerun this cell to generate a new second graph\n",
    "# Rerun this cell after changing the scenario above\n",
    "\n",
    "if is_isomorphic.value:\n",
    "    from_1_to_2 = Mapping.shuffle_graph(graph1)\n",
    "    graph2 = from_1_to_2.apply_graph(graph1)\n",
    "    print(\"Second graph [isomorphic to first graph]\")\n",
    "    print(\"Translation: {}\".format(from_1_to_2))\n",
    "else:\n",
    "    graph2 = non_isomorphic_graph(graph1)\n",
    "    print(\"Second graph [not isomorphic to first graph]\")\n",
    "    \n",
    "nx.draw(graph2, with_labels=True)\n",
    "plt.show()"
   ]
  },
  {
   "cell_type": "markdown",
   "id": "2a76c669",
   "metadata": {},
   "source": [
    "# Protocol\n",
    "\n",
    "The proof is simple:\n",
    "\n",
    "Victor randomly chooses between graph one or two, shuffles it and sends the resulting shuffled graph to Peggy.\n",
    "\n",
    "Peggy has to decide if graph one or two was shuffled. If graph one and two are structually different, then the shuffled graph is always isomorphic to either one but never both. So Peggy checks for isomorphism and answers.\n",
    "\n",
    "Victor checks if Peggy answered correctly."
   ]
  },
  {
   "cell_type": "code",
   "execution_count": null,
   "id": "23b6d019",
   "metadata": {
    "scrolled": true
   },
   "outputs": [],
   "source": [
    "import random\n",
    "\n",
    "class Peggy:\n",
    "    def __init__(self, graph1: nx.Graph, graph2: nx.Graph):\n",
    "        self.graph1 = graph1\n",
    "        self.graph2 = graph2\n",
    "    \n",
    "    def distinguish(self, shuffled_graph: nx.Graph) -> nx.Graph:\n",
    "        if nx.is_isomorphic(self.graph1, shuffled_graph):\n",
    "            return 0\n",
    "        else:\n",
    "            assert nx.is_isomorphic(self.graph2, shuffled_graph)\n",
    "            return 1\n",
    "\n",
    "class Victor:\n",
    "    def __init__(self, graph1: nx.Graph, graph2: nx.Graph):\n",
    "        self.graphs = [graph1, graph2]\n",
    "    \n",
    "    def shuffled_graph(self) -> nx.Graph:\n",
    "        self.chosen_index = random.randrange(0, 2)\n",
    "        chosen_graph = self.graphs[self.chosen_index]\n",
    "        shuffle = Mapping.shuffle_graph(chosen_graph)\n",
    "        shuffled_graph = shuffle.apply_graph(chosen_graph)\n",
    "        \n",
    "        return shuffled_graph\n",
    "    \n",
    "    def verify(self, index: int) -> bool:\n",
    "        return index == self.chosen_index"
   ]
  },
  {
   "cell_type": "markdown",
   "id": "31bac646",
   "metadata": {},
   "source": [
    "# Single Exchange\n",
    "\n",
    "Let's run a couple of exchanges to get familiar. Feel free to experiment with the graph parameters and the scenario. The system is random so there could be a different outcome next time you run with the same settings 😉"
   ]
  },
  {
   "cell_type": "code",
   "execution_count": null,
   "id": "7c1bca4f",
   "metadata": {},
   "outputs": [],
   "source": [
    "# Feel free to run this multiple times\n",
    "\n",
    "peggy = Peggy(graph1, graph2)\n",
    "victor = Victor(graph1, graph2)\n",
    "\n",
    "shuffled_graph = victor.shuffled_graph()\n",
    "index = peggy.distinguish(shuffled_graph)\n",
    "\n",
    "# Victor is convinced\n",
    "if victor.verify(index):\n",
    "    # Two graphs were isomorphic (evil)\n",
    "    if is_isomorphic.value:\n",
    "        print(\"Convinced 👌 (Victor was fooled)\")\n",
    "    # Two graphs were non-isomorphic (good)\n",
    "    else:\n",
    "        print(\"Convinced 👌 (expected)\")\n",
    "# Victor is not convinced\n",
    "else:\n",
    "    # Two graphs were isomorphic (evil)\n",
    "    if is_isomorphic.value:\n",
    "        print(\"Not convinced... 🤨 (expected)\")\n",
    "    # Two graphs were non-isomorphic (good)\n",
    "    else:\n",
    "        print(\"Not convinced... 🤨 (Peggy was dumb)\")"
   ]
  },
  {
   "cell_type": "markdown",
   "id": "d5137a1f",
   "metadata": {},
   "source": [
    "# Completeness\n",
    "\n",
    "Does Peggy have a chance to convince Victor if she is honest? Let's run the protocol a couple of times and see how often she manages to convince him."
   ]
  },
  {
   "cell_type": "code",
   "execution_count": null,
   "id": "71bb32b0",
   "metadata": {},
   "outputs": [],
   "source": [
    "num_exchanges_complete = widgets.IntSlider(min=10, max=1000, value=10, step=10, description=\"#Exchanges\")\n",
    "num_exchanges_complete"
   ]
  },
  {
   "cell_type": "code",
   "execution_count": null,
   "id": "60792496",
   "metadata": {},
   "outputs": [],
   "source": [
    "graph3 = non_isomorphic_graph(graph1)\n",
    "\n",
    "honest_peggy = Peggy(graph1, graph3)\n",
    "victor = Victor(graph1, graph3)\n",
    "\n",
    "peggy_success = 0\n",
    "\n",
    "for _ in range(num_exchanges_complete.value):\n",
    "    shuffled_graph = victor.shuffled_graph()\n",
    "    index = honest_peggy.distinguish(shuffled_graph)\n",
    "\n",
    "    if victor.verify(index):\n",
    "        peggy_success += 1\n",
    "        \n",
    "peggy_success_rate = peggy_success / num_exchanges_complete.value * 100\n",
    "\n",
    "print(\"Running {} exchanges\".format(num_exchanges_complete.value))\n",
    "print(\"Honest Peggy wins {0:0.2f}% of the time\".format(peggy_success_rate))\n",
    "print()\n",
    "\n",
    "assert peggy_success_rate == 100\n",
    "print(\"Peggy always wins if she is honest\")"
   ]
  },
  {
   "cell_type": "markdown",
   "id": "562c15df",
   "metadata": {},
   "source": [
    "# Soundness\n",
    "\n",
    "Now, does Victor have a chance to expose Peggy if she is lying? Actually, Peggy can pass his test 50% of the time by random guessing!\n",
    "\n",
    "There is an easy way to boost Victor's confidence: run the protocol for **multiple rounds**. Victor shuffles one of the two graphs, Peggy has to say which graph was shuffled; repeat. Each round the shuffling and the chosen graph will be different. Peggy has to meet Victor's challenge **every time** while he has to expose her cheating **only once**. He has a much easier time and thus gains in confidence.\n",
    "\n",
    "The chance that Victor gets fooled after `n` rounds is `0.5^i`, which decreases exponentially in `i`."
   ]
  },
  {
   "cell_type": "code",
   "execution_count": null,
   "id": "34f80fd2",
   "metadata": {},
   "outputs": [],
   "source": [
    "num_exchanges_sound = widgets.IntSlider(min=10, max=1000, value=10, step=10, description=\"#Exchanges\")\n",
    "num_rounds = widgets.IntSlider(min=1, max=10, value=1, step=1, description=\"#Rounds\")\n",
    "\n",
    "display(num_exchanges_sound)\n",
    "display(num_rounds)"
   ]
  },
  {
   "cell_type": "code",
   "execution_count": null,
   "id": "fa919e3b",
   "metadata": {},
   "outputs": [],
   "source": [
    "# Translation between graphs 1 and 4\n",
    "# Both graphs are isomorphic!\n",
    "from_1_to_4 = Mapping.shuffle_graph(graph1)\n",
    "graph4 = from_1_to_4.apply_graph(graph1)\n",
    "\n",
    "lying_peggy = Peggy(graph1, graph4)\n",
    "victor = Victor(graph1, graph4)\n",
    "\n",
    "victor_success = 0\n",
    "\n",
    "for _ in range(num_exchanges_sound.value):\n",
    "    for _ in range(num_rounds.value):\n",
    "        shuffled_graph = victor.shuffled_graph()\n",
    "        index = lying_peggy.distinguish(shuffled_graph)\n",
    "    \n",
    "        if not victor.verify(index):\n",
    "            victor_success += 1\n",
    "            break\n",
    "            \n",
    "victor_success_rate = victor_success / num_exchanges_sound.value * 100\n",
    "\n",
    "print(\"Running {} exchanges with {} rounds each\".format(num_exchanges_sound.value, num_rounds.value))\n",
    "print(\"Victor wins against lying Peggy {0:0.2f}% of the time\".format(victor_success_rate))\n",
    "print()\n",
    "\n",
    "if victor_success_rate < 50:\n",
    "    print(\"Victor loses quite often for a small number of rounds\")\n",
    "elif victor_success_rate < 90:\n",
    "    print(\"Victor gains more confidence with each added round\")\n",
    "else:\n",
    "    print(\"At some point it is basically impossible to fool Victor\")"
   ]
  },
  {
   "cell_type": "markdown",
   "id": "f38dca91",
   "metadata": {},
   "source": [
    "# Zero-Knowledge\n",
    "\n",
    "There is no secret involved in this proof, but does Victor learn anything from his exchange with Peggy (besides the fact that both graphs are structually different)?\n",
    "\n",
    "If we look at the transcript, it is a shuffled graph and the index of the graph that was shuffled. Anybody can replicate that! If we choose a random index and shuffle that graph, the outcome should be the same.\n",
    "\n",
    "Let's do a chi-square test to see if the real and fake transcripts follow the same distribution."
   ]
  },
  {
   "cell_type": "code",
   "execution_count": null,
   "id": "8a7b9bb0",
   "metadata": {},
   "outputs": [],
   "source": [
    "num_transcripts = widgets.IntSlider(min=1000, max=50000, value=10000, step=1000, description=\"#Transcripts\")\n",
    "num_transcripts"
   ]
  },
  {
   "cell_type": "code",
   "execution_count": null,
   "id": "d09b788b",
   "metadata": {},
   "outputs": [],
   "source": [
    "from typing import Tuple\n",
    "import local.stats as stats\n",
    "\n",
    "# Make sure to run this for small graphs (adjust the graph parameters)\n",
    "# Large graphs can lead to errors\n",
    "# The list of critical chi-square values might be too short for the large number of degrees of freedom\n",
    "# Large graphs also require very many transcripts, which is slow\n",
    "\n",
    "peggy = Peggy(graph1, graph2)\n",
    "victor = Victor(graph1, graph2)\n",
    "\n",
    "def real_transcript() -> Tuple:\n",
    "    shuffled_graph = victor.shuffled_graph()\n",
    "    index = peggy.distinguish(shuffled_graph)\n",
    "    \n",
    "    return tuple(shuffled_graph.edges()), index\n",
    "\n",
    "\n",
    "def fake_transcript() -> Tuple:\n",
    "    index = random.randrange(0, 2)\n",
    "    chosen_graph = [graph1, graph2][index]\n",
    "    shuffle = Mapping.shuffle_graph(chosen_graph)\n",
    "    shuffled_graph = shuffle.apply_graph(chosen_graph)\n",
    "    \n",
    "    return tuple(shuffled_graph.edges()), index\n",
    "\n",
    "\n",
    "real_samples = [real_transcript() for _ in range(num_transcripts.value)]\n",
    "fake_samples = [fake_transcript() for _ in range(num_transcripts.value)]\n",
    "\n",
    "# The chi-square test is only valid if most bins are filled\n",
    "# Increase the number of transcripts if there are too many empty bins\n",
    "\n",
    "null_hypothesis = stats.chi_square_equal(real_samples, fake_samples)\n",
    "print()\n",
    "\n",
    "if null_hypothesis:\n",
    "    print(\"Real and fake transcripts are the same distribution.\")\n",
    "    print(\"Victor learns nothing 👌\")\n",
    "else:\n",
    "    print(\"Real and fake transcripts are different distributions.\")\n",
    "    print(\"Victor might learn something 😧\")\n",
    "\n",
    "stats.plot_comparison(real_samples, fake_samples, \"real\", \"fake\")"
   ]
  },
  {
   "cell_type": "code",
   "execution_count": null,
   "id": "304e2bb6",
   "metadata": {},
   "outputs": [],
   "source": []
  }
 ],
 "metadata": {
  "kernelspec": {
   "display_name": "Python 3 (ipykernel)",
   "language": "python",
   "name": "python3"
  },
  "language_info": {
   "codemirror_mode": {
    "name": "ipython",
    "version": 3
   },
   "file_extension": ".py",
   "mimetype": "text/x-python",
   "name": "python",
   "nbconvert_exporter": "python",
   "pygments_lexer": "ipython3",
   "version": "3.10.11"
  }
 },
 "nbformat": 4,
 "nbformat_minor": 5
}
