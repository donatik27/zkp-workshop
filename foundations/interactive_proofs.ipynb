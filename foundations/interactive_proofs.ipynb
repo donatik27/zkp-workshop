{
 "cells": [
  {
   "cell_type": "markdown",
   "id": "a1b55267",
   "metadata": {},
   "source": [
    "# Interactive proofs\n",
    "\n",
    "In this chapter we explain what interactive proofs are.\n",
    "\n",
    "Virtually every part of the workshop depends on this concept, so this chapter is a must read.\n",
    "\n",
    "Read the TL;DR part if you are short on time. Read the rest for more info."
   ]
  },
  {
   "cell_type": "markdown",
   "id": "0283982c",
   "metadata": {},
   "source": [
    "# TL;DR\n",
    "\n",
    "An interactive proof is a game between two players. We call them Peggy and Victor.\n",
    "\n",
    "Peggy wants to convince Victor of a statement.\n",
    "\n",
    "Victor isn't gullible so he wants to see evindence before accepting the statement as true.\n",
    "\n",
    "Peggy wins if she can convince Victor. Victor wins if he accepts true statements and rejects false statements.\n",
    "\n",
    "There is the good case where Peggy is honest. Her statement is true. Victor wins if he accepts, which means Peggy also wins. Everybody is happy 😊\n",
    "\n",
    "And then there is the evil case where Peggy is lying. Her statement is false. The winning conditions are asymmetric, so only one party can win this time. If Victor exposes the lie, he wins and Peggy loses. If Peggy fools Victor into accepting, she wins and he loses. This feels like a zero-sum game 😕\n",
    "\n",
    "Interactive proofs are designed to make the evil case expensive for Peggy. She is motivated to be honest and everybody wins."
   ]
  },
  {
   "cell_type": "markdown",
   "id": "8e29d1e6",
   "metadata": {},
   "source": [
    "# Jupyter setup\n",
    "\n",
    "Run the following snippet to set up your jupyter notebook for the workshop."
   ]
  },
  {
   "cell_type": "code",
   "execution_count": null,
   "id": "15b9a0d0",
   "metadata": {},
   "outputs": [],
   "source": [
    "import sys\n",
    "\n",
    "# Add project root so we can import local modules\n",
    "root_dir = sys.path.append(\"..\")\n",
    "sys.path.append(root_dir)"
   ]
  },
  {
   "cell_type": "markdown",
   "id": "0f2a4842",
   "metadata": {},
   "source": [
    "# Statements\n",
    "\n",
    "A statement is any precise mathematical fact that can be true or false.\n",
    "\n",
    "\"1 + 1 = 2\"\n",
    "\n",
    "\"2 + 2 = 5\"\n",
    "\n",
    "_Statements don't have to be true._\n",
    "\n",
    "\"A cube is a 3D object\"\n",
    "\n",
    "\"This puzzle has a solution\"\n",
    "\n",
    "\"I know the solution to this puzzle\"\n",
    "\n",
    "The last one is interesting because it talks about knowledge of something. Later we will make this mathematically precise."
   ]
  },
  {
   "cell_type": "code",
   "execution_count": null,
   "id": "b0c61339",
   "metadata": {},
   "outputs": [],
   "source": [
    "# We will use this statement for our exercises\n",
    "\n",
    "# \"I know a number x such that 2 + x = 5\"\n",
    "def statement(witness):\n",
    "    return 2 + witness == 5"
   ]
  },
  {
   "cell_type": "markdown",
   "id": "0424ba57",
   "metadata": {},
   "source": [
    "# Does an honest Prover always win?\n",
    "\n",
    "If the Prover is honest, then it should be able to convince the Verifier. The Verifier has to play along instead of rejecting every attempt.\n",
    "\n",
    "This should work almost all the time. Prover and Verifier are probabilistic algorithms.\n",
    "\n",
    "We call this **completeness** and it is one of three important properties of interactive proof systems."
   ]
  },
  {
   "cell_type": "markdown",
   "id": "7042fde7",
   "metadata": {},
   "source": [
    "## Exercise\n",
    "\n",
    "What is a simple protocol for our statement that is complete?"
   ]
  },
  {
   "cell_type": "code",
   "execution_count": null,
   "id": "14172715",
   "metadata": {},
   "outputs": [],
   "source": [
    "class CompleteProver:\n",
    "    def send(self):\n",
    "        pass  # TODO: What to send?\n",
    "        \n",
    "class CompleteVerifier:\n",
    "    def verify(self, x):\n",
    "        pass  # TODO: How to verify?\n",
    "        \n",
    "prover = CompleteProver()\n",
    "verifier = CompleteVerifier()\n",
    "x = prover.send()\n",
    "\n",
    "if verifier.verify(x):\n",
    "    print(\"Convinced 👌\")\n",
    "else:\n",
    "    print(\"Not convinced... 🤨\")"
   ]
  },
  {
   "cell_type": "markdown",
   "id": "118ed37d",
   "metadata": {},
   "source": [
    "# Does a vigilant Verifier never lose?\n",
    "\n",
    "If the Prover is dishonest, it shouldn't be able to deceive the Verifier. Even if the Prover disregards the protocol. The Verifier has to do minimal checking instead of accepting every attempt.\n",
    "\n",
    "Again, this should work most of the time.\n",
    "\n",
    "We call this **soundness** and it is the second important property of interactive proof systems."
   ]
  },
  {
   "cell_type": "markdown",
   "id": "1c852796",
   "metadata": {},
   "source": [
    "## Exercise\n",
    "\n",
    "What is a simple protocol for our statement that is sound but incomplete?"
   ]
  },
  {
   "cell_type": "code",
   "execution_count": null,
   "id": "98544706",
   "metadata": {},
   "outputs": [],
   "source": [
    "class SoundProver:\n",
    "    def send(self):\n",
    "        pass  # TODO: What to send?\n",
    "        \n",
    "class SoundVerifier:\n",
    "    def verify(self, x):\n",
    "        pass  # TODO: How to verify?\n",
    "        \n",
    "prover = SoundProver()\n",
    "verifier = SoundVerifier()\n",
    "x = prover.send()\n",
    "\n",
    "if verifier.verify(x):\n",
    "    print(\"Convinced 👌\")\n",
    "else:\n",
    "    print(\"Not convinced... 🤨\")"
   ]
  },
  {
   "cell_type": "markdown",
   "id": "5f75829a",
   "metadata": {},
   "source": [
    "## Exercise\n",
    "\n",
    "What is a simple protocol for our statement that is sound and complete?\n",
    "\n",
    "Combining soundness and completeness makes it much harder to \"cheat\" in protocol design."
   ]
  },
  {
   "cell_type": "code",
   "execution_count": null,
   "id": "f01a9206",
   "metadata": {},
   "outputs": [],
   "source": [
    "class CorrectProver:\n",
    "    def send(self):\n",
    "        pass  # TODO: What to send?\n",
    "        \n",
    "class CorrectVerifier:\n",
    "    def verify(self, x):\n",
    "        pass  # TODO: How to verify?\n",
    "        \n",
    "prover = CorrectProver()\n",
    "verifier = CorrectVerifier()\n",
    "x = prover.send()\n",
    "\n",
    "if verifier.verify(x):\n",
    "    print(\"Convinced 👌\")\n",
    "else:\n",
    "    print(\"Not convinced... 🤨\")"
   ]
  },
  {
   "cell_type": "markdown",
   "id": "15fd5979",
   "metadata": {},
   "source": [
    "# Knowledge of something\n",
    "\n",
    "Prover and Verifier are algorithms. What does it mean for them to \"know\" something?\n",
    "\n",
    "Think of it this way: **An algorithm knows what it can (easily) compute.**\n",
    "\n",
    "Obviously it knows its initial data and anything passed to it from the outside world.\n",
    "\n",
    "It learns new knowledge by computing new values based on what it already knows. This makes sense: Humans also make these deriviations.\n",
    "\n",
    "Is there a commonly accepted definition for an \"easy\" computation? Yes! **Polynomial computations**.\n",
    "\n",
    "Polynomial computations _(the complexity class P)_ are seen as easy / feasible / efficient. Addition is easy. Finding a path between two points in a graph is easy. Verifying the solution to a sudoku is easy.\n",
    "\n",
    "The opposite are exponential computations _(the complexity class NP)_ which are seen as hard / infeasible / inefficient. Finding the shortest path that visits all points in a graph exactly once is hard. Coming up with a solution to a sudoku is hard. Computing the discrete logarithm of a curve point is hard.\n",
    "\n",
    "An algorithm can learn polynomially, but not exponentially. Exponential learning would be cheating. A human equivalent would be to come up with mathematical proofs of artistic masterpieces on the spot. Some humans do that, sometimes, but we don't want to assume that our algorithms are geniuses! Also, exponential power would far surpass even the greatest human geniuses."
   ]
  },
  {
   "cell_type": "markdown",
   "id": "9aa603c8",
   "metadata": {},
   "source": [
    "# Extracting knowledge as proof of knowledge\n",
    "\n",
    "The Verifier wants to accept only if the Prover really knows what it claims to know. How can we make sure of that?\n",
    "\n",
    "We do a thought experiment: The Prover is a black box that claims to contain a secret. We are the Verifier and would like to learn the secret. If we can interact with this box through the protocol to learn the secret, then the box must have contained it to begin with!\n",
    "\n",
    "In the physical world this is obvious, but there is some interesting logic in the mathematical world.\n",
    "\n",
    "In the beginning, the Verifier doesn't know the secret. No polynomial computation leads to it. Then the Verifier interacts with the Prover in a _polynomial_ way. The Verifier is not allowed to do any genius-level exponential stuff. This interaction is one of the aforementioned polynomial computations, but this time the Prover is there. The Verifier learns the secret. Ergo, the secret came from the Prover!"
   ]
  },
  {
   "cell_type": "markdown",
   "id": "a5839d56",
   "metadata": {},
   "source": [
    "# Zero knowledge\n",
    "\n",
    "The Prover wants to convince the Verifier without revealing any information. This seems impossible.\n",
    "\n",
    "Let's rephrase the task: The Verifier is not supposed to learn anything that it doesn't already know.\n",
    "\n",
    "We do another thought experiment: At the start of the protocol, the Verifier knows what it can compute in polynomial time, without access to the Prover. We show that anything the Verifier might learn during the protocol, the Verifier already knew before the protocol started!\n",
    "\n",
    "Our protocols are probabilistic, so our situation is slightly more complicated.\n",
    "\n",
    "Prover and Verifier exchange messages, called the transcript. This randomly changes every time, so we have a random distribution of transcripts. The Verifier uses some algorithm to extract information from this distribution.\n",
    "\n",
    "If the incoming distribution of transcripts is the same, then the outgoing distribution of extracted information is the same.\n",
    "\n",
    "To show that the Verifier already knew everything it could extract, we show that the Verifier can compute identical-looking transcripts. This happens without access to the Prover and in polynomial time.\n",
    "\n",
    "Ergo, the Verifier ends up extracting information that it already knows and our protocol is zero-knowledge."
   ]
  },
  {
   "cell_type": "code",
   "execution_count": null,
   "id": "a8cbb699",
   "metadata": {},
   "outputs": [],
   "source": []
  }
 ],
 "metadata": {
  "kernelspec": {
   "display_name": "Python 3 (ipykernel)",
   "language": "python",
   "name": "python3"
  },
  "language_info": {
   "codemirror_mode": {
    "name": "ipython",
    "version": 3
   },
   "file_extension": ".py",
   "mimetype": "text/x-python",
   "name": "python",
   "nbconvert_exporter": "python",
   "pygments_lexer": "ipython3",
   "version": "3.10.11"
  }
 },
 "nbformat": 4,
 "nbformat_minor": 5
}
