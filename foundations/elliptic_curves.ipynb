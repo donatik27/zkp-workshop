{
 "cells": [
  {
   "cell_type": "markdown",
   "id": "authentic-telling",
   "metadata": {},
   "source": [
    "# Elliptic curves\n",
    "\n",
    "In this chapter we demystify what elliptic curves are.\n",
    "\n",
    "The topic can seem complicated, but you don't need to dive infinitely deep into mathematics. Read the TL;DR part and you are good to go. Read the sections below to reinforce your understanding."
   ]
  },
  {
   "cell_type": "markdown",
   "id": "9c85ea38",
   "metadata": {},
   "source": [
    "# TL;DR\n",
    "\n",
    "I just want to use elliptic curves. I want to understand **what** they do, not **how**. Great, you are in good company. Even experts treat curves as a black box that does what you expect. Have you ever driven a car? It's a thing that moves you around. You don't need to hold an engineering degree to understand that. That is the **what**. Could you ever build a car? No! That is the **how**.\n",
    "\n",
    "Elliptic curves are a set of 2D points. Each point has a number attached to it: There is a zeroth point, a first point, a second point, and so on. You can add these points like integers: The first point plus the second point equals the third point: 1 + 2 = 3; and so on. So the curve points behave like integers.\n",
    "\n",
    "There is one important difference from integers: If you see a point (its x and y coordinates), then it is difficult to know the number of this point. Is it the first point, the tenth, the thousandth? We cannot do division like for integers. We have to add the first point onto itself 1 + 1 + ... until we reach the point that we saw. This is fast for a few million iterations, but what if we have 2^256 many points? Oops, this takes longer than the universe will last!\n",
    "\n",
    "This is some intuition.\n",
    "\n",
    "**What** does it mean that points behave like integers? **Why** can we not do division? We will cover this below.\n",
    "\n",
    "**Why** do points behave like integers? This is so complex that we will not explain it here. Honestly, I don't know myself."
   ]
  },
  {
   "cell_type": "markdown",
   "id": "99dd58d7",
   "metadata": {},
   "source": [
    "# Jupyter setup\n",
    "\n",
    "Run the following snippet to set up your jupyter notebook for the workshop."
   ]
  },
  {
   "cell_type": "code",
   "execution_count": null,
   "id": "8d3837ce",
   "metadata": {},
   "outputs": [],
   "source": [
    "import sys\n",
    "\n",
    "# Add project root so we can import local modules\n",
    "root_dir = sys.path.append(\"..\")\n",
    "sys.path.append(root_dir)"
   ]
  },
  {
   "cell_type": "markdown",
   "id": "58a6be67",
   "metadata": {},
   "source": [
    "# Curve in real 2D space\n",
    "\n",
    "I chose a particular curve for us to work with. There are many different curves and I chose one with good properties. Trust me :)\n",
    "\n",
    "This is what our curve looks like in real 2D space. That is, the coordinates are real numbers.\n",
    "\n",
    "We can clearly see the curvy nature of our equation. It looks like a curve!\n",
    "\n",
    "Sadly, real space is not very useful to us. In particular, we cannot add points like integers in this space. Sad."
   ]
  },
  {
   "cell_type": "code",
   "execution_count": null,
   "id": "801cbc15",
   "metadata": {},
   "outputs": [],
   "source": [
    "import plot_curve_real\n",
    "\n",
    "plot_curve_real.plot()"
   ]
  },
  {
   "cell_type": "markdown",
   "id": "add8ad2f",
   "metadata": {},
   "source": [
    "# Curve in finite 2D space\n",
    "\n",
    "I also chose a finite space for us to work with. Again, good properties :)\n",
    "\n",
    "Most importantly, the space is tiny: Just $7 \\times 7 = 49$ points! This it not secure (at all), but it will be useful to show some properties that would be hard to show for very large spaces.\n",
    "\n",
    "This is what our curve looks like our finite space. Each black square is a point with the point number printed on."
   ]
  },
  {
   "cell_type": "code",
   "execution_count": null,
   "id": "9f25a887",
   "metadata": {},
   "outputs": [],
   "source": [
    "import plot_curve_finite\n",
    "\n",
    "plot_curve_finite.plot()"
   ]
  },
  {
   "cell_type": "markdown",
   "id": "4aa3d591",
   "metadata": {},
   "source": [
    "# Coordinates\n",
    "\n",
    "Curves consist of points. Points have coordinates.\n",
    "\n",
    "Coordinates are natural numbers from zero up to some maximum. They cannot be arbitrarily large. If you go over the maximum then you end back at the beginning (zero). Think of a clock where twelve is equal to zero, thirteen is equal to one, and so on. This is called modular arithmetic."
   ]
  },
  {
   "cell_type": "code",
   "execution_count": null,
   "id": "bac12c30",
   "metadata": {},
   "outputs": [],
   "source": [
    "from local.ec.core import Coordinate, MAX_COORDINATE\n",
    "\n",
    "print(f\"Coordinates range from 0 to {MAX_COORDINATE}\\n\")\n",
    "\n",
    "x = Coordinate(10)\n",
    "print(f\"x = {x}\")\n",
    "\n",
    "y = Coordinate(MAX_COORDINATE)\n",
    "print(f\"y = {y}\")\n",
    "\n",
    "z = x + y\n",
    "print(f\"x + y = {z}\")"
   ]
  },
  {
   "cell_type": "markdown",
   "id": "sharp-rider",
   "metadata": {},
   "source": [
    "# Points\n",
    "\n",
    "Points live in 2D space. That is, they have x and y coordinates.\n",
    "\n",
    "Each point has a number associated with it. For now, we don't know much about this number.\n",
    "\n",
    "We write points as uppercase letters like so: $A, B, C$."
   ]
  },
  {
   "cell_type": "code",
   "execution_count": null,
   "id": "bigger-scheduling",
   "metadata": {},
   "outputs": [],
   "source": [
    "from local.ec.core import AffinePoint, random_point\n",
    "\n",
    "A = random_point()\n",
    "B = random_point()\n",
    "C = random_point()\n",
    "\n",
    "print(f\"A = {A}\")\n",
    "print(f\"B = {B}\")\n",
    "print(f\"C = {C}\")"
   ]
  },
  {
   "cell_type": "markdown",
   "id": "printable-cisco",
   "metadata": {},
   "source": [
    "# Addition\n",
    "\n",
    "We can add two points $A$ and $B$ to obtain a sum point $A + B$.\n",
    "\n",
    "This point addition is different from adding the x and y coordinates! We plug in two points with some coordinates and we get out a point with entirely different coordinates! The result jumps around the 2D plane in unpredictable ways. More on this later. For now, treat point addition as a black box that adds points.\n",
    "\n",
    "If $a$ is the number of $A$ and $b$ is the number of $B$, then $a + b$ is the number of $A + B$."
   ]
  },
  {
   "cell_type": "code",
   "execution_count": null,
   "id": "brief-consideration",
   "metadata": {},
   "outputs": [],
   "source": [
    "Sum = A + B\n",
    "print(f\"  A + B\\n= {A} + {B}\\n= {Sum}\")"
   ]
  },
  {
   "cell_type": "markdown",
   "id": "convenient-encyclopedia",
   "metadata": {},
   "source": [
    "# Zero\n",
    "\n",
    "There is a point $O$ that has the number zero. We call it the zero point.\n",
    "\n",
    "As expected, adding $O$ to any point $A$ gives us back the same point:\n",
    "\n",
    "$A + O = O + A = A$.\n",
    "\n",
    "For technical reasons, $O$ doesn't have xy coordinates. It is also called the \"point at infinity\". All you need to know is that it is a special point with the number zero.\n",
    "\n",
    "We call it \"$O$\" (letter o) because it looks like \"0\" (number zero)."
   ]
  },
  {
   "cell_type": "code",
   "execution_count": null,
   "id": "absent-microwave",
   "metadata": {},
   "outputs": [],
   "source": [
    "from local.ec.core import ZERO_POINT\n",
    "\n",
    "print(f\"Zero = {ZERO_POINT}\\n\")\n",
    "\n",
    "Sum1 = A + ZERO_POINT\n",
    "Sum2 = ZERO_POINT + A\n",
    "\n",
    "assert Sum1 == A\n",
    "print(\"A + Zero = A\")\n",
    "\n",
    "assert Sum2 == A\n",
    "print(\"Zero + A = A\")"
   ]
  },
  {
   "cell_type": "markdown",
   "id": "advance-preserve",
   "metadata": {},
   "source": [
    "# One\n",
    "\n",
    "There is a point $I$ that has the number one. We call it the one point.\n",
    "\n",
    "Adding $I$ onto $O$ gives $I$. Adding $I$ to $I$ gives the second point. Adding $I$ onto the second point gives the third point, and so on.\n",
    "\n",
    "We call it \"$I$\" (letter i) because it looks like \"1\" (number one)."
   ]
  },
  {
   "cell_type": "code",
   "execution_count": null,
   "id": "regulation-column",
   "metadata": {},
   "outputs": [],
   "source": [
    "from local.ec.core import ONE_POINT\n",
    "\n",
    "print(f\"One = {ONE_POINT}\\n\")\n",
    "\n",
    "current = ZERO_POINT\n",
    "\n",
    "for i in range(10):\n",
    "    print(f\"{i}th point: {current}\")\n",
    "    current += ONE_POINT"
   ]
  },
  {
   "cell_type": "markdown",
   "id": "9e975f9c",
   "metadata": {},
   "source": [
    "# Iterating over the curve\n",
    "\n",
    "Every point has a number. Adding the one point $I$ onto some point $A$ with number $a$ gives a point $I + A$ that has number $1 + a$.\n",
    "\n",
    "Like with coordinates, the number of points is limited. There is a \"largest\" or \"last\" point, let's call it $Z$, that has the highest number $z$. If we add $I$ to $Z$, we end up at the zero point $I + Z = O$ again. Again, this is like a clock where twelve is equal to zero and thirteen is equal to one.\n",
    "\n",
    "We can add $I$ onto itself to iterate over all points in order: zeroth, first, second, ... We are guaranteed to reach all points like this. This might seem obvious, but this is not always the case. Here it is the case because the number of points $n = z + 1$ is a prime number."
   ]
  },
  {
   "cell_type": "code",
   "execution_count": null,
   "id": "50683b9f",
   "metadata": {},
   "outputs": [],
   "source": [
    "from local.ec.core import NUMBER_POINTS\n",
    "from local.primes import is_prime\n",
    "\n",
    "print(f\"Number of points = {NUMBER_POINTS}\")\n",
    "\n",
    "assert is_prime(NUMBER_POINTS)\n",
    "print(f\"{NUMBER_POINTS} is prime\\n\")\n",
    "\n",
    "current = ZERO_POINT\n",
    "\n",
    "for i in range(30):\n",
    "    print(f\"{i:2}th point = {i % NUMBER_POINTS:2}th point: {current}\")\n",
    "    \n",
    "    current = current + ONE_POINT\n",
    "    if current == ZERO_POINT:\n",
    "        print(\"\\nThe cycle repeats\")"
   ]
  },
  {
   "cell_type": "markdown",
   "id": "comfortable-breath",
   "metadata": {},
   "source": [
    "# Parentheses\n",
    "\n",
    "Parentheses don't matter.\n",
    "\n",
    "We can add points $A$ and $B$ first and then add their sum to point $C$. We can add points $B$ and $C$ first and then add their sum to point $A$. We arrive at the same point in both cases.\n",
    "\n",
    "This means we can omit parentheses altogether:\n",
    "\n",
    "$(A + B) + C = A + (B + C) = A + B + C$."
   ]
  },
  {
   "cell_type": "code",
   "execution_count": null,
   "id": "blocked-murray",
   "metadata": {},
   "outputs": [],
   "source": [
    "Sum1 = (A + B) + C\n",
    "Sum2 = A + (B + C)\n",
    "Sum3 = A + B + C\n",
    "\n",
    "assert Sum1 == Sum2\n",
    "print(\"(A + B) + C = A + (B + C)\")\n",
    "\n",
    "assert Sum2 == Sum3\n",
    "print(\"A + (B + C) = A + B + C\")"
   ]
  },
  {
   "cell_type": "markdown",
   "id": "competent-mobile",
   "metadata": {},
   "source": [
    "# Order\n",
    "\n",
    "Order doesn't matter.\n",
    "\n",
    "Adding point $A$ to point $B$ is the same as adding point $B$ to point $A$:\n",
    "\n",
    "$A + B = B + A$."
   ]
  },
  {
   "cell_type": "code",
   "execution_count": null,
   "id": "secondary-fraud",
   "metadata": {},
   "outputs": [],
   "source": [
    "Sum1 = A + B\n",
    "Sum2 = B + A\n",
    "\n",
    "assert Sum1 == Sum2\n",
    "print(\"A + B = B + A\")"
   ]
  },
  {
   "cell_type": "markdown",
   "id": "transparent-salem",
   "metadata": {},
   "source": [
    "# Minus\n",
    "\n",
    "Each point $A$ has an inverse point $-A$ (\"minus $A$\").\n",
    "\n",
    "Adding $A$ to $-A$ gives the zero point $O$:\n",
    "\n",
    "$A + (-A) = O$\n",
    "\n",
    "It is natural to write this as point negation:\n",
    "\n",
    "$A - A = O$\n",
    "\n",
    "Where this handy inverse point comes from is complicated. That is the **why** that I will only skim over. Roughly speaking, the inverse comes from the properties of point addition.\n",
    "\n",
    "Looking at point $A$, it is not obvious what its inverse should be. Looking at the coordinates of two points $A$ and $B$, it is hard to see if they are inverses of each other. The inverse is similarly chaotic as point addition. That being said, we can compute the inverse of a point somewhat efficiently."
   ]
  },
  {
   "cell_type": "code",
   "execution_count": null,
   "id": "apparent-humanitarian",
   "metadata": {},
   "outputs": [],
   "source": [
    "MinusA = -A\n",
    "print(f\" A = {A}\")\n",
    "print(f\"-A = {MinusA}\\n\")\n",
    "\n",
    "Sum1 = A + MinusA\n",
    "Sum2 = A - A\n",
    "\n",
    "assert Sum1 == ZERO_POINT\n",
    "print(\"A + (-A) = Zero\")\n",
    "\n",
    "assert Sum2 == ZERO_POINT\n",
    "print(\"A - A = Zero\")"
   ]
  },
  {
   "cell_type": "markdown",
   "id": "united-independence",
   "metadata": {},
   "source": [
    "# Scalars\n",
    "\n",
    "We have been talking about the numbers of points. Theses numbers are called scalars.\n",
    "\n",
    "Points behave like integers. Scalars **are** literally integers: You can add, subtract, multiply, divide and do all the beautiful things you can do with integers.\n",
    "\n",
    "There are as many scalars as there are points, so $n$ many. All scalar operations are modulo $n$.\n",
    "\n",
    "We write scalars as lowercase letters like so: $a, b, c$."
   ]
  },
  {
   "cell_type": "code",
   "execution_count": null,
   "id": "published-canon",
   "metadata": {},
   "outputs": [],
   "source": [
    "from local.ec.core import Scalar, random_scalar\n",
    "\n",
    "a = random_scalar()\n",
    "b = random_scalar()\n",
    "\n",
    "print(\"{} + {} = {}\".format(a, b, a + b))\n",
    "print(\"{} - {} = {}\".format(a, b, a - b))\n",
    "print(\"{} * {} = {}\".format(a, b, a * b))\n",
    "print(\"{} / {} = {}\".format(a, b, a / b))"
   ]
  },
  {
   "cell_type": "markdown",
   "id": "convinced-toolbox",
   "metadata": {},
   "source": [
    "# Multiplication\n",
    "\n",
    "Let $A$ be a point with number $a$ and $B$ be a point with number $b$.\n",
    "\n",
    "This means $A$ can be obtained by adding $I$ onto itself $a$ many times: $A = I + I + \\ldots + I$ ($a$ many times). Similarly, $B$ is obtained by adding $I$ onto itself $b$ many times.\n",
    "\n",
    "Adding $A$ to $B$ results in a point $A + B$ with number $a + b$. Point addition implicitly performs an addition of point numbers.\n",
    "\n",
    "We can use scalars to directly work on point numbers:\n",
    "\n",
    "$A = a * I$\n",
    "\n",
    "$B = b * I$\n",
    "\n",
    "$A + B = (a * I) + (b * I) = (a + b) * I$\n",
    "\n",
    "This is called scalar multiplication."
   ]
  },
  {
   "cell_type": "code",
   "execution_count": null,
   "id": "massive-ecology",
   "metadata": {},
   "outputs": [],
   "source": [
    "A = a * ONE_POINT\n",
    "B = b * ONE_POINT\n",
    "\n",
    "print(f\"A = {A} = {a} * {ONE_POINT}\")\n",
    "print(f\"B = {B} = {b} * {ONE_POINT}\\n\")\n",
    "\n",
    "Sum = A + B\n",
    "\n",
    "print(f\"A + B = {Sum}\\n\")\n",
    "\n",
    "SumAlt = (a + b) * ONE_POINT\n",
    "\n",
    "assert Sum == SumAlt\n",
    "print(\"A + B = a * One + b * One = (a + b) * One\")"
   ]
  },
  {
   "cell_type": "markdown",
   "id": "dangerous-computer",
   "metadata": {},
   "source": [
    "# Pulling multiplication inside addition\n",
    "\n",
    "We can pull multiplication \"inside\" addition:\n",
    "\n",
    "$(a + b) * C = a * C + b * C$.\n",
    "\n",
    "You can add scalars $a$ and $b$ first and then multiply them with point $C$. You can multiply $a$ with $C$ and $b$ with $C$ first, and then add the resulting points. You arrive at the same point in both cases.\n",
    "\n",
    "Each point has a number, including $C = c * I$ for some $c$. Let's translate the above equation:\n",
    "\n",
    "The LHS means \"point number $(a + b) * c$\".\n",
    "\n",
    "The RHS means \"point number $a * c$ plus point number $a * c$\".\n",
    "\n",
    "Scalars are integers, so both sides describe the same point number $(a + b) * c = a * c + a * c$. So both sides describe the same point. So they are equal!"
   ]
  },
  {
   "cell_type": "code",
   "execution_count": null,
   "id": "53467670",
   "metadata": {},
   "outputs": [],
   "source": [
    "Sum1 = (a + b) * C\n",
    "Sum2 = a * C + b * C\n",
    "\n",
    "assert Sum1 == Sum2\n",
    "print(\"(a + b) * C = a * C + b * C\")"
   ]
  },
  {
   "cell_type": "markdown",
   "id": "basic-watershed",
   "metadata": {},
   "source": [
    "# Discrete logarithm\n",
    "\n",
    "The discrete logarithm takes a point $A$ and returns its number $a$:\n",
    "\n",
    "$A \\div I = a$\n",
    "\n",
    "It is the inverse operation of multiplying a point's number with $I$:\n",
    "\n",
    "$a * I = A$\n",
    "\n",
    "This is effectively division by $I$, but colloquially we call it logarithm.\n",
    "\n",
    "We could divide by other nonzero points, but this is uncommon."
   ]
  },
  {
   "cell_type": "code",
   "execution_count": null,
   "id": "accepted-mortgage",
   "metadata": {},
   "outputs": [],
   "source": [
    "a = Scalar(10)\n",
    "A = a * ONE_POINT\n",
    "\n",
    "A_div_One = A.discrete_log()\n",
    "\n",
    "assert a == A_div_One\n",
    "print(\"A ÷ One = (a * One) ÷ One = a\")"
   ]
  },
  {
   "cell_type": "markdown",
   "id": "vietnamese-round",
   "metadata": {},
   "source": [
    "# Hardness of the discrete logarithm\n",
    "\n",
    "Cryptography is interested in functions that are easy to compute but impossible to reverse. This is called a one-way function.\n",
    "\n",
    "Scalar multiplication is such a one-way function:\n",
    "\n",
    "We can compute $a * I = A$ somewhat fast. However, computing $A \\div I = a$ may take longer than the predicted lifetime of the universe. What went wrong?\n",
    "\n",
    "Point addition is not adding x and y coordinates. It is a somewhat magical operation that spits out very different coordinates than the input coordinates. If the inputs change, then the output changes chaotically and unpredictably. Same inputs always result in the same outputs, but a slight change in the inputs leads to a massive change in the output.\n",
    "\n",
    "Think of a hash function. It takes an input string and returns a fixed-length output string. Slight changes in the input string result in a completely different output string. At the same time, the same input always results in the same output. The output string is like a short fingerprint of the input. Point addition is like a hash function.\n",
    "\n",
    "When we compute the discrete logarithm, we only see a 2D point. We have no idea how many times point addition jumped across the 2D plane before it arrived here.\n",
    "\n",
    "![double pendulum that swings chaotically](../double-pendulum.gif)\n",
    "\n",
    "How many seconds did the pendulum swing before it arrived at a particular point?\n",
    "\n",
    "Ehm, I dunno. It could be a very short time, a very long time, or anything in between. The pendulum swings chaotically!"
   ]
  },
  {
   "cell_type": "markdown",
   "id": "ada814ad",
   "metadata": {},
   "source": [
    "# Guess the next point\n",
    "\n",
    "The sequence of points in order (first, second, third, ...) is pseudorandom. We cannot predict the coordinates of the next point based on the previous points.\n",
    "\n",
    "I prepared a guessing game. Look at the current point, guess where the next point will be and click next.\n",
    "\n",
    "Hint: **You will almost always lose 😈.**\n",
    "\n",
    "Interactive plots don't seem to work in jupyter, so you have to run this on the command line:\n",
    "\n",
    "```\n",
    "python3 hardness_dlog.py\n",
    "```\n",
    "\n",
    "The script uses a bigger curve than the one shown here to make it more interesting."
   ]
  },
  {
   "cell_type": "code",
   "execution_count": null,
   "id": "1a719ea7",
   "metadata": {},
   "outputs": [],
   "source": []
  }
 ],
 "metadata": {
  "kernelspec": {
   "display_name": "Python 3 (ipykernel)",
   "language": "python",
   "name": "python3"
  },
  "language_info": {
   "codemirror_mode": {
    "name": "ipython",
    "version": 3
   },
   "file_extension": ".py",
   "mimetype": "text/x-python",
   "name": "python",
   "nbconvert_exporter": "python",
   "pygments_lexer": "ipython3",
   "version": "3.10.11"
  }
 },
 "nbformat": 4,
 "nbformat_minor": 5
}
